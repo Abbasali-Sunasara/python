{
 "cells": [
  {
   "cell_type": "code",
   "execution_count": 3,
   "id": "1fe3ff59-d5be-404a-85ee-8bb953ed4858",
   "metadata": {},
   "outputs": [
    {
     "name": "stdout",
     "output_type": "stream",
     "text": [
      "{'A': 1, 'B': 2, 'C': 3}\n"
     ]
    }
   ],
   "source": [
    "dic={\"A\":1, \"B\":2, \"C\":3}\n",
    "print(dic)"
   ]
  },
  {
   "cell_type": "code",
   "execution_count": 6,
   "id": "58b2de44-cf29-4fd0-8083-d18f8eba5c6f",
   "metadata": {},
   "outputs": [
    {
     "name": "stdout",
     "output_type": "stream",
     "text": [
      "{1: 'Apple', 2: 'Ball', 3: 'Cat'}\n"
     ]
    }
   ],
   "source": [
    "dic1={1:\"Apple\", 2:\"Ball\", 3:\"Cat\"}\n",
    "print(dic1)"
   ]
  },
  {
   "cell_type": "code",
   "execution_count": 7,
   "id": "2cbe80ee-f39d-4f2a-ae06-cf31b37386e1",
   "metadata": {},
   "outputs": [
    {
     "name": "stdout",
     "output_type": "stream",
     "text": [
      "{1: (2, 3, 5), 'Name': 'Face', 4: [5, 7]}\n"
     ]
    }
   ],
   "source": [
    "d={1:(2,3,5), \"Name\":\"Face\", 4:[5,7]}\n",
    "print(d)"
   ]
  },
  {
   "cell_type": "code",
   "execution_count": 9,
   "id": "c45c899a-80e7-4749-8b3a-0cc44dbc4f84",
   "metadata": {},
   "outputs": [
    {
     "name": "stdout",
     "output_type": "stream",
     "text": [
      "{1: 2, 'Name': 'Abbas', 4: 5}\n"
     ]
    }
   ],
   "source": [
    "dic=dict([(1,2),(\"Name\",\"Abbas\"),(4,5)])\n",
    "print(dic)"
   ]
  },
  {
   "cell_type": "code",
   "execution_count": 10,
   "id": "b1446719-33d2-4624-bc5f-b8bbbb019ac1",
   "metadata": {},
   "outputs": [
    {
     "name": "stdout",
     "output_type": "stream",
     "text": [
      "{1: 'FACE', 2: 4, 3: {5: 'hello', 6: 9.5}}\n"
     ]
    }
   ],
   "source": [
    "dic={1:\"FACE\",2:4,3:{5:\"hello\",6:9.5}}\n",
    "print(dic)"
   ]
  },
  {
   "cell_type": "code",
   "execution_count": 13,
   "id": "d4e56f74-ba2c-4f98-9641-b23a004c4fa0",
   "metadata": {},
   "outputs": [
    {
     "name": "stdout",
     "output_type": "stream",
     "text": [
      "{0: 'Apple', 1: 'Hard', 2: 'Work'}\n",
      "{0: 'Apple', 1: 'Hard', 2: 'Work', 'new_set': (1, 5, 8)}\n"
     ]
    }
   ],
   "source": [
    "dic={}\n",
    "dic[0]=\"Apple\"\n",
    "dic[1]=\"Hard\"\n",
    "dic[2]=\"Work\"\n",
    "print(dic)\n",
    "dic['new_set']=1,5,8\n",
    "print(dic)\n"
   ]
  },
  {
   "cell_type": "code",
   "execution_count": 16,
   "id": "9c60f5a3-73ee-470f-890c-7f3a66b5891a",
   "metadata": {},
   "outputs": [
    {
     "name": "stdout",
     "output_type": "stream",
     "text": [
      "{0: 'Apple', 1: 'Hard', 2: 'Work'}\n",
      "{0: 'google', 1: 'Hard', 2: 'Work'}\n"
     ]
    }
   ],
   "source": [
    "dic={}\n",
    "dic[0]=\"Apple\"\n",
    "dic[1]=\"Hard\"\n",
    "dic[2]=\"Work\"\n",
    "print(dic)\n",
    "dic[0]=\"google\"\n",
    "print(dic)"
   ]
  },
  {
   "cell_type": "code",
   "execution_count": 17,
   "id": "fb88ffdc-5d1e-444e-b6a1-9c0cc437dba1",
   "metadata": {},
   "outputs": [
    {
     "name": "stdout",
     "output_type": "stream",
     "text": [
      "Apple\n"
     ]
    }
   ],
   "source": [
    "dic={}\n",
    "dic[0]=\"Apple\"\n",
    "dic[1]=\"Hard\"\n",
    "dic[2]=\"Work\"\n",
    "print(dic[0])"
   ]
  },
  {
   "cell_type": "code",
   "execution_count": 10,
   "id": "0d6826be-2e93-4c7a-97d1-0cf1bd36ea6a",
   "metadata": {},
   "outputs": [
    {
     "name": "stdout",
     "output_type": "stream",
     "text": [
      "{1: {'Square': 1, 'cube': 1}, 2: {'Square': 4, 'cube': 8}, 3: {'Square': 9, 'cube': 27}, 4: {'Square': 16, 'cube': 64}}\n"
     ]
    }
   ],
   "source": [
    "numbers=[1,2,3,4]\n",
    "nested_dict={x:{'Square':x**2,'cube':x**3}for x in numbers}\n",
    "print(nested_dict)\n",
    "\n",
    "   "
   ]
  },
  {
   "cell_type": "code",
   "execution_count": 12,
   "id": "09c34dec-d0f3-4eeb-8601-5d37eecedbc9",
   "metadata": {},
   "outputs": [
    {
     "name": "stdout",
     "output_type": "stream",
     "text": [
      "{'a': 1, 'c': 3}\n"
     ]
    }
   ],
   "source": [
    "keys=['a','b','c','d']\n",
    "values=[1,2,3,4]\n",
    "filtered_dict={keys[i]:values[i] for i in range(len(keys)) if i % 2==0}\n",
    "print(filtered_dict)"
   ]
  },
  {
   "cell_type": "code",
   "execution_count": 13,
   "id": "f250781e-aeb3-4d71-9179-0573686ad000",
   "metadata": {},
   "outputs": [
    {
     "name": "stdout",
     "output_type": "stream",
     "text": [
      "{'a': 1, 'b': 2, 'c': 3}\n"
     ]
    }
   ],
   "source": [
    "tuples=[('a',1),('b',2),('c',3)]\n",
    "my_dict={key:value for key, value in tuples}\n",
    "print(my_dict)"
   ]
  },
  {
   "cell_type": "code",
   "execution_count": 14,
   "id": "1844cd9f-3223-4d7f-a3b7-745d15ed1260",
   "metadata": {},
   "outputs": [
    {
     "name": "stdout",
     "output_type": "stream",
     "text": [
      "{'a': 1, 'b': 2, 'c': 3, 'd': 0}\n"
     ]
    }
   ],
   "source": [
    "keys=['a','b','c','d']\n",
    "values=[1,2,3]\n",
    "my_dict={k:values[i] if i < len(values) else 0 for i, k in enumerate(keys)}\n",
    "print(my_dict)"
   ]
  },
  {
   "cell_type": "code",
   "execution_count": null,
   "id": "0c6c9661-752b-403e-9408-270c829fcf4e",
   "metadata": {},
   "outputs": [],
   "source": []
  }
 ],
 "metadata": {
  "kernelspec": {
   "display_name": "Python 3 (ipykernel)",
   "language": "python",
   "name": "python3"
  },
  "language_info": {
   "codemirror_mode": {
    "name": "ipython",
    "version": 3
   },
   "file_extension": ".py",
   "mimetype": "text/x-python",
   "name": "python",
   "nbconvert_exporter": "python",
   "pygments_lexer": "ipython3",
   "version": "3.12.2"
  }
 },
 "nbformat": 4,
 "nbformat_minor": 5
}
