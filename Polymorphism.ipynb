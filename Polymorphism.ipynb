{
 "cells": [
  {
   "cell_type": "code",
   "execution_count": 3,
   "id": "44fbbda1-eb18-4be1-bacc-05dcdc1db835",
   "metadata": {},
   "outputs": [
    {
     "name": "stdout",
     "output_type": "stream",
     "text": [
      "The generic sound\n",
      "barks\n",
      "Meow\n"
     ]
    }
   ],
   "source": [
    "# METHOD OVERRIDING\n",
    "\n",
    "class Animal:\n",
    "    def sound(self):\n",
    "        print(\"The generic sound\")\n",
    "\n",
    "class dog:\n",
    "    def sound(self):\n",
    "        print(\"barks\")\n",
    "\n",
    "class cat:\n",
    "    def sound(self):\n",
    "        print(\"Meow\")\n",
    "\n",
    "\n",
    "a=Animal()\n",
    "a.sound()\n",
    "d=dog()\n",
    "d.sound()\n",
    "c=cat()\n",
    "c.sound()\n",
    "        "
   ]
  },
  {
   "cell_type": "code",
   "execution_count": 25,
   "id": "216e6d31-c473-40ac-b6c8-d49eea57dd2a",
   "metadata": {},
   "outputs": [
    {
     "name": "stdout",
     "output_type": "stream",
     "text": [
      "5\n",
      "11\n",
      "15\n",
      "25\n"
     ]
    }
   ],
   "source": [
    "#METHOD OVERLOADING\n",
    "\n",
    "class calculator:\n",
    "    def add(self,*args):\n",
    "        return sum(args)\n",
    "\n",
    "\n",
    "def main():\n",
    " result=calculator()\n",
    " print(result.add(5))\n",
    " print(result.add(5,6))\n",
    " print(result.add(5,5,5))\n",
    " print(result.add(5,5,5,10))\n",
    "\n",
    "main()"
   ]
  },
  {
   "cell_type": "code",
   "execution_count": 29,
   "id": "2c48664e-3ec5-43bc-83b1-ae490a357fcb",
   "metadata": {},
   "outputs": [
    {
     "name": "stdout",
     "output_type": "stream",
     "text": [
      "0.0\n"
     ]
    }
   ],
   "source": [
    "class area:\n",
    "    def cal(self,a=2,b=3.14,r=0):\n",
    "       return a*b*r\n",
    "\n",
    "def main():\n",
    " ar=area()\n",
    " print(ar.cal(5))   \n",
    "\n",
    "main()"
   ]
  },
  {
   "cell_type": "code",
   "execution_count": null,
   "id": "e3dbd087-dde2-4d3b-ba1f-b005fd0861b2",
   "metadata": {},
   "outputs": [],
   "source": []
  }
 ],
 "metadata": {
  "kernelspec": {
   "display_name": "Python 3 (ipykernel)",
   "language": "python",
   "name": "python3"
  },
  "language_info": {
   "codemirror_mode": {
    "name": "ipython",
    "version": 3
   },
   "file_extension": ".py",
   "mimetype": "text/x-python",
   "name": "python",
   "nbconvert_exporter": "python",
   "pygments_lexer": "ipython3",
   "version": "3.12.2"
  }
 },
 "nbformat": 4,
 "nbformat_minor": 5
}
