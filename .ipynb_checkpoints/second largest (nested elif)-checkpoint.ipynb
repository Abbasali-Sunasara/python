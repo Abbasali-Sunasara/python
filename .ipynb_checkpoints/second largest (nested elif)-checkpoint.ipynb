{
 "cells": [
  {
   "cell_type": "code",
   "execution_count": 5,
   "id": "c8c62d24-f4f9-4676-af52-14250654f042",
   "metadata": {},
   "outputs": [
    {
     "name": "stdin",
     "output_type": "stream",
     "text": [
      "Enter the number a 12\n",
      "Enter the number b 13\n",
      "Enter the number c 15\n"
     ]
    },
    {
     "name": "stdout",
     "output_type": "stream",
     "text": [
      "13 is second largest\n"
     ]
    }
   ],
   "source": [
    "a=int(input(\"Enter the number a\"))\n",
    "b=int(input(\"Enter the number b\"))\n",
    "c=int(input(\"Enter the number c\"))\n",
    "if a>b and a<c or ( a<b and a>c):\n",
    "    print(a,\"is second largest\")\n",
    "elif b>a and b<c or (b<a and b>c ):\n",
    "    print(b,\"is second largest\")\n",
    "elif c>a and c<b or (c<a and c>b):\n",
    "    print (c,\"is the second larget\")\n",
    "else:\n",
    "    print(\"nothing\")"
   ]
  },
  {
   "cell_type": "code",
   "execution_count": null,
   "id": "27262863-f6ff-4691-bbb1-77923ac269ec",
   "metadata": {},
   "outputs": [],
   "source": []
  }
 ],
 "metadata": {
  "kernelspec": {
   "display_name": "Python 3 (ipykernel)",
   "language": "python",
   "name": "python3"
  },
  "language_info": {
   "codemirror_mode": {
    "name": "ipython",
    "version": 3
   },
   "file_extension": ".py",
   "mimetype": "text/x-python",
   "name": "python",
   "nbconvert_exporter": "python",
   "pygments_lexer": "ipython3",
   "version": "3.12.2"
  }
 },
 "nbformat": 4,
 "nbformat_minor": 5
}
