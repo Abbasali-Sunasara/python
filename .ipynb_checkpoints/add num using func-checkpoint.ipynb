{
 "cells": [
  {
   "cell_type": "code",
   "execution_count": 13,
   "id": "84201bc3-34b7-45f0-b263-c260a659e9f8",
   "metadata": {},
   "outputs": [
    {
     "name": "stdin",
     "output_type": "stream",
     "text": [
      "Enter the number 1:  2\n",
      "Enter the number 2:  3\n"
     ]
    },
    {
     "name": "stdout",
     "output_type": "stream",
     "text": [
      "5\n"
     ]
    }
   ],
   "source": [
    "def sum(n1, n2):\n",
    "    return n1 + n2\n",
    "\n",
    "no1 = int(input(\"Enter the number 1: \"))\n",
    "no2 = int(input(\"Enter the number 2: \"))\n",
    "print(sum(no1, no2))\n"
   ]
  },
  {
   "cell_type": "code",
   "execution_count": 19,
   "id": "fe7369e2-5182-496d-9ae2-8131b571fe35",
   "metadata": {},
   "outputs": [
    {
     "name": "stdin",
     "output_type": "stream",
     "text": [
      "Enter the number 1:  2\n",
      "Enter the number 2:  3\n"
     ]
    },
    {
     "name": "stdout",
     "output_type": "stream",
     "text": [
      "5\n"
     ]
    }
   ],
   "source": [
    "add = lambda n1, n2: n1 + n2\n",
    "\n",
    "\n",
    "n1 = int(input(\"Enter the number 1: \"))\n",
    "n2 = int(input(\"Enter the number 2: \"))\n",
    "print(add(n1, n2))\n"
   ]
  },
  {
   "cell_type": "code",
   "execution_count": null,
   "id": "2bd6be57-6b3a-4a2c-bb68-bbeeb4101d5e",
   "metadata": {},
   "outputs": [],
   "source": []
  }
 ],
 "metadata": {
  "kernelspec": {
   "display_name": "Python 3 (ipykernel)",
   "language": "python",
   "name": "python3"
  },
  "language_info": {
   "codemirror_mode": {
    "name": "ipython",
    "version": 3
   },
   "file_extension": ".py",
   "mimetype": "text/x-python",
   "name": "python",
   "nbconvert_exporter": "python",
   "pygments_lexer": "ipython3",
   "version": "3.12.2"
  }
 },
 "nbformat": 4,
 "nbformat_minor": 5
}
