{
 "cells": [
  {
   "cell_type": "code",
   "execution_count": 8,
   "id": "1b86e954-9bbe-4d8d-aa1f-217854dea7bd",
   "metadata": {},
   "outputs": [
    {
     "name": "stdin",
     "output_type": "stream",
     "text": [
      "Enter the number n 7\n",
      "Enter the number l 7\n",
      "Enter the number r 10\n"
     ]
    },
    {
     "name": "stdout",
     "output_type": "stream",
     "text": [
      "YES\n"
     ]
    }
   ],
   "source": [
    "n=int(input(\"Enter the number n\"))\n",
    "l=int(input(\"Enter the number l\"))\n",
    "r=int(input(\"Enter the number r\"))\n",
    "\n",
    "print(\"YES\") if (l<=n and r>=n) or (l>=n and r<=n) else print(\"NO\")"
   ]
  },
  {
   "cell_type": "code",
   "execution_count": null,
   "id": "ac952827-a590-4e63-bcfa-f1edfe420b4e",
   "metadata": {},
   "outputs": [],
   "source": []
  }
 ],
 "metadata": {
  "kernelspec": {
   "display_name": "Python 3 (ipykernel)",
   "language": "python",
   "name": "python3"
  },
  "language_info": {
   "codemirror_mode": {
    "name": "ipython",
    "version": 3
   },
   "file_extension": ".py",
   "mimetype": "text/x-python",
   "name": "python",
   "nbconvert_exporter": "python",
   "pygments_lexer": "ipython3",
   "version": "3.12.2"
  }
 },
 "nbformat": 4,
 "nbformat_minor": 5
}
