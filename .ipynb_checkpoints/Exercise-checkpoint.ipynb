{
 "cells": [
  {
   "cell_type": "markdown",
   "id": "d031887a-95d1-4ec2-9bce-af1d6c211dea",
   "metadata": {},
   "source": [
    "x=\"ALL IS WELL\"\n",
    "#### print the string using : isalpha(),islower(),isupper"
   ]
  },
  {
   "cell_type": "code",
   "execution_count": 8,
   "id": "5026914d-06e2-4840-9fca-3f6a42e6adfe",
   "metadata": {},
   "outputs": [
    {
     "name": "stdout",
     "output_type": "stream",
     "text": [
      "False\n",
      "False\n",
      "True\n",
      "False\n",
      "False\n"
     ]
    }
   ],
   "source": [
    "x=\"ALL IS WELL\"\n",
    "print(x.isalpha())\n",
    "print(x.islower())\n",
    "print(x.isupper())\n",
    "print(x.isdigit())\n",
    "print(x.isalnum())"
   ]
  },
  {
   "cell_type": "code",
   "execution_count": 9,
   "id": "56f79604-00ce-4fb9-a916-b5f36e11b0ce",
   "metadata": {},
   "outputs": [
    {
     "name": "stdout",
     "output_type": "stream",
     "text": [
      "W R AASINIT\n"
     ]
    }
   ],
   "source": [
    "x=\"WE ARE DATA SCIENTIST\"\n",
    "print(x[::2])"
   ]
  },
  {
   "cell_type": "code",
   "execution_count": 13,
   "id": "d4bdf621-883b-4386-b683-8e4068c3452b",
   "metadata": {},
   "outputs": [
    {
     "name": "stdout",
     "output_type": "stream",
     "text": [
      "35\n"
     ]
    }
   ],
   "source": [
    "a=\"Peter Piper picked a peck of pickled peppers.A peck of pickled peppers Peter Piper picked.If Peter Piper picked a peck of pickled peppers,Where’s the peck of pickled peppers Peter Piper picked?\"\n",
    "b=a.count(\"e\")\n",
    "print(b)"
   ]
  },
  {
   "cell_type": "markdown",
   "id": "893992df-74d9-4f5d-85a2-9d25c07bea66",
   "metadata": {},
   "source": [
    "### A microwave oven manufacturer recommends that when heating two items, add 50% to the heating time, and when heating three items double the heating time. heating more than three items at once is not recommended. write aprogram to find out the recommended heating time."
   ]
  },
  {
   "cell_type": "code",
   "execution_count": 12,
   "id": "3a546643-b0ea-4f21-9d58-1345e993efa3",
   "metadata": {},
   "outputs": [
    {
     "name": "stdin",
     "output_type": "stream",
     "text": [
      "Enter the number of items 2\n",
      "Single heating time 5\n"
     ]
    },
    {
     "name": "stdout",
     "output_type": "stream",
     "text": [
      "7.5\n"
     ]
    }
   ],
   "source": [
    "n_item=int(input(\"Enter the number of items\"))\n",
    "sh_time=float(input(\"Single heating time\"))\n",
    "if n_item == 1:\n",
    "     r_time= sh_item\n",
    "elif n_item == 2:\n",
    "    r_time= sh_time*1.5\n",
    "elif n_item == 3:\n",
    "    r_time=sh_time*2\n",
    "else:\n",
    " print(\"Not recommended\")\n",
    " \n",
    "print(r_time)"
   ]
  },
  {
   "cell_type": "code",
   "execution_count": 12,
   "id": "6ae7bcfd-13e1-4a43-8893-25701d4d9715",
   "metadata": {},
   "outputs": [
    {
     "name": "stdin",
     "output_type": "stream",
     "text": [
      "Enter the age 13\n",
      "Enter the time 13.30\n"
     ]
    },
    {
     "name": "stdout",
     "output_type": "stream",
     "text": [
      "The price is $4 dollars\n"
     ]
    }
   ],
   "source": [
    "age = int(input(\"Enter the age\"))\n",
    "time = float(input(\"Enter the time\"))\n",
    "if age > 13 and (time == 10.15  or time == 13.30):\n",
    "    print (\"The price is $8 dollars\")\n",
    "elif age > 13 and (time == 18.00 or time == 22.00):\n",
    "    print(\"The price is $5 dollars\")\n",
    "elif age<=13 and (time == 10.15 or time == 13.30):\n",
    "     print(\"The price is $4 dollars\")\n",
    "elif age<=13 and (time == 18.00 or time == 22.00):\n",
    "     print(\"The price is $2 dollars\")\n",
    "else:\n",
    "    print(\"Invalid\")"
   ]
  },
  {
   "cell_type": "code",
   "execution_count": 15,
   "id": "fb8c9f1d-ad6d-489f-8d85-6539a91f7244",
   "metadata": {},
   "outputs": [
    {
     "name": "stdin",
     "output_type": "stream",
     "text": [
      "Enter the birth year 03\n",
      "Enter the current year 24\n"
     ]
    },
    {
     "name": "stdout",
     "output_type": "stream",
     "text": [
      "21\n"
     ]
    }
   ],
   "source": [
    "byear=int(input(\"Enter the birth year\"))\n",
    "cyear=int(input(\"Enter the current year\"))\n",
    "age= cyear-byear\n",
    "if cyear < byear:\n",
    "    age+=100\n",
    "\n",
    "print (age)"
   ]
  },
  {
   "cell_type": "code",
   "execution_count": 38,
   "id": "1f25d763-3a1f-428e-a307-0acb913a7227",
   "metadata": {},
   "outputs": [
    {
     "name": "stdout",
     "output_type": "stream",
     "text": [
      "*\n",
      "**\n",
      "***\n",
      "****\n",
      "*****\n",
      "******\n"
     ]
    }
   ],
   "source": [
    "for i in range(1,7):\n",
    "    print(i*\"*\")\n",
    "\n",
    "\n"
   ]
  },
  {
   "cell_type": "code",
   "execution_count": 40,
   "id": "960a8b7d-2cfc-4ecd-a554-9c74dc7b3ce4",
   "metadata": {},
   "outputs": [
    {
     "name": "stdout",
     "output_type": "stream",
     "text": [
      "1\n",
      "12\n",
      "123\n",
      "1234\n",
      "12345\n"
     ]
    }
   ],
   "source": [
    "\n",
    "for i in range(1,6):\n",
    "    for j in range(1,i+1):\n",
    "        print(j, end=\"\")\n",
    "    print()"
   ]
  },
  {
   "cell_type": "code",
   "execution_count": 41,
   "id": "328749b3-307c-4248-b05e-892287d4e0db",
   "metadata": {},
   "outputs": [
    {
     "name": "stdout",
     "output_type": "stream",
     "text": [
      "1\n",
      "22\n",
      "333\n",
      "4444\n",
      "55555\n"
     ]
    }
   ],
   "source": [
    "\n",
    "for i in range(1,6):\n",
    "    for j in range(1,i+1):\n",
    "        print(i, end=\"\")\n",
    "    print()"
   ]
  },
  {
   "cell_type": "code",
   "execution_count": 43,
   "id": "7bec74f0-5877-4900-afe9-4384d159d08e",
   "metadata": {},
   "outputs": [],
   "source": [
    "for i in range(7,1):\n",
    "    print(i*\"*\")\n",
    "\n",
    "\n"
   ]
  },
  {
   "cell_type": "code",
   "execution_count": null,
   "id": "7367cd38-4d41-4d54-9119-e878bebabe40",
   "metadata": {},
   "outputs": [],
   "source": []
  }
 ],
 "metadata": {
  "kernelspec": {
   "display_name": "Python 3 (ipykernel)",
   "language": "python",
   "name": "python3"
  },
  "language_info": {
   "codemirror_mode": {
    "name": "ipython",
    "version": 3
   },
   "file_extension": ".py",
   "mimetype": "text/x-python",
   "name": "python",
   "nbconvert_exporter": "python",
   "pygments_lexer": "ipython3",
   "version": "3.12.2"
  }
 },
 "nbformat": 4,
 "nbformat_minor": 5
}
