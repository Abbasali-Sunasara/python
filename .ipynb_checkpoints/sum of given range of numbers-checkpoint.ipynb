{
 "cells": [
  {
   "cell_type": "code",
   "execution_count": null,
   "id": "0f28ce94-d78e-4b81-af3a-f749502a8529",
   "metadata": {},
   "outputs": [],
   "source": [
    "a=int(input(\"Enter the first number \"))\n",
    "b=int(input(\"Enter the second number\"))\n",
    "\n",
    "while a<=b:\n",
    "    c=a+c\n",
    "    a+=1\n",
    "    print(c)\n",
    "    "
   ]
  },
  {
   "cell_type": "code",
   "execution_count": null,
   "id": "70e17a3c-b43c-4ded-ad92-222b6296cf27",
   "metadata": {},
   "outputs": [],
   "source": []
  }
 ],
 "metadata": {
  "kernelspec": {
   "display_name": "Python 3 (ipykernel)",
   "language": "python",
   "name": "python3"
  },
  "language_info": {
   "codemirror_mode": {
    "name": "ipython",
    "version": 3
   },
   "file_extension": ".py",
   "mimetype": "text/x-python",
   "name": "python",
   "nbconvert_exporter": "python",
   "pygments_lexer": "ipython3",
   "version": "3.12.2"
  }
 },
 "nbformat": 4,
 "nbformat_minor": 5
}
