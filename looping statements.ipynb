{
 "cells": [
  {
   "cell_type": "code",
   "execution_count": 5,
   "id": "2033bb03-8bc1-4bb6-b924-55e646fb50b3",
   "metadata": {},
   "outputs": [
    {
     "name": "stdout",
     "output_type": "stream",
     "text": [
      "1\n",
      "2\n",
      "3\n",
      "4\n",
      "5\n"
     ]
    }
   ],
   "source": [
    "for x in range(1,6):\n",
    " print(x)"
   ]
  },
  {
   "cell_type": "code",
   "execution_count": 7,
   "id": "e19324ee-bc10-4de9-a90b-10b3fac6933e",
   "metadata": {},
   "outputs": [
    {
     "name": "stdout",
     "output_type": "stream",
     "text": [
      "1\n",
      "3\n",
      "5\n",
      "7\n",
      "9\n",
      "11\n",
      "13\n",
      "15\n",
      "17\n",
      "19\n",
      "21\n",
      "23\n",
      "25\n",
      "27\n",
      "29\n",
      "31\n",
      "33\n",
      "35\n",
      "37\n",
      "39\n",
      "41\n",
      "43\n",
      "45\n",
      "47\n",
      "49\n"
     ]
    }
   ],
   "source": [
    "for x in range(1,50,2):\n",
    "  print(x)"
   ]
  },
  {
   "cell_type": "code",
   "execution_count": 10,
   "id": "1302b28c-0446-4bc0-8eaa-10eb5a3638b2",
   "metadata": {},
   "outputs": [
    {
     "name": "stdout",
     "output_type": "stream",
     "text": [
      "1\n",
      "3\n",
      "5\n",
      "7\n",
      "9\n",
      "11\n",
      "13\n",
      "15\n",
      "17\n",
      "19\n",
      "21\n",
      "23\n",
      "25\n",
      "27\n",
      "29\n",
      "31\n",
      "33\n",
      "35\n",
      "37\n",
      "39\n",
      "41\n",
      "43\n",
      "45\n",
      "47\n",
      "49\n"
     ]
    }
   ],
   "source": [
    "for x in range(50):\n",
    " if(x%2!=0):\n",
    "  print(x)"
   ]
  },
  {
   "cell_type": "code",
   "execution_count": 4,
   "id": "72d1d24c-2af8-495d-bdd0-f7c5f0bc5f50",
   "metadata": {},
   "outputs": [
    {
     "name": "stdout",
     "output_type": "stream",
     "text": [
      "123loop breaks\n",
      "45"
     ]
    }
   ],
   "source": [
    "for i in range(1,6):\n",
    "    if(i == 4):\n",
    "        print(\"loop breaks\")\n",
    "        break\n",
    "    print(i,end=\"\")"
   ]
  },
  {
   "cell_type": "code",
   "execution_count": 31,
   "id": "34b4206a-b4c0-4083-8a92-93937d5c7cac",
   "metadata": {},
   "outputs": [
    {
     "name": "stdout",
     "output_type": "stream",
     "text": [
      "11loop breaks\n",
      "\n",
      "22loop breaks\n",
      "\n",
      "33loop breaks\n",
      "\n",
      "44loop breaks\n",
      "\n",
      "55loop breaks\n",
      "\n"
     ]
    }
   ],
   "source": [
    "for i in range(1,6):\n",
    "  for j in range(1,4):\n",
    "      if(j==3):\n",
    "        print(\"loop breaks\")\n",
    "        break\n",
    "      print(i,end=\"\")\n",
    "  print()"
   ]
  },
  {
   "cell_type": "code",
   "execution_count": 36,
   "id": "b7b390dd-3f63-4d2d-9b15-62f5669ae18e",
   "metadata": {},
   "outputs": [
    {
     "name": "stdout",
     "output_type": "stream",
     "text": [
      "111\n",
      "222\n",
      "loop breaks\n"
     ]
    }
   ],
   "source": [
    "for i in range(1,6):\n",
    "    if(i==3):\n",
    "        print(\"loop breaks\")\n",
    "        break\n",
    "    for j in range(1,4):\n",
    "         print(i, end=\"\")\n",
    "    print()    "
   ]
  },
  {
   "cell_type": "code",
   "execution_count": 44,
   "id": "62a9d53a-f55d-4756-9313-a2d2c59f1683",
   "metadata": {},
   "outputs": [
    {
     "name": "stdin",
     "output_type": "stream",
     "text": [
      "Enter the student type MSH\n",
      "Enter Tuition fee 40000\n",
      "Enter Bus fee 12000\n",
      "Enter Hostel fee 50000\n"
     ]
    },
    {
     "name": "stdout",
     "output_type": "stream",
     "text": [
      "90000.00\n"
     ]
    }
   ],
   "source": [
    "stype = input(\"Enter the student type\")\n",
    "tf = int(input(\"Enter Tuition fee\"))\n",
    "bf = int(input(\"Enter Bus fee\"))\n",
    "hf = int(input(\"Enter Hostel fee\"))\n",
    "\n",
    "if stype.upper() == \"MSDS\":\n",
    "    total = tf + bf\n",
    "elif stype.upper() == \"MSH\":\n",
    "    total = tf+hf\n",
    "elif stype.upper() == \"MGSDS\":\n",
    "    total = 1.5*tf+bf\n",
    "elif stype.upper() == \"MGSH\":\n",
    "    total = 1.5*tf+hf\n",
    "\n",
    "print(\"%.2f\" % total)"
   ]
  },
  {
   "cell_type": "code",
   "execution_count": 50,
   "id": "23793e3c-82d2-4a0f-ba5d-19f4f8b42c73",
   "metadata": {},
   "outputs": [
    {
     "name": "stdin",
     "output_type": "stream",
     "text": [
      "Enter the door pos:  front\n",
      "Enter the rail number:  1\n"
     ]
    },
    {
     "name": "stdout",
     "output_type": "stream",
     "text": [
      "left handed\n"
     ]
    }
   ],
   "source": [
    "door = input(\"Enter the door pos: \")\n",
    "rail = int(input(\"Enter the rail number: \"))\n",
    "\n",
    "if door.lower() == \"front\" or door.upper() == \"FRONT\":\n",
    "    if rail == 1:\n",
    "        print(\"left handed\")\n",
    "    else:\n",
    "        print(\"right handed\")\n",
    "\n",
    "elif door.lower() == \"rear\" or door.upper() == \"REAR\":\n",
    "    if rail == 1:\n",
    "        print(\"right handed\")\n",
    "    else:\n",
    "        print(\"left handed\")\n"
   ]
  },
  {
   "cell_type": "code",
   "execution_count": null,
   "id": "66c6f119-b694-4dfc-a3cb-b33acb86a6b0",
   "metadata": {},
   "outputs": [],
   "source": []
  }
 ],
 "metadata": {
  "kernelspec": {
   "display_name": "Python 3 (ipykernel)",
   "language": "python",
   "name": "python3"
  },
  "language_info": {
   "codemirror_mode": {
    "name": "ipython",
    "version": 3
   },
   "file_extension": ".py",
   "mimetype": "text/x-python",
   "name": "python",
   "nbconvert_exporter": "python",
   "pygments_lexer": "ipython3",
   "version": "3.12.2"
  }
 },
 "nbformat": 4,
 "nbformat_minor": 5
}
