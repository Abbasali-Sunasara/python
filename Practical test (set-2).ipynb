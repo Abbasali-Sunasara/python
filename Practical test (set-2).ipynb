{
 "cells": [
  {
   "cell_type": "markdown",
   "id": "a0023e06-bf47-4912-abf8-0eb0610a2aa9",
   "metadata": {},
   "source": [
    "### Q1"
   ]
  },
  {
   "cell_type": "code",
   "execution_count": 3,
   "id": "8e366cc5-2344-490d-a532-6b5a3d8b1ff8",
   "metadata": {},
   "outputs": [
    {
     "name": "stdout",
     "output_type": "stream",
     "text": [
      "The sum of the num is :- 5\n"
     ]
    }
   ],
   "source": [
    "def sum(num1,num2):\n",
    "    return num1+num2\n",
    "\n",
    "print(\"The sum of the num is :-\",sum(2,3))\n",
    "    "
   ]
  },
  {
   "cell_type": "markdown",
   "id": "21f20063-8804-42c3-bf55-4f80ce613c14",
   "metadata": {},
   "source": [
    "### Q2"
   ]
  },
  {
   "cell_type": "code",
   "execution_count": 17,
   "id": "d99bcdfb-131b-4edf-923b-c05791db7616",
   "metadata": {},
   "outputs": [
    {
     "name": "stdin",
     "output_type": "stream",
     "text": [
      "Enter the number:- 21\n"
     ]
    },
    {
     "name": "stdout",
     "output_type": "stream",
     "text": [
      "Number is divisible\n"
     ]
    }
   ],
   "source": [
    "num = int(input(\"Enter the number: \"))\n",
    "if num % 3 == 0 or num % 5 == 0:\n",
    "    print(\"Number is divisible\")\n",
    "else:\n",
    "    print(\"Invalid number\")\n"
   ]
  },
  {
   "cell_type": "markdown",
   "id": "b8ca1222-1c72-4fc2-a25d-9b6b15dc4517",
   "metadata": {},
   "source": [
    "### Q3"
   ]
  },
  {
   "cell_type": "code",
   "execution_count": 18,
   "id": "6b22a8aa-a3be-4f25-aa44-ebff22ef8305",
   "metadata": {},
   "outputs": [
    {
     "name": "stdin",
     "output_type": "stream",
     "text": [
      "Enter elements of the first list separated by spaces:  1 2 3 4 5 \n",
      "Enter elements of the second list separated by spaces:  2 4 8 9 45\n"
     ]
    },
    {
     "name": "stdout",
     "output_type": "stream",
     "text": [
      "Common elements: {2, 4}\n"
     ]
    }
   ],
   "source": [
    "list1 = list(map(int, input(\"Enter elements of the first list separated by spaces: \").split()))\n",
    "list2 = list(map(int, input(\"Enter elements of the second list separated by spaces: \").split()))\n",
    "\n",
    "\n",
    "common_elements = {x for x in list1 if x in list2}\n",
    "\n",
    "print(\"Common elements:\", common_elements)"
   ]
  },
  {
   "cell_type": "code",
   "execution_count": null,
   "id": "33926c48-326e-4cf1-a55f-34fa229809e4",
   "metadata": {},
   "outputs": [],
   "source": []
  }
 ],
 "metadata": {
  "kernelspec": {
   "display_name": "Python 3 (ipykernel)",
   "language": "python",
   "name": "python3"
  },
  "language_info": {
   "codemirror_mode": {
    "name": "ipython",
    "version": 3
   },
   "file_extension": ".py",
   "mimetype": "text/x-python",
   "name": "python",
   "nbconvert_exporter": "python",
   "pygments_lexer": "ipython3",
   "version": "3.12.2"
  }
 },
 "nbformat": 4,
 "nbformat_minor": 5
}
