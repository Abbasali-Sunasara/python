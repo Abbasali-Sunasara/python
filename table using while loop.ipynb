{
 "cells": [
  {
   "cell_type": "code",
   "execution_count": 2,
   "id": "2f44c7ae-9980-4958-829e-e7a915adbcce",
   "metadata": {},
   "outputs": [
    {
     "name": "stdin",
     "output_type": "stream",
     "text": [
      "Enter a table digit 4\n",
      "Enter the number limit of table 3\n"
     ]
    }
   ],
   "source": [
    "a=int(input(\"Enter a table digit\"))\n",
    "b=int(input(\"Enter the number limit of table\"))\n",
    "i=1\n",
    "while a<b:\n",
    "   pass\n",
    "for i in range(a,b):\n",
    "    \n",
    "    \n",
    "    "
   ]
  },
  {
   "cell_type": "code",
   "execution_count": null,
   "id": "01a7368c-df25-43cf-882c-b1d8c6d3a4c7",
   "metadata": {},
   "outputs": [],
   "source": []
  }
 ],
 "metadata": {
  "kernelspec": {
   "display_name": "Python 3 (ipykernel)",
   "language": "python",
   "name": "python3"
  },
  "language_info": {
   "codemirror_mode": {
    "name": "ipython",
    "version": 3
   },
   "file_extension": ".py",
   "mimetype": "text/x-python",
   "name": "python",
   "nbconvert_exporter": "python",
   "pygments_lexer": "ipython3",
   "version": "3.12.2"
  }
 },
 "nbformat": 4,
 "nbformat_minor": 5
}
