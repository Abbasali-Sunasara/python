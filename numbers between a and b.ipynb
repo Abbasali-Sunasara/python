{
 "cells": [
  {
   "cell_type": "markdown",
   "id": "273c5304-19fd-4400-9f20-c0d3683347a3",
   "metadata": {},
   "source": [
    "### write a program to print all numbers between a and b"
   ]
  },
  {
   "cell_type": "code",
   "execution_count": 17,
   "id": "4aecf155-9fd9-4136-86b0-68e2ca7b9676",
   "metadata": {},
   "outputs": [
    {
     "name": "stdin",
     "output_type": "stream",
     "text": [
      "Enter number a:  1\n",
      "Enter number b:  5\n"
     ]
    },
    {
     "name": "stdout",
     "output_type": "stream",
     "text": [
      "1\n",
      "2\n",
      "3\n",
      "4\n",
      "5\n"
     ]
    }
   ],
   "source": [
    "a = int(input(\"Enter number a: \"))\n",
    "b = int(input(\"Enter number b: \"))\n",
    "\n",
    "while a>=b:\n",
    "    pass\n",
    "else:\n",
    "    for i in range(a, b+1):\n",
    "     print(i)"
   ]
  },
  {
   "cell_type": "code",
   "execution_count": 3,
   "id": "c871ba26-c87f-4dbb-be4f-0b258a490a0c",
   "metadata": {},
   "outputs": [
    {
     "name": "stdin",
     "output_type": "stream",
     "text": [
      "Enter number a:  5\n",
      "Enter number b:  10\n"
     ]
    },
    {
     "name": "stdout",
     "output_type": "stream",
     "text": [
      "Invalid\n"
     ]
    }
   ],
   "source": [
    "a = int(input(\"Enter number a: \"))\n",
    "b = int(input(\"Enter number b: \"))\n",
    "\n",
    "if a>=b:\n",
    "    while a >= b:\n",
    "     print(a)\n",
    "     a -= 1\n",
    "else:\n",
    "    print(\"Invalid\")"
   ]
  },
  {
   "cell_type": "code",
   "execution_count": null,
   "id": "e747a887-5f27-4686-a1e2-ec13f72047d1",
   "metadata": {},
   "outputs": [],
   "source": []
  }
 ],
 "metadata": {
  "kernelspec": {
   "display_name": "Python 3 (ipykernel)",
   "language": "python",
   "name": "python3"
  },
  "language_info": {
   "codemirror_mode": {
    "name": "ipython",
    "version": 3
   },
   "file_extension": ".py",
   "mimetype": "text/x-python",
   "name": "python",
   "nbconvert_exporter": "python",
   "pygments_lexer": "ipython3",
   "version": "3.12.2"
  }
 },
 "nbformat": 4,
 "nbformat_minor": 5
}
