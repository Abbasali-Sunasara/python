{
 "cells": [
  {
   "cell_type": "code",
   "execution_count": 1,
   "id": "867ac07b-3fc1-44c9-8909-18f128d4a175",
   "metadata": {},
   "outputs": [
    {
     "name": "stdout",
     "output_type": "stream",
     "text": [
      "87\n"
     ]
    }
   ],
   "source": [
    "import math\n",
    "print(max(10,56,34,87,12,32,23))"
   ]
  },
  {
   "cell_type": "code",
   "execution_count": null,
   "id": "a1cb415c-7675-4225-8967-8ba8abcb07c5",
   "metadata": {},
   "outputs": [],
   "source": []
  }
 ],
 "metadata": {
  "kernelspec": {
   "display_name": "Python 3 (ipykernel)",
   "language": "python",
   "name": "python3"
  },
  "language_info": {
   "codemirror_mode": {
    "name": "ipython",
    "version": 3
   },
   "file_extension": ".py",
   "mimetype": "text/x-python",
   "name": "python",
   "nbconvert_exporter": "python",
   "pygments_lexer": "ipython3",
   "version": "3.12.2"
  }
 },
 "nbformat": 4,
 "nbformat_minor": 5
}
