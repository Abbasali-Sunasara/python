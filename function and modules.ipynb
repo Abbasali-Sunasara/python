{
 "cells": [
  {
   "cell_type": "code",
   "execution_count": 23,
   "id": "17af1194-a653-4d79-a134-e7cd0b9d29b5",
   "metadata": {},
   "outputs": [
    {
     "name": "stdin",
     "output_type": "stream",
     "text": [
      "Enter the number a 123456789\n",
      "Enter the number b 987654321\n"
     ]
    },
    {
     "name": "stdout",
     "output_type": "stream",
     "text": [
      "1111111110\n"
     ]
    }
   ],
   "source": [
    "def sum(a,b):\n",
    "\n",
    "   print(a+b)\n",
    "\n",
    "a=int(input(\"Enter the number a\"))\n",
    "b=int(input(\"Enter the number b\"))\n",
    "sum(a,b)"
   ]
  },
  {
   "cell_type": "code",
   "execution_count": null,
   "id": "e0c74ff0-1793-4fc4-bc28-ca2fcbbd8531",
   "metadata": {},
   "outputs": [],
   "source": []
  }
 ],
 "metadata": {
  "kernelspec": {
   "display_name": "Python 3 (ipykernel)",
   "language": "python",
   "name": "python3"
  },
  "language_info": {
   "codemirror_mode": {
    "name": "ipython",
    "version": 3
   },
   "file_extension": ".py",
   "mimetype": "text/x-python",
   "name": "python",
   "nbconvert_exporter": "python",
   "pygments_lexer": "ipython3",
   "version": "3.12.2"
  }
 },
 "nbformat": 4,
 "nbformat_minor": 5
}
