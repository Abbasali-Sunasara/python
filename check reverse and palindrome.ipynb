{
 "cells": [
  {
   "cell_type": "markdown",
   "id": "e81cf25d-28ed-4014-8336-a68285c94093",
   "metadata": {},
   "source": [
    "### write the program to reverse and check whether the string is palindrom or not"
   ]
  },
  {
   "cell_type": "code",
   "execution_count": null,
   "id": "409e0c08-15f1-4655-9314-536ddc1a7c99",
   "metadata": {},
   "outputs": [],
   "source": [
    "text=input(\"Enter the string\")\n",
    "rev=\"\"\n",
    "for i in text:\n",
    "    rev=i+rev\n",
    "\n",
    "print(rev)\n",
    "\n",
    "if text==rev:\n",
    "    print(\"palindrome\")\n",
    "else:\n",
    "    print(\"not palindrome\")"
   ]
  },
  {
   "cell_type": "code",
   "execution_count": null,
   "id": "d93654cb-339e-4a4d-bcde-3791982293a9",
   "metadata": {},
   "outputs": [],
   "source": []
  }
 ],
 "metadata": {
  "kernelspec": {
   "display_name": "Python 3 (ipykernel)",
   "language": "python",
   "name": "python3"
  },
  "language_info": {
   "codemirror_mode": {
    "name": "ipython",
    "version": 3
   },
   "file_extension": ".py",
   "mimetype": "text/x-python",
   "name": "python",
   "nbconvert_exporter": "python",
   "pygments_lexer": "ipython3",
   "version": "3.12.2"
  }
 },
 "nbformat": 4,
 "nbformat_minor": 5
}
