{
 "cells": [
  {
   "cell_type": "code",
   "execution_count": 3,
   "id": "6d744d80-dc6d-451b-806e-7e8e58bd2e72",
   "metadata": {},
   "outputs": [
    {
     "name": "stdin",
     "output_type": "stream",
     "text": [
      "Enter the number with spaces 10 10 20 30 20 50 \n"
     ]
    },
    {
     "name": "stdout",
     "output_type": "stream",
     "text": [
      "Non-duplicate items:\n",
      "[10, 20, 30, 50]\n"
     ]
    }
   ],
   "source": [
    "li=list(map(int, input(\"Enter the number with spaces\").split()))\n",
    "b=[]\n",
    "unique=[]\n",
    "for x in li:\n",
    "    if x not in b:\n",
    "        unique.append(x)\n",
    "        b.append(x)\n",
    "print(\"Non-duplicate items:\")\n",
    "print(unique)"
   ]
  },
  {
   "cell_type": "code",
   "execution_count": null,
   "id": "3d661274-697b-4ebd-b26c-74dda2ad8af7",
   "metadata": {},
   "outputs": [],
   "source": []
  }
 ],
 "metadata": {
  "kernelspec": {
   "display_name": "Python 3 (ipykernel)",
   "language": "python",
   "name": "python3"
  },
  "language_info": {
   "codemirror_mode": {
    "name": "ipython",
    "version": 3
   },
   "file_extension": ".py",
   "mimetype": "text/x-python",
   "name": "python",
   "nbconvert_exporter": "python",
   "pygments_lexer": "ipython3",
   "version": "3.12.2"
  }
 },
 "nbformat": 4,
 "nbformat_minor": 5
}
