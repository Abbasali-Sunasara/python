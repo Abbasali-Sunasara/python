{
 "cells": [
  {
   "cell_type": "markdown",
   "id": "c05006fa-83b4-443e-abd8-c206797bd662",
   "metadata": {},
   "source": [
    "### Sum of n numbers "
   ]
  },
  {
   "cell_type": "code",
   "execution_count": 1,
   "id": "9167f4e9-99ad-4baa-b47b-236d8a8e4a17",
   "metadata": {},
   "outputs": [
    {
     "name": "stdin",
     "output_type": "stream",
     "text": [
      "Enter the number 5\n"
     ]
    },
    {
     "name": "stdout",
     "output_type": "stream",
     "text": [
      "15\n"
     ]
    }
   ],
   "source": [
    "n = int(input(\"Enter the number\"))\n",
    "sum = 0\n",
    "for i in range(1, n+1):\n",
    "       sum = i+sum\n",
    "\n",
    "print(sum)"
   ]
  },
  {
   "cell_type": "code",
   "execution_count": null,
   "id": "a6d5e2e8-9da5-4343-88e3-36ed98f631f9",
   "metadata": {},
   "outputs": [],
   "source": [
    "#"
   ]
  }
 ],
 "metadata": {
  "kernelspec": {
   "display_name": "Python 3 (ipykernel)",
   "language": "python",
   "name": "python3"
  },
  "language_info": {
   "codemirror_mode": {
    "name": "ipython",
    "version": 3
   },
   "file_extension": ".py",
   "mimetype": "text/x-python",
   "name": "python",
   "nbconvert_exporter": "python",
   "pygments_lexer": "ipython3",
   "version": "3.12.2"
  }
 },
 "nbformat": 4,
 "nbformat_minor": 5
}
