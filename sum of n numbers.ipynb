{
 "cells": [
  {
   "cell_type": "markdown",
   "id": "c05006fa-83b4-443e-abd8-c206797bd662",
   "metadata": {},
   "source": [
    "### Sum of n numbers "
   ]
  },
  {
   "cell_type": "code",
   "execution_count": 1,
   "id": "9167f4e9-99ad-4baa-b47b-236d8a8e4a17",
   "metadata": {},
   "outputs": [
    {
     "name": "stdin",
     "output_type": "stream",
     "text": [
      "Enter the number 5\n"
     ]
    },
    {
     "name": "stdout",
     "output_type": "stream",
     "text": [
      "15\n"
     ]
    }
   ],
   "source": [
    "n = int(input(\"Enter the number\"))\n",
    "sum = 0\n",
    "for i in range(1, n+1):\n",
    "       sum = i+sum\n",
    "\n",
    "print(sum)"
   ]
  },
  {
   "cell_type": "markdown",
   "id": "0bf22701-3044-4440-82fc-e8ccc1fbfd13",
   "metadata": {},
   "source": [
    "### Average of Sum of n numbers"
   ]
  },
  {
   "cell_type": "code",
   "execution_count": 2,
   "id": "0dfaac78-a9ad-41bd-b996-5a6fa4605139",
   "metadata": {},
   "outputs": [
    {
     "name": "stdin",
     "output_type": "stream",
     "text": [
      "Enter the number 5\n"
     ]
    },
    {
     "name": "stdout",
     "output_type": "stream",
     "text": [
      "3.0\n"
     ]
    }
   ],
   "source": [
    "n = int(input(\"Enter the number\"))\n",
    "sum = 0\n",
    "for i in range(1, n+1):\n",
    "       sum = i+sum\n",
    "\n",
    "print(sum/n)"
   ]
  },
  {
   "cell_type": "markdown",
   "id": "1c054773-3def-4834-b3b4-4c5c484c3072",
   "metadata": {},
   "source": [
    "### Sum of N numbers (while loop)"
   ]
  },
  {
   "cell_type": "code",
   "execution_count": 3,
   "id": "5dc8606f-76ca-40ce-8cf1-a25b83c71b7f",
   "metadata": {},
   "outputs": [
    {
     "name": "stdin",
     "output_type": "stream",
     "text": [
      "Enter the number:  5\n"
     ]
    },
    {
     "name": "stdout",
     "output_type": "stream",
     "text": [
      "Sum: 15\n"
     ]
    }
   ],
   "source": [
    "n = int(input(\"Enter the number: \"))\n",
    "sum = 0\n",
    "i = 1\n",
    "while i < 6:\n",
    "    sum = sum + i\n",
    "    i = i + 1  \n",
    "\n",
    "print(\"Sum:\", sum)\n"
   ]
  },
  {
   "cell_type": "code",
   "execution_count": null,
   "id": "61cfb48a-cdcd-4e8d-8d96-de5a88936183",
   "metadata": {},
   "outputs": [],
   "source": [
    "n = int(input(\"Enter the number: \"))\n",
    "sum = 0\n",
    "i = 1\n",
    "while i < 6:\n",
    "    sum = sum + i\n",
    "    i = i + 1  \n",
    "\n",
    "print(\"Sum:\", sum/)\n"
   ]
  }
 ],
 "metadata": {
  "kernelspec": {
   "display_name": "Python 3 (ipykernel)",
   "language": "python",
   "name": "python3"
  },
  "language_info": {
   "codemirror_mode": {
    "name": "ipython",
    "version": 3
   },
   "file_extension": ".py",
   "mimetype": "text/x-python",
   "name": "python",
   "nbconvert_exporter": "python",
   "pygments_lexer": "ipython3",
   "version": "3.12.2"
  }
 },
 "nbformat": 4,
 "nbformat_minor": 5
}
