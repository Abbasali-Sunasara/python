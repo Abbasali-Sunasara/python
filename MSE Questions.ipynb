{
 "cells": [
  {
   "cell_type": "markdown",
   "id": "b42a136b-b2c5-4d8b-8888-d666e77f83fd",
   "metadata": {},
   "source": [
    "### Type conversion "
   ]
  },
  {
   "cell_type": "code",
   "execution_count": 2,
   "id": "127af23f-8e14-4cc7-9196-aa6963037a0a",
   "metadata": {},
   "outputs": [
    {
     "name": "stdout",
     "output_type": "stream",
     "text": [
      "=== Converting to Integer ===\n",
      "Float to Integer: 12\n",
      "String to Integer: 123\n",
      "Boolean to Integer: 1\n",
      "\n",
      "=== Converting to Float ===\n",
      "Integer to Float: 7.0\n",
      "String to Float: 45.67\n",
      "Boolean to Float: 0.0\n",
      "\n",
      "=== Converting to Boolean ===\n",
      "Integer to Boolean: False\n",
      "Float to Boolean: False\n",
      "String to Boolean (empty): False\n",
      "String to Boolean (non-empty): True\n",
      "\n",
      "=== Converting to String ===\n",
      "Integer to String: 456\n",
      "Float to String: 78.9\n",
      "Boolean to String: True\n"
     ]
    }
   ],
   "source": [
    "# Type Conversion Examples in Python with simple variables\n",
    "\n",
    "# --- Converting to Integer (int) ---\n",
    "print(\"=== Converting to Integer ===\")\n",
    "# Float to Integer\n",
    "a = 12.8\n",
    "b = int(a)\n",
    "print(\"Float to Integer:\", b)  # Output: 12\n",
    "\n",
    "# String to Integer\n",
    "a = \"123\"\n",
    "b = int(a)\n",
    "print(\"String to Integer:\", b)  # Output: 123\n",
    "\n",
    "# Boolean to Integer\n",
    "a = True\n",
    "b = int(a)\n",
    "print(\"Boolean to Integer:\", b)  # Output: 1\n",
    "\n",
    "# --- Converting to Float (float) ---\n",
    "print(\"\\n=== Converting to Float ===\")\n",
    "# Integer to Float\n",
    "a = 7\n",
    "b = float(a)\n",
    "print(\"Integer to Float:\", b)  # Output: 7.0\n",
    "\n",
    "# String to Float\n",
    "a = \"45.67\"\n",
    "b = float(a)\n",
    "print(\"String to Float:\", b)   # Output: 45.67\n",
    "\n",
    "# Boolean to Float\n",
    "a = False\n",
    "b = float(a)\n",
    "print(\"Boolean to Float:\", b)  # Output: 0.0\n",
    "\n",
    "# --- Converting to Boolean (bool) ---\n",
    "print(\"\\n=== Converting to Boolean ===\")\n",
    "# Integer to Boolean\n",
    "a = 0\n",
    "b = bool(a)\n",
    "print(\"Integer to Boolean:\", b)  # Output: False\n",
    "\n",
    "# Float to Boolean\n",
    "a = 0.0\n",
    "b = bool(a)\n",
    "print(\"Float to Boolean:\", b)    # Output: False\n",
    "\n",
    "# String to Boolean\n",
    "a = \"\"\n",
    "b = bool(a)\n",
    "print(\"String to Boolean (empty):\", b)   # Output: False\n",
    "\n",
    "a = \"Hello\"\n",
    "b = bool(a)\n",
    "print(\"String to Boolean (non-empty):\", b)  # Output: True\n",
    "\n",
    "# --- Converting to String (str) ---\n",
    "print(\"\\n=== Converting to String ===\")\n",
    "# Integer to String\n",
    "a = 456\n",
    "b = str(a)\n",
    "print(\"Integer to String:\", b)    # Output: \"456\"\n",
    "\n",
    "# Float to String\n",
    "a = 78.9\n",
    "b = str(a)\n",
    "print(\"Float to String:\", b)      # Output: \"78.9\"\n",
    "\n",
    "# Boolean to String\n",
    "a = True\n",
    "b = str(a)\n",
    "print(\"Boolean to String:\", b)    # Output: \"True\"\n"
   ]
  },
  {
   "cell_type": "markdown",
   "id": "47519b94-61af-43f6-a7d4-8af6794e73ba",
   "metadata": {},
   "source": [
    "### . Explain the membership and identity operators with suitable\n",
    "#### examples?"
   ]
  },
  {
   "cell_type": "code",
   "execution_count": 19,
   "id": "0867b224-05a8-4e5f-9014-2aaccdf2a4be",
   "metadata": {},
   "outputs": [
    {
     "name": "stdout",
     "output_type": "stream",
     "text": [
      "=== Membership Operators ===\n",
      "True\n",
      "False\n",
      "True\n",
      "False\n"
     ]
    }
   ],
   "source": [
    "# Membership and Identity Operators Examples in Python\n",
    "\n",
    "# --- Membership Operators ---\n",
    "print(\"=== Membership Operators ===\")\n",
    "# Using 'in' operator\n",
    "fruits = [\"apple\", \"banana\", \"cherry\"]\n",
    "print(\"apple\" in fruits)      \n",
    "print(\"grape\"  in fruits)      \n",
    "\n",
    "# Using 'not in' operator\n",
    "string = \"Hello, World!\"\n",
    "print(\"Hello\" in string)      \n",
    "print(\"World\" not in string) \n",
    "\n",
    "\n"
   ]
  },
  {
   "cell_type": "code",
   "execution_count": 1,
   "id": "136cd2df-de0c-4e19-8100-f0eaeca1c9f8",
   "metadata": {},
   "outputs": [
    {
     "name": "stdout",
     "output_type": "stream",
     "text": [
      "True\n",
      "False\n",
      "True\n",
      "True\n"
     ]
    }
   ],
   "source": [
    "# --- Identity Operators ---\n",
    "# Using 'is' operator\n",
    "a = [1, 2, 3]\n",
    "b = a       # Both 'a' and 'b' point to the same list object\n",
    "c = [1, 2, 3]\n",
    "\n",
    "print(a is b)       # Output: True (same memory location)\n",
    "print(a is c)       # Output: False (different memory locations)\n",
    "\n",
    "# Using 'is not' operator\n",
    "x = 5\n",
    "y = 5\n",
    "z = 10\n",
    "\n",
    "print(x is y)       # Output: True (small integers have the same memory location in Python)\n",
    "print(x is not z)   # Output: True (different memory locations)"
   ]
  },
  {
   "cell_type": "markdown",
   "id": "60d98ba6-2803-43db-ab29-fba0addb2995",
   "metadata": {},
   "source": [
    "### Program to check whether the integer is perfect square?"
   ]
  },
  {
   "cell_type": "code",
   "execution_count": 31,
   "id": "ec1ec520-eb80-40fd-97b2-14f179bd623e",
   "metadata": {},
   "outputs": [
    {
     "name": "stdin",
     "output_type": "stream",
     "text": [
      "Enter the number  0\n"
     ]
    },
    {
     "name": "stdout",
     "output_type": "stream",
     "text": [
      "yes\n"
     ]
    }
   ],
   "source": [
    "num=int(input(\"Enter the number \"))\n",
    "sqr= int(num**0.5)\n",
    "if num>=0:\n",
    "    if sqr**2 == num:\n",
    "        print(\"yes\")\n",
    "    else:\n",
    "        print(\"no\")\n",
    "\n",
    "else:\n",
    "    print(\"invaid\")\n",
    "   "
   ]
  },
  {
   "cell_type": "markdown",
   "id": "072048d5-8690-4333-beba-fd0ca8e9aca5",
   "metadata": {},
   "source": [
    "### Explain the Arithmetic and logical operators with suitable\n",
    "### examples?"
   ]
  },
  {
   "cell_type": "code",
   "execution_count": 2,
   "id": "615c8e4c-46a1-45de-805e-b2cbb30898e5",
   "metadata": {},
   "outputs": [
    {
     "name": "stdout",
     "output_type": "stream",
     "text": [
      "=== Arithmetic Operators ===\n",
      "Addition: 13\n",
      "Subtraction: 7\n",
      "Multiplication: 30\n",
      "Division: 3.3333333333333335\n",
      "Floor Division: 3\n",
      "Modulus: 0\n",
      "Exponentiation: 1000\n"
     ]
    }
   ],
   "source": [
    "# Arithmetic Operators\n",
    "print(\"=== Arithmetic Operators ===\")\n",
    "\n",
    "a = 10\n",
    "b = 3\n",
    "\n",
    "# Addition\n",
    "print(\"Addition:\", a + b)        # Output: 13\n",
    "\n",
    "# Subtraction\n",
    "print(\"Subtraction:\", a - b)     # Output: 7\n",
    "\n",
    "# Multiplication\n",
    "print(\"Multiplication:\", a * b)  # Output: 30\n",
    "\n",
    "# Division\n",
    "print(\"Division:\", a / b)        # Output: 3.3333...\n",
    "\n",
    "# Floor Division\n",
    "print(\"Floor Division:\", a // b)  # Output: 3\n",
    "\n",
    "# Modulus\n",
    "print(\"Modulus:\", 10 % 5)         # Output: 1\n",
    "\n",
    "# Exponentiation\n",
    "print(\"Exponentiation:\", a ** b)  # Output: 1000\n"
   ]
  },
  {
   "cell_type": "code",
   "execution_count": 35,
   "id": "cfc302ec-d519-47dd-aa8e-7c46507e1afa",
   "metadata": {},
   "outputs": [
    {
     "name": "stdout",
     "output_type": "stream",
     "text": [
      "\n",
      "=== Logical Operators ===\n",
      "x and y: False\n",
      "x or y: True\n",
      "not x: False\n",
      "not y: True\n"
     ]
    }
   ],
   "source": [
    "# Logical Operators\n",
    "print(\"\\n=== Logical Operators ===\")\n",
    "\n",
    "x = True\n",
    "y = False\n",
    "\n",
    "# AND operator\n",
    "print(\"x and y:\", x and y)  # Output: False (both must be True)\n",
    "\n",
    "# OR operator\n",
    "print(\"x or y:\", x or y)    # Output: True (at least one is True)\n",
    "\n",
    "# NOT operator\n",
    "print(\"not x:\", not x)      # Output: False (reverses the value)\n",
    "print(\"not y:\", not y)      # Output: True\n"
   ]
  },
  {
   "cell_type": "markdown",
   "id": "48141bff-524f-4e88-a59d-4e9b5019265f",
   "metadata": {},
   "source": [
    "### Write a python program to reverse the string “all is well” using string\n",
    "### method?"
   ]
  },
  {
   "cell_type": "code",
   "execution_count": 36,
   "id": "5273b411-65ab-4b38-8090-5ee76ad0fb08",
   "metadata": {},
   "outputs": [
    {
     "name": "stdin",
     "output_type": "stream",
     "text": [
      "Enter the string ALL IS WELL\n"
     ]
    },
    {
     "name": "stdout",
     "output_type": "stream",
     "text": [
      "LLEW SI LLA\n"
     ]
    }
   ],
   "source": [
    "text=input(\"Enter the string\")\n",
    "rev=\"\"\n",
    "for i in text:\n",
    "    rev=i+rev\n",
    "\n",
    "print(rev)\n"
   ]
  },
  {
   "cell_type": "markdown",
   "id": "560223e7-40b5-41d4-90a3-91847e56506b",
   "metadata": {},
   "source": [
    "### Write a program to perform following operation:\n",
    "### a) Take a 2 user input value for favorite color and decimal number.\n",
    "### b) Convert the decimal value into integer.\n",
    "### c) Print a message that displays the user's favorite color and square of\n",
    "### number."
   ]
  },
  {
   "cell_type": "code",
   "execution_count": 52,
   "id": "b469e306-3ebf-41e5-8101-bed60c0ea8c5",
   "metadata": {},
   "outputs": [
    {
     "name": "stdin",
     "output_type": "stream",
     "text": [
      "favorite color yellow\n",
      "Enter the num  10\n"
     ]
    },
    {
     "name": "stdout",
     "output_type": "stream",
     "text": [
      "10.0\n",
      "The favourite color is  yellow And The square of num is :- 100\n"
     ]
    }
   ],
   "source": [
    "color = str(input(\"favorite color\"))\n",
    "num = float(input(\"Enter the num \"))\n",
    "integer = int(num)\n",
    "print(num)\n",
    "print(\"The favourite color is \",color ,\"And\", \"The square of num is :-\",integer**2)"
   ]
  },
  {
   "cell_type": "markdown",
   "id": "897cb065-c723-4ca3-a52c-8cc2f91e25c4",
   "metadata": {},
   "source": [
    "### . Write a program for swapping two numbers:-\n",
    "### a) Ue third variable\n",
    "### b) Without the third variable."
   ]
  },
  {
   "cell_type": "code",
   "execution_count": 57,
   "id": "ffca6d15-aaf3-469f-a856-88c8dd54a65a",
   "metadata": {},
   "outputs": [
    {
     "name": "stdout",
     "output_type": "stream",
     "text": [
      "20 10\n"
     ]
    }
   ],
   "source": [
    "# a)\n",
    "a = 10\n",
    "b = 20\n",
    "temp=\"\"\n",
    "temp=a\n",
    "a=b\n",
    "b=temp\n",
    "print(a,b)"
   ]
  },
  {
   "cell_type": "code",
   "execution_count": 59,
   "id": "3ff78d1b-a34e-4d12-877b-f088db61c4bb",
   "metadata": {},
   "outputs": [
    {
     "name": "stdout",
     "output_type": "stream",
     "text": [
      "20 10\n"
     ]
    }
   ],
   "source": [
    "# b)\n",
    "a=10\n",
    "b=20\n",
    "a,b=b,a\n",
    "print(a,b)"
   ]
  },
  {
   "cell_type": "markdown",
   "id": "f45f2a58-8409-4e20-8962-ef3165df9b0b",
   "metadata": {},
   "source": [
    "### . Find the greatest number among 3 numbers?"
   ]
  },
  {
   "cell_type": "code",
   "execution_count": 63,
   "id": "c62a6838-2517-4c21-96c8-66a6e2189b96",
   "metadata": {},
   "outputs": [
    {
     "name": "stdout",
     "output_type": "stream",
     "text": [
      "c isbiggest\n"
     ]
    }
   ],
   "source": [
    "a=10\n",
    "b=4\n",
    "c=50\n",
    "\n",
    "if a>b and a>c:\n",
    "    print(\"a is biggest\")\n",
    "elif b>a and b>c:\n",
    "    print(\"print b is biggest\")\n",
    "else: \n",
    "    print(\"c isbiggest\")"
   ]
  },
  {
   "cell_type": "markdown",
   "id": "c00f8f03-1a6e-4c93-89cb-802c74d8bee2",
   "metadata": {},
   "source": [
    "### . Find the second greatest number among the3 numbers?"
   ]
  },
  {
   "cell_type": "code",
   "execution_count": 67,
   "id": "059ff6ff-3a41-408b-8ada-cc6684f19fae",
   "metadata": {},
   "outputs": [
    {
     "name": "stdout",
     "output_type": "stream",
     "text": [
      "c is second is largest \n"
     ]
    }
   ],
   "source": [
    "a= 10 \n",
    "b= 20\n",
    "c= 15\n",
    "\n",
    "if a>b and a<c or (a<b and a>c):\n",
    "    print(\"a is second is largest \")\n",
    "elif b>a and b<c or (b<a and b>c):\n",
    "    print(\"b is second is largest \")\n",
    "elif c>a and c<b or (c<a and c>b):\n",
    "    print(\"c is second is largest \")\n",
    "else: \n",
    "    print(\"invalid\")"
   ]
  },
  {
   "cell_type": "markdown",
   "id": "2e960f35-83f6-47eb-a956-c03c0c1914ea",
   "metadata": {},
   "source": [
    "### . Write a program to reverse 3 digit numbers(x=456)?"
   ]
  },
  {
   "cell_type": "code",
   "execution_count": 68,
   "id": "dcf4c608-a068-4add-a84c-aaf40abc1f8e",
   "metadata": {},
   "outputs": [
    {
     "name": "stdout",
     "output_type": "stream",
     "text": [
      "654\n"
     ]
    }
   ],
   "source": [
    "x=456\n",
    "y=str(x)\n",
    "print(y[::-1])"
   ]
  },
  {
   "cell_type": "markdown",
   "id": "f09beb7a-32a0-49fb-bb0d-e9a0112ced94",
   "metadata": {},
   "source": [
    "### . Write a program to find the smallest of 4 numbers?"
   ]
  },
  {
   "cell_type": "code",
   "execution_count": 73,
   "id": "8a2f81b0-0699-4e3e-aed1-49ea705bb475",
   "metadata": {},
   "outputs": [
    {
     "name": "stdout",
     "output_type": "stream",
     "text": [
      "a is smallest \n"
     ]
    }
   ],
   "source": [
    "a=1\n",
    "b=8\n",
    "c=6\n",
    "d=7\n",
    "\n",
    "if a<b and a<c and a<d:\n",
    "    print(\"a is smallest \")\n",
    "elif  b<a and b<c and b<d:\n",
    "    print(\"b is smallest \")\n",
    "elif  c<a and c<b and c<d:\n",
    "    print(\"c is smallest \")\n",
    "else :\n",
    "    print(\"d is smallest\")"
   ]
  },
  {
   "cell_type": "markdown",
   "id": "3bd607c0-6c2a-4d26-a4f1-2285961c4063",
   "metadata": {},
   "source": [
    "### . Program to check whether the integer is perfect square"
   ]
  },
  {
   "cell_type": "code",
   "execution_count": 76,
   "id": "72d523ff-9fdd-48ee-815b-b9e234b9304c",
   "metadata": {},
   "outputs": [
    {
     "name": "stdin",
     "output_type": "stream",
     "text": [
      "Enter the number  25\n"
     ]
    },
    {
     "name": "stdout",
     "output_type": "stream",
     "text": [
      "yes\n"
     ]
    }
   ],
   "source": [
    "num = int (input(\"Enter the number \"))\n",
    "sqr= int(num**0.5)\n",
    "if num>=0:\n",
    "    if sqr**2 == num:\n",
    "        print(\"yes\")\n",
    "    else :\n",
    "        print(\"no\")\n",
    "else:\n",
    "    print(\"invalid\")\n",
    "   "
   ]
  },
  {
   "cell_type": "markdown",
   "id": "83c7ba08-aeee-4ec2-a02d-5f6f01dbeedb",
   "metadata": {},
   "source": [
    "### Write a program to check whether given character is vowel and\n",
    "### consonants?"
   ]
  },
  {
   "cell_type": "code",
   "execution_count": 81,
   "id": "b3f65b65-e4b0-4e75-9cef-d4466cdd738a",
   "metadata": {},
   "outputs": [
    {
     "name": "stdin",
     "output_type": "stream",
     "text": [
      "Enter the character  w\n"
     ]
    },
    {
     "name": "stdout",
     "output_type": "stream",
     "text": [
      "consonant\n"
     ]
    }
   ],
   "source": [
    "st=(input(\"Enter the character \"))\n",
    "st=st.lower()\n",
    "x=[\"a\",\"e\",\"i\",\"o\",\"u\"]\n",
    "if st in x:\n",
    "    print(\"vowel\")\n",
    "else:\n",
    "    print(\"consonant\")"
   ]
  },
  {
   "cell_type": "markdown",
   "id": "d1aad4f9-be5f-4d7a-adff-b98114f46972",
   "metadata": {},
   "source": [
    "### Assume a>=b print all the numbers between a=4 and b=10 (inclusive of\n",
    "### a and b)using a while loop?"
   ]
  },
  {
   "cell_type": "code",
   "execution_count": 82,
   "id": "63cef0cd-4b17-4345-91c7-6c2dd95848a7",
   "metadata": {},
   "outputs": [
    {
     "name": "stdin",
     "output_type": "stream",
     "text": [
      "Enter the number 4\n",
      "Enter the number 10\n"
     ]
    },
    {
     "name": "stdout",
     "output_type": "stream",
     "text": [
      "4\n",
      "5\n",
      "6\n",
      "7\n",
      "8\n",
      "9\n",
      "10\n"
     ]
    }
   ],
   "source": [
    "a=int(input(\"Enter the number\"))\n",
    "b=int(input(\"Enter the number\"))\n",
    "\n",
    "while a>=b:\n",
    "    pass\n",
    "else:\n",
    "    for i in range(a,b+1):\n",
    "        print(i)"
   ]
  },
  {
   "cell_type": "markdown",
   "id": "38e0363d-4a4a-47b9-91c0-fc0b454306a0",
   "metadata": {},
   "source": [
    "### Write a program to find how many digits in the given number?"
   ]
  },
  {
   "cell_type": "code",
   "execution_count": 84,
   "id": "912195e4-d902-4953-a532-4eaabfcf64e5",
   "metadata": {},
   "outputs": [
    {
     "name": "stdin",
     "output_type": "stream",
     "text": [
      "Enter the num 1234\n"
     ]
    },
    {
     "name": "stdout",
     "output_type": "stream",
     "text": [
      "4\n"
     ]
    }
   ],
   "source": [
    "a=int(input(\"Enter the num\"))\n",
    "y=len(str(a))\n",
    "print(y)"
   ]
  },
  {
   "cell_type": "markdown",
   "id": "5d6d70d7-705e-471f-9036-6b2e5ad01812",
   "metadata": {},
   "source": [
    "### Write a program to print the sum of a given range of numbers using a\n",
    "### while loop?"
   ]
  },
  {
   "cell_type": "code",
   "execution_count": 3,
   "id": "a622b5c4-01b4-4f5c-af3e-4ae79c031132",
   "metadata": {},
   "outputs": [
    {
     "name": "stdin",
     "output_type": "stream",
     "text": [
      "Enter the number  2\n",
      "Enter the number  4\n"
     ]
    },
    {
     "name": "stdout",
     "output_type": "stream",
     "text": [
      "9\n"
     ]
    }
   ],
   "source": [
    "a=int(input(\"Enter the number \"))\n",
    "b= int(input(\"Enter the number \"))\n",
    "c=0\n",
    "while a<=b:\n",
    "    c=a+c\n",
    "    a+=1\n",
    "\n",
    "print(c)"
   ]
  },
  {
   "cell_type": "markdown",
   "id": "df393f7e-2240-4f0c-880a-dc847886b0eb",
   "metadata": {},
   "source": [
    "### . Write a program to find whether the given 2 strings are same or\n",
    "### not?"
   ]
  },
  {
   "cell_type": "code",
   "execution_count": 87,
   "id": "1469103e-7421-46c3-aa48-c222a524fbfc",
   "metadata": {},
   "outputs": [
    {
     "name": "stdin",
     "output_type": "stream",
     "text": [
      " abc\n",
      " abc\n"
     ]
    },
    {
     "name": "stdout",
     "output_type": "stream",
     "text": [
      "yes\n"
     ]
    }
   ],
   "source": [
    "a=str(input())\n",
    "b=str(input())\n",
    "\n",
    "if a==b:\n",
    "    print(\"yes\")\n",
    "else:\n",
    "    print(\"no\")"
   ]
  },
  {
   "cell_type": "markdown",
   "id": "d07009de-d9de-4e56-8ee1-5cec854b07e7",
   "metadata": {},
   "source": [
    "### write a program for the given number N print yes if the number is\n",
    "### multiple of 7 else print no?"
   ]
  },
  {
   "cell_type": "code",
   "execution_count": 89,
   "id": "8fa567ad-48d1-48db-bf45-48e6d2ae529b",
   "metadata": {},
   "outputs": [
    {
     "name": "stdin",
     "output_type": "stream",
     "text": [
      "Enter a number 35\n"
     ]
    },
    {
     "name": "stdout",
     "output_type": "stream",
     "text": [
      "yes\n"
     ]
    }
   ],
   "source": [
    "a=int(input(\"Enter a number\"))\n",
    "if a%7==0:\n",
    "    print(\"yes\")\n",
    "else:\n",
    "    print(\"no\")"
   ]
  },
  {
   "cell_type": "markdown",
   "id": "dd4fd155-0fd4-40c7-849c-c494157cae40",
   "metadata": {},
   "source": [
    "### Write the program for 3 given numbers L,N,R, print yes is n is between\n",
    "### L and R else print no?"
   ]
  },
  {
   "cell_type": "code",
   "execution_count": 92,
   "id": "4c4cd819-2584-4aed-acba-70d461846e51",
   "metadata": {},
   "outputs": [
    {
     "name": "stdin",
     "output_type": "stream",
     "text": [
      " 2\n",
      " 1\n",
      " 4\n"
     ]
    },
    {
     "name": "stdout",
     "output_type": "stream",
     "text": [
      "no\n"
     ]
    }
   ],
   "source": [
    "a=int(input())\n",
    "b=int(input())\n",
    "c=int(input())\n",
    "\n",
    "if b>a and b<c or(b<a and b>c):\n",
    "    print(\"yes\")\n",
    "else:\n",
    "    print(\"no\")"
   ]
  },
  {
   "cell_type": "markdown",
   "id": "143ed202-a257-4195-8046-17379b29707b",
   "metadata": {},
   "source": [
    "### Write a program that use a for loop to print the numbers from 1 to 10\n",
    "### that 1 to 10 each on new line ?"
   ]
  },
  {
   "cell_type": "code",
   "execution_count": 93,
   "id": "1c12a668-6266-4bf5-a316-824be25c6bd1",
   "metadata": {},
   "outputs": [
    {
     "name": "stdout",
     "output_type": "stream",
     "text": [
      "1\n",
      "2\n",
      "3\n",
      "4\n",
      "5\n",
      "6\n",
      "7\n",
      "8\n",
      "9\n",
      "10\n"
     ]
    }
   ],
   "source": [
    "for i in range (1,11):\n",
    "    print(i)"
   ]
  },
  {
   "cell_type": "markdown",
   "id": "b4b2722f-4f81-4e47-a792-6a7a395ca039",
   "metadata": {},
   "source": [
    "### Write a program to count the number of alphabets and number of digits\n",
    "### in the string ?"
   ]
  },
  {
   "cell_type": "code",
   "execution_count": 96,
   "id": "e6ffc55c-7ff3-4767-bf27-2011b2adfb22",
   "metadata": {},
   "outputs": [
    {
     "name": "stdin",
     "output_type": "stream",
     "text": [
      " as12\n"
     ]
    },
    {
     "name": "stdout",
     "output_type": "stream",
     "text": [
      "The alphabet in string  2\n",
      "The digit in string  2\n"
     ]
    }
   ],
   "source": [
    "z=str(input())\n",
    "alpha=0\n",
    "digit=0\n",
    "\n",
    "for i in z:\n",
    "    if i.isalpha():\n",
    "        alpha+=1\n",
    "    elif i.isdigit():\n",
    "        digit+=1\n",
    "\n",
    "print(\"The alphabet in string \",alpha)\n",
    "print(\"The digit in string \",digit)"
   ]
  },
  {
   "cell_type": "markdown",
   "id": "aa9d02fe-fd80-4be4-b8a2-81c493008b77",
   "metadata": {},
   "source": [
    "### Write a function that calculates the sum of all numbers within the\n",
    "### specified range of 5 to 10?"
   ]
  },
  {
   "cell_type": "code",
   "execution_count": 98,
   "id": "b7362e7c-02c6-4fa2-8604-9222ca40d736",
   "metadata": {},
   "outputs": [
    {
     "name": "stdout",
     "output_type": "stream",
     "text": [
      "5\n",
      "6\n",
      "7\n",
      "8\n",
      "9\n",
      "10\n"
     ]
    }
   ],
   "source": [
    "def sum():\n",
    "    for i in range(5,11):\n",
    "        print(i)\n",
    "\n",
    "\n",
    "sum()"
   ]
  },
  {
   "cell_type": "markdown",
   "id": "302433db-bb46-4e90-9c78-2fb5ed921d14",
   "metadata": {},
   "source": [
    "### develop a function in python that computes the factorial of the given\n",
    "### number your implementation should handle the following\n",
    "### scenarios:(imp)(5m)\n",
    "### a) If the user input is a negative number,then the function should display\n",
    "### the message “error”.\n",
    "### b) If the input is zero or one, then the function should indicate the output\n",
    "### value is one.\n",
    "### c) If the user input is greater than one means then the function should\n",
    "### calculate the factorial value of the integer and display the result."
   ]
  },
  {
   "cell_type": "code",
   "execution_count": 105,
   "id": "40db0559-179a-435a-83ec-f6ae208b248a",
   "metadata": {},
   "outputs": [
    {
     "name": "stdin",
     "output_type": "stream",
     "text": [
      "Enter a number:  5\n"
     ]
    },
    {
     "name": "stdout",
     "output_type": "stream",
     "text": [
      "The factorial of 5 is 120\n"
     ]
    }
   ],
   "source": [
    "def fact():\n",
    "    a = int(input(\"Enter a number: \"))  # Get user input\n",
    "    fact = 1  # Initialize factorial variable\n",
    "\n",
    "    # Scenario a: Handle negative input\n",
    "    if a < 0:\n",
    "        print(\"Error\")\n",
    "    # Scenario b: Handle zero or one\n",
    "    elif a == 0 or a == 1:\n",
    "        print(\"The factorial of\", a, \"is 1\")\n",
    "    # Scenario c: Calculate factorial for numbers greater than one\n",
    "    else:\n",
    "        for i in range(1, a + 1):\n",
    "            fact *= i  \n",
    "        print(\"The factorial of\", a, \"is\", fact)\n",
    "\n",
    "# Call the function\n",
    "fact()\n"
   ]
  },
  {
   "cell_type": "markdown",
   "id": "234e6a5e-1708-4ce4-a6d3-845f9a939055",
   "metadata": {},
   "source": [
    "### Define the lambda function in python with syntax and provide the\n",
    "### example of sum of two numbers?"
   ]
  },
  {
   "cell_type": "code",
   "execution_count": 111,
   "id": "534ba817-b5fd-4cc5-a993-7a6975b69449",
   "metadata": {},
   "outputs": [
    {
     "name": "stdout",
     "output_type": "stream",
     "text": [
      "32\n"
     ]
    }
   ],
   "source": [
    "s=lambda x,y:x+y\n",
    "result=s(2,30)\n",
    "print(result)"
   ]
  },
  {
   "cell_type": "markdown",
   "id": "7726dec9-4f23-43be-9d5d-bf8e9a09f51a",
   "metadata": {},
   "source": [
    "### Write a python function to sum all the numbers on the list?"
   ]
  },
  {
   "cell_type": "code",
   "execution_count": 117,
   "id": "3ddcd65b-037a-4dbf-a899-754211f5037d",
   "metadata": {},
   "outputs": [
    {
     "name": "stdout",
     "output_type": "stream",
     "text": [
      "15\n"
     ]
    }
   ],
   "source": [
    "def sum():\n",
    " li=[1,2,3,4,5]\n",
    " z=0\n",
    " for i in li :\n",
    "  z=i+z\n",
    " print(z)\n",
    "\n",
    "\n",
    "sum()\n"
   ]
  },
  {
   "cell_type": "markdown",
   "id": "71ca5a1f-932b-4375-a0b7-e435a7fa79c2",
   "metadata": {},
   "source": [
    "### Write a python function that takes a list and returns a new list with the\n",
    "### distinct (remove duplicates)elements from the first list?"
   ]
  },
  {
   "cell_type": "code",
   "execution_count": 124,
   "id": "1f02fb50-c7a6-497c-809a-4434421e7875",
   "metadata": {},
   "outputs": [
    {
     "data": {
      "text/plain": [
       "[1, 2, 3]"
      ]
     },
     "execution_count": 124,
     "metadata": {},
     "output_type": "execute_result"
    }
   ],
   "source": [
    "def dist(old):\n",
    "   \n",
    "    n=[]\n",
    "    for i in old:\n",
    "        if i not in n:\n",
    "            n.append(i)\n",
    "    return n\n",
    "\n",
    "old=[1,1,2,2,3]\n",
    "dist(old)"
   ]
  },
  {
   "cell_type": "markdown",
   "id": "1c97b72b-d368-4200-8263-3d82029b80c4",
   "metadata": {},
   "source": [
    "### Combine two different lists using extend method?"
   ]
  },
  {
   "cell_type": "code",
   "execution_count": 125,
   "id": "e57b81c4-afa9-491c-822a-9fea2d985001",
   "metadata": {},
   "outputs": [
    {
     "name": "stdout",
     "output_type": "stream",
     "text": [
      "Combined List: [1, 2, 3, 4, 5, 6]\n"
     ]
    }
   ],
   "source": [
    "list1 = [1, 2, 3]\n",
    "list2 = [4, 5, 6]\n",
    "\n",
    "list1.extend(list2)\n",
    "\n",
    "print(\"Combined List:\", list1)\n"
   ]
  },
  {
   "cell_type": "code",
   "execution_count": null,
   "id": "a7afa8dd-887d-4784-8ce4-f20892edb2d0",
   "metadata": {},
   "outputs": [],
   "source": []
  }
 ],
 "metadata": {
  "kernelspec": {
   "display_name": "Python 3 (ipykernel)",
   "language": "python",
   "name": "python3"
  },
  "language_info": {
   "codemirror_mode": {
    "name": "ipython",
    "version": 3
   },
   "file_extension": ".py",
   "mimetype": "text/x-python",
   "name": "python",
   "nbconvert_exporter": "python",
   "pygments_lexer": "ipython3",
   "version": "3.12.2"
  }
 },
 "nbformat": 4,
 "nbformat_minor": 5
}
