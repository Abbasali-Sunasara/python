{
 "cells": [
  {
   "cell_type": "code",
   "execution_count": 1,
   "id": "33fb1493-2bbe-40c7-82cd-23ef85f72884",
   "metadata": {},
   "outputs": [
    {
     "name": "stdout",
     "output_type": "stream",
     "text": [
      "hello user\n"
     ]
    }
   ],
   "source": [
    "a=10\n",
    "if a==10:\n",
    "    print(\"hello user\")"
   ]
  },
  {
   "cell_type": "code",
   "execution_count": 10,
   "id": "a673329b-1de4-4a65-adf7-f95de2941f43",
   "metadata": {},
   "outputs": [
    {
     "name": "stdin",
     "output_type": "stream",
     "text": [
      "enter the value of n -12\n"
     ]
    },
    {
     "name": "stdout",
     "output_type": "stream",
     "text": [
      "-1728 False\n"
     ]
    }
   ],
   "source": [
    "n=int(input(\"enter the value of n\"))\n",
    "if(n>0):\n",
    "     print(n*n,True)\n",
    "else:\n",
    "    print(n*n*n,False)"
   ]
  },
  {
   "cell_type": "code",
   "execution_count": 18,
   "id": "6b4edd5a-dcf1-4488-b44b-1ffda5f4bc97",
   "metadata": {},
   "outputs": [
    {
     "name": "stdout",
     "output_type": "stream",
     "text": [
      "i is between 15 and 20\n"
     ]
    }
   ],
   "source": [
    "i=16\n",
    "if i<15:\n",
    "    print(\"i is smaller than 15\")\n",
    "else:\n",
    "    if(i>20):\n",
    "        print(\"i si greater than 20\")\n",
    "    else:\n",
    "        print(\"i is between 15 and 20\")"
   ]
  },
  {
   "cell_type": "code",
   "execution_count": 8,
   "id": "9a02cf22-c0de-4a32-aa41-af2662b811a9",
   "metadata": {},
   "outputs": [
    {
     "name": "stdin",
     "output_type": "stream",
     "text": [
      "Enter the percentage 87\n"
     ]
    },
    {
     "name": "stdout",
     "output_type": "stream",
     "text": [
      "First Division\n"
     ]
    }
   ],
   "source": [
    "x=int(input(\"Enter the percentage\"))\n",
    "if x>=60:\n",
    "     print(\"First Division\")\n",
    "elif x>=50 and x<=59:\n",
    "  print(\"Second division\")\n",
    "elif x>=40 and x<=49:\n",
    " print(\"Third division\")\n",
    "elif x<40:\n",
    " print(\"fail\")\n"
   ]
  },
  {
   "cell_type": "code",
   "execution_count": 12,
   "id": "c8b7da72-8736-40f6-8ef7-e2aa34bbcdb6",
   "metadata": {},
   "outputs": [
    {
     "name": "stdin",
     "output_type": "stream",
     "text": [
      "Enter the number 2\n"
     ]
    },
    {
     "name": "stdout",
     "output_type": "stream",
     "text": [
      "Not Divisible\n"
     ]
    }
   ],
   "source": [
    "a=int(input(\"Enter the number\"))\n",
    "if a%2==0  and a%3==0:\n",
    " print(\"Divisble by 2 and 3\")\n",
    "else:\n",
    "    print(\"Not Divisible\")"
   ]
  },
  {
   "cell_type": "code",
   "execution_count": 28,
   "id": "b63ad4dd-27c9-44ac-93ee-3a5f5c0c8f05",
   "metadata": {},
   "outputs": [
    {
     "name": "stdin",
     "output_type": "stream",
     "text": [
      "Enter the year:  2023\n"
     ]
    },
    {
     "name": "stdout",
     "output_type": "stream",
     "text": [
      "Not a leap year\n"
     ]
    }
   ],
   "source": [
    "a = int(input(\"Enter the year: \"))\n",
    "\n",
    "if a % 4 == 0:\n",
    "    if a % 100 == 0:\n",
    "        if a % 400 == 0:\n",
    "            print(\"It is a leap year\")\n",
    "        else:\n",
    "            print(\"Not a leap year\")\n",
    "    else:\n",
    "        print(\"It is not leap year\")\n",
    "else:\n",
    "    print(\"Not a leap year\")\n"
   ]
  },
  {
   "cell_type": "code",
   "execution_count": 38,
   "id": "b85fee4b-ea1d-4e1a-b9a7-20afdf9e04fb",
   "metadata": {},
   "outputs": [
    {
     "name": "stdin",
     "output_type": "stream",
     "text": [
      "Enter the number of days:  7\n"
     ]
    },
    {
     "name": "stdout",
     "output_type": "stream",
     "text": [
      "16\n"
     ]
    }
   ],
   "source": [
    "a = int(input(\"Enter the number of days: \"))\n",
    "price = 0\n",
    "\n",
    "if a <= 5:\n",
    "    print(a * 2)\n",
    "elif a >= 6 and a <= 10:\n",
    "    print(5 * 2 + (a - 5) * 3)\n",
    "elif a >= 11 and a <= 15:\n",
    "    print(5 * 2 + 5 * 3 + (a - 10) * 4)\n",
    "else:\n",
    "    print(5 * 2 + 5 * 3 + 5 * 4 + (a - 15) * 5)\n"
   ]
  },
  {
   "cell_type": "code",
   "execution_count": 51,
   "id": "62dc1dae-281c-49d3-8fc2-06fb7db22e78",
   "metadata": {},
   "outputs": [
    {
     "name": "stdin",
     "output_type": "stream",
     "text": [
      "Enter the number 4\n"
     ]
    },
    {
     "name": "stdout",
     "output_type": "stream",
     "text": [
      "not weird\n"
     ]
    }
   ],
   "source": [
    "n=int(input(\"Enter the number\"))\n",
    "if n>0:\n",
    " if n%2 !=0:\n",
    "    print(\"The number is odd\")\n",
    " elif n%2==0 and (n>=2 and n<=5):\n",
    "  print(\"not weird\")\n",
    " elif n%2==0 and (n>=6 and n<=20):\n",
    "  print(\" weird\")\n",
    " elif n%2==0 and n>20 :\n",
    "  print(\"not weird\")\n",
    " else:\n",
    "  print(\"N/A\")"
   ]
  },
  {
   "cell_type": "code",
   "execution_count": 57,
   "id": "78b50f74-fc4d-4379-b4fb-6e3281d5c033",
   "metadata": {},
   "outputs": [
    {
     "name": "stdin",
     "output_type": "stream",
     "text": [
      "Enter a number:  20000\n"
     ]
    },
    {
     "name": "stdout",
     "output_type": "stream",
     "text": [
      "Invalid Number\n"
     ]
    }
   ],
   "source": [
    "n = int(input(\"Enter a number: \"))\n",
    "c = len(str(n)) \n",
    "mid = (n % 100) // 10  \n",
    "if c == 3: \n",
    "    if mid % 3 == 0:\n",
    "        print(\"Trendy Number\")\n",
    "    else:\n",
    "        print(\"Not a Trendy Number\")\n",
    "else:\n",
    "    print(\"Invalid Number\")\n"
   ]
  },
  {
   "cell_type": "markdown",
   "id": "c02f7cff-8bc1-447e-8a0a-58db6f04736a",
   "metadata": {},
   "source": [
    "## largest number"
   ]
  },
  {
   "cell_type": "code",
   "execution_count": 60,
   "id": "ce876126-c5cb-4e79-ae17-7d80962f4ace",
   "metadata": {},
   "outputs": [
    {
     "name": "stdin",
     "output_type": "stream",
     "text": [
      "Enter the number 1 10\n",
      "Enter the number 2 2\n",
      "Enter the number 3 3\n"
     ]
    },
    {
     "data": {
      "text/plain": [
       "3"
      ]
     },
     "execution_count": 60,
     "metadata": {},
     "output_type": "execute_result"
    }
   ],
   "source": [
    "a=int(input(\"Enter the number 1\"))#10\n",
    "b=int(input(\"Enter the number 2\"))#2\n",
    "c=int(input(\"Enter the number 3\"))#3\n",
    "grt = a if a>b else b\n",
    "grt= grt if grt>c else c\n",
    "grt"
   ]
  },
  {
   "cell_type": "markdown",
   "id": "f420bc31-96ed-4c3e-b299-589576031e71",
   "metadata": {},
   "source": [
    "## second largest number"
   ]
  },
  {
   "cell_type": "code",
   "execution_count": null,
   "id": "2b9eefa3-dc9c-41a0-b3ae-807f526de779",
   "metadata": {},
   "outputs": [],
   "source": [
    "a=int(input(\"Enter the number 1\"))#10\n",
    "b=int(input(\"Enter the number 2\"))#2\n",
    "c=int(input(\"Enter the number 3\"))#3\n",
    "grt = a if a>b else b\n",
    "grt= c if grt>c else grt\n",
    "grt"
   ]
  },
  {
   "cell_type": "markdown",
   "id": "6f603094-0b84-4b03-a73b-18048fc25a20",
   "metadata": {},
   "source": [
    "## smallest number"
   ]
  },
  {
   "cell_type": "code",
   "execution_count": 2,
   "id": "8988e366-130a-4e6a-a2e2-8fe5a0a9765d",
   "metadata": {},
   "outputs": [
    {
     "name": "stdin",
     "output_type": "stream",
     "text": [
      "Enter the number 1 2\n",
      "Enter the number 2 56\n",
      "Enter the number 3 34\n",
      "Enter the number 4 2\n"
     ]
    },
    {
     "name": "stdout",
     "output_type": "stream",
     "text": [
      "Smallest number 2\n"
     ]
    }
   ],
   "source": [
    "a=int(input(\"Enter the number 1\"))\n",
    "b=int(input(\"Enter the number 2\"))\n",
    "c=int(input(\"Enter the number 3\"))\n",
    "d=int(input(\"Enter the number 4\"))\n",
    "\n",
    "grt = b if a>b else a\n",
    "grt= c if grt>c else grt\n",
    "grt= d if grt>d else grt\n",
    "print(\"Smallest number\",grt)"
   ]
  },
  {
   "cell_type": "code",
   "execution_count": null,
   "id": "47b61fc3-f5ec-42f1-a924-d701b8de0094",
   "metadata": {},
   "outputs": [],
   "source": []
  }
 ],
 "metadata": {
  "kernelspec": {
   "display_name": "Python 3 (ipykernel)",
   "language": "python",
   "name": "python3"
  },
  "language_info": {
   "codemirror_mode": {
    "name": "ipython",
    "version": 3
   },
   "file_extension": ".py",
   "mimetype": "text/x-python",
   "name": "python",
   "nbconvert_exporter": "python",
   "pygments_lexer": "ipython3",
   "version": "3.12.2"
  }
 },
 "nbformat": 4,
 "nbformat_minor": 5
}
