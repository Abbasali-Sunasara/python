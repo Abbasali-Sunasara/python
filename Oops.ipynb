{
 "cells": [
  {
   "cell_type": "code",
   "execution_count": 1,
   "id": "c01fe68f-00ac-4edc-bbbd-ff0fdd77a250",
   "metadata": {},
   "outputs": [
    {
     "name": "stdout",
     "output_type": "stream",
     "text": [
      "Welcome to oops concept\n"
     ]
    }
   ],
   "source": [
    "class Python:\n",
    "    def fun(self):\n",
    "        print(\"Welcome to oops concept\")\n",
    "pyt=Python()\n",
    "pyt.fun()"
   ]
  },
  {
   "cell_type": "code",
   "execution_count": 4,
   "id": "3d84b900-49d9-4109-8df0-afc6c48f6084",
   "metadata": {},
   "outputs": [
    {
     "name": "stdout",
     "output_type": "stream",
     "text": [
      "name: AUDI id: 200000\n"
     ]
    }
   ],
   "source": [
    "class car:\n",
    "    car=0\n",
    "    def __init__(self,name,id):\n",
    "      self.name=name\n",
    "      self.id=id\n",
    "      car.car+=1\n",
    "\n",
    "    def printcardata(self):\n",
    "        print('name:',self.name,'id:',self.id)\n",
    "c=car('AUDI',200000)\n",
    "c.printcardata()"
   ]
  },
  {
   "cell_type": "code",
   "execution_count": 13,
   "id": "72824eb9-6a18-4e4c-8cd8-ed4b88bd5b29",
   "metadata": {},
   "outputs": [
    {
     "name": "stdout",
     "output_type": "stream",
     "text": [
      "Abbas 21 200000\n"
     ]
    }
   ],
   "source": [
    "class Employee:\n",
    "    def set_data(self,name,age,salary):\n",
    "        self.name = name\n",
    "        self.age = age\n",
    "        self.salary = salary\n",
    "    \n",
    "    def display_data(self):\n",
    "        print(self.name,self.age,self.salary)\n",
    "\n",
    "emp= Employee()\n",
    "emp.set_data(\"Abbas\",21,200000)\n",
    "emp.display_data()"
   ]
  },
  {
   "cell_type": "code",
   "execution_count": 22,
   "id": "000f6da3-8e89-471d-ab08-cd4a714555c1",
   "metadata": {},
   "outputs": [
    {
     "name": "stdout",
     "output_type": "stream",
     "text": [
      "number is positive\n"
     ]
    }
   ],
   "source": [
    "class data:\n",
    "    def num_data(self,num):\n",
    "        self.num= num\n",
    "\n",
    "    def check_data(self):\n",
    "        if self.num > 0:\n",
    "            print(\"number is positive\")\n",
    "        elif self.num == 0:\n",
    "            print(\"number is nuetral \")\n",
    "        else: \n",
    "            print(\"number is negative\")\\\n",
    "\n",
    "# dt=data()\n",
    "dt.num_data(4)\n",
    "dt.check_data()"
   ]
  },
  {
   "cell_type": "code",
   "execution_count": 26,
   "id": "ee8db386-432a-4a7f-9bea-b492362f1a07",
   "metadata": {},
   "outputs": [
    {
     "name": "stdout",
     "output_type": "stream",
     "text": [
      "name: AUDI id: 200000\n",
      "name: BMW id: 3554\n",
      "name: ferrari id: 233454\n"
     ]
    }
   ],
   "source": [
    "class car:\n",
    "    car=0\n",
    "    def __init__(self,name,id):\n",
    "      self.name=name\n",
    "      self.id=id\n",
    "      car.car+=1\n",
    "\n",
    "    def printcardata(self):\n",
    "        print('name:',self.name,'id:',self.id)\n",
    "c=car('AUDI',200000)\n",
    "c1=car('BMW',3554)\n",
    "c2=car('ferrari',233454)\n",
    "c.printcardata()\n",
    "c1.printcardata()\n",
    "c2.printcardata()\n"
   ]
  },
  {
   "cell_type": "code",
   "execution_count": 28,
   "id": "f6eca36c-9697-4d90-b1f9-316bfee90c12",
   "metadata": {},
   "outputs": [
    {
     "name": "stdout",
     "output_type": "stream",
     "text": [
      "bike\n"
     ]
    }
   ],
   "source": [
    "class test:\n",
    "    def __init__(self):\n",
    "        self.variable = 'car'\n",
    "        self.change(self.variable)\n",
    "\n",
    "    def change(self,var):\n",
    "        self.variable = 'bike'\n",
    "\n",
    "obj = test()\n",
    "print(obj.variable)"
   ]
  },
  {
   "cell_type": "code",
   "execution_count": 13,
   "id": "ddbf1723-0257-4127-aec9-910b4fc7084a",
   "metadata": {},
   "outputs": [
    {
     "name": "stdout",
     "output_type": "stream",
     "text": [
      "meow\n"
     ]
    }
   ],
   "source": [
    "class Cat:\n",
    "    def meow(self, call):\n",
    "        self.call = call\n",
    "\n",
    "    def display(self):\n",
    "        self.call = \"meow\"  \n",
    "        print(self.call)    \n",
    "\n",
    "obj = Cat()\n",
    "obj.display()  \n"
   ]
  },
  {
   "cell_type": "code",
   "execution_count": null,
   "id": "2aec7657-78a5-44e2-9bfa-415f9efd0d6b",
   "metadata": {},
   "outputs": [],
   "source": [
    "class "
   ]
  }
 ],
 "metadata": {
  "kernelspec": {
   "display_name": "Python 3 (ipykernel)",
   "language": "python",
   "name": "python3"
  },
  "language_info": {
   "codemirror_mode": {
    "name": "ipython",
    "version": 3
   },
   "file_extension": ".py",
   "mimetype": "text/x-python",
   "name": "python",
   "nbconvert_exporter": "python",
   "pygments_lexer": "ipython3",
   "version": "3.12.2"
  }
 },
 "nbformat": 4,
 "nbformat_minor": 5
}
