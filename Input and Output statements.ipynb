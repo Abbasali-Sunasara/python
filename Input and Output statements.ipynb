{
 "cells": [
  {
   "cell_type": "code",
   "execution_count": 6,
   "id": "1ebbd423-3cfd-4dd6-9b2e-3da458d74770",
   "metadata": {},
   "outputs": [
    {
     "name": "stdin",
     "output_type": "stream",
     "text": [
      "Enter a name  Abbasali\n"
     ]
    },
    {
     "name": "stdout",
     "output_type": "stream",
     "text": [
      "Abbasali\n",
      "<class 'str'>\n"
     ]
    }
   ],
   "source": [
    "A=input(\"Enter a name \")\n",
    "print(A)\n",
    "print(type(A))"
   ]
  },
  {
   "cell_type": "code",
   "execution_count": 9,
   "id": "21e79e7f-6bd8-4802-8354-96baddcd896b",
   "metadata": {},
   "outputs": [
    {
     "name": "stdin",
     "output_type": "stream",
     "text": [
      " 10\n",
      " 20\n"
     ]
    },
    {
     "name": "stdout",
     "output_type": "stream",
     "text": [
      "30\n"
     ]
    }
   ],
   "source": [
    "num1=int(input())\n",
    "num2=int(input())\n",
    "print(num1+num2)"
   ]
  },
  {
   "cell_type": "code",
   "execution_count": 10,
   "id": "6dadef0d-8e5b-4716-915d-7c90707f9610",
   "metadata": {},
   "outputs": [
    {
     "name": "stdin",
     "output_type": "stream",
     "text": [
      " 20.5\n",
      " 10\n"
     ]
    },
    {
     "name": "stdout",
     "output_type": "stream",
     "text": [
      "30.5\n"
     ]
    }
   ],
   "source": [
    "num1=float(input())\n",
    "num2=int(input())\n",
    "print(num1+num2)"
   ]
  },
  {
   "cell_type": "code",
   "execution_count": 19,
   "id": "857ba5dc-9e9f-4a18-a840-c1a3eab76383",
   "metadata": {},
   "outputs": [
    {
     "name": "stdout",
     "output_type": "stream",
     "text": [
      "A man is walking\n"
     ]
    }
   ],
   "source": [
    "print('A','man','is','walking',sep=' ')"
   ]
  },
  {
   "cell_type": "code",
   "execution_count": 21,
   "id": "7295d690-dda3-4b63-b6ab-692dd9991566",
   "metadata": {},
   "outputs": [
    {
     "name": "stdout",
     "output_type": "stream",
     "text": [
      "hello@outputCompleted\n"
     ]
    }
   ],
   "source": [
    "print(\"hello\", end=\"@\")\n",
    "print(\"outputCompleted\")"
   ]
  },
  {
   "cell_type": "code",
   "execution_count": 22,
   "id": "e02eb5ee-aa3c-4771-ad41-cd8196cb1c45",
   "metadata": {},
   "outputs": [
    {
     "name": "stdout",
     "output_type": "stream",
     "text": [
      "Total students:240\n",
      "Boys: 120\n",
      "31\n"
     ]
    }
   ],
   "source": [
    "print(\"Total students:%d\" %(240))\n",
    "print(\"Boys: %d\" %(120))\n",
    "print(\"%o\" %(25))"
   ]
  },
  {
   "cell_type": "code",
   "execution_count": 1,
   "id": "7af9c897-8fcd-4db8-bee5-ae19056103d1",
   "metadata": {},
   "outputs": [
    {
     "name": "stdin",
     "output_type": "stream",
     "text": [
      "Enetr the x number 10\n",
      "Enetr the y number 12\n"
     ]
    },
    {
     "name": "stdout",
     "output_type": "stream",
     "text": [
      "22\n",
      "-2\n"
     ]
    }
   ],
   "source": [
    "x=int(input(\"Enetr the x number\"))\n",
    "y=int(input(\"Enetr the y number\"))\n",
    "print(x+y)\n",
    "print(x-y)"
   ]
  },
  {
   "cell_type": "code",
   "execution_count": 2,
   "id": "cdef1e42-a004-4ec4-99c3-acb230b58366",
   "metadata": {},
   "outputs": [
    {
     "name": "stdin",
     "output_type": "stream",
     "text": [
      "Enetr the x number 10\n",
      "Enetr the y number 20\n"
     ]
    },
    {
     "name": "stdout",
     "output_type": "stream",
     "text": [
      "Given Numerator:: 10\n",
      "Given Numerator:: 20\n",
      "quotient=,0 Remainder=10\n"
     ]
    }
   ],
   "source": [
    "x=int(input(\"Enetr the x number\"))\n",
    "y=int(input(\"Enetr the y number\"))\n",
    "print(\"Given Numerator::\",x)\n",
    "print(\"Given Numerator::\",y)\n",
    "print(f\"quotient=,{x//y} Remainder={x%y}\")\n"
   ]
  },
  {
   "cell_type": "markdown",
   "id": "732cccef-0163-464f-b494-2ee1d0bd5417",
   "metadata": {},
   "source": [
    "## Arc of circle(2 precision)"
   ]
  },
  {
   "cell_type": "code",
   "execution_count": 12,
   "id": "f0d228f5-54ba-47ef-ad63-85eb45a2913b",
   "metadata": {},
   "outputs": [
    {
     "name": "stdin",
     "output_type": "stream",
     "text": [
      "input the radius 10\n",
      "input the angle 6\n"
     ]
    },
    {
     "name": "stdout",
     "output_type": "stream",
     "text": [
      "1.05\n"
     ]
    }
   ],
   "source": [
    "pi=3.14\n",
    "r=int(input(\"input the radius\"))\n",
    "angle=int(input(\"input the angle\"))\n",
    "result=(2*pi*r*(angle/360))\n",
    "print(\"%.2f\"%result)"
   ]
  },
  {
   "cell_type": "markdown",
   "id": "3aa53acd-3321-4897-b0d3-39c62e5f913e",
   "metadata": {},
   "source": [
    "## Area of circle(2 precision)"
   ]
  },
  {
   "cell_type": "code",
   "execution_count": null,
   "id": "bddda22f-f85e-4f5e-8aab-906a6e08fddd",
   "metadata": {},
   "outputs": [],
   "source": [
    "pi=3.14\n",
    "r=int(input(\"input the radius\"))\n",
    "result= 2*pi*r*r\n",
    "print(\"%.2f\"%result)"
   ]
  },
  {
   "cell_type": "markdown",
   "id": "03642189-7d03-4350-9b37-c4c8342659cf",
   "metadata": {},
   "source": [
    "## Hypotenuse (2 precision)"
   ]
  },
  {
   "cell_type": "code",
   "execution_count": 19,
   "id": "7bacc69b-ae01-4b38-bb36-bdcbd369c900",
   "metadata": {},
   "outputs": [
    {
     "name": "stdin",
     "output_type": "stream",
     "text": [
      "Enter the side 1 10\n",
      "Enter the side 2 10\n"
     ]
    },
    {
     "name": "stdout",
     "output_type": "stream",
     "text": [
      "Hypothesis:-14.14\n"
     ]
    }
   ],
   "source": [
    "import math \n",
    "side1=int(input(\"Enter the side 1\"))\n",
    "side2=int(input(\"Enter the side 2\"))\n",
    "hypo=math.sqrt((side1**2)+(side2**2))\n",
    "print(f\"Hypotenuse:-{hypo:.2f}\")"
   ]
  },
  {
   "cell_type": "markdown",
   "id": "43d72078-3afe-484e-8d3b-b8af66dd0e06",
   "metadata": {},
   "source": [
    "## circumference (2 precision)"
   ]
  },
  {
   "cell_type": "code",
   "execution_count": 21,
   "id": "701a8188-814e-41f4-8edf-f98d80f8d5a8",
   "metadata": {},
   "outputs": [
    {
     "name": "stdin",
     "output_type": "stream",
     "text": [
      "Enetr the radius 10\n"
     ]
    },
    {
     "name": "stdout",
     "output_type": "stream",
     "text": [
      "cicumference:-62.80\n"
     ]
    }
   ],
   "source": [
    "r=float(input(\"Enetr the radius\"))\n",
    "pi=3.14\n",
    "y=(2*pi*r)\n",
    "print(f\"cicumference:-{y:.2f}\")"
   ]
  },
  {
   "cell_type": "code",
   "execution_count": 5,
   "id": "002eb465-e784-4349-8edb-8744569a8a8e",
   "metadata": {},
   "outputs": [
    {
     "name": "stdout",
     "output_type": "stream",
     "text": [
      "20 10\n"
     ]
    }
   ],
   "source": [
    "a=10\n",
    "b=20\n",
    "a,b=b,a\n",
    "print(a,b)"
   ]
  },
  {
   "cell_type": "code",
   "execution_count": 8,
   "id": "75baa147-3865-4afa-bf12-c5fc0c86306d",
   "metadata": {},
   "outputs": [
    {
     "name": "stdin",
     "output_type": "stream",
     "text": [
      "Enter the tempreture 36\n"
     ]
    },
    {
     "name": "stdout",
     "output_type": "stream",
     "text": [
      "96.8\n",
      "309.15\n"
     ]
    }
   ],
   "source": [
    "x=int(input(\"Enter the tempreture in celsius\"))\n",
    "fah=x*9/5+32\n",
    "kel=x+273.15\n",
    "print(fah)\n",
    "print(kel)"
   ]
  },
  {
   "cell_type": "code",
   "execution_count": 11,
   "id": "d0e3ca72-2cc7-48eb-a3d5-c7f352b9da2a",
   "metadata": {},
   "outputs": [
    {
     "name": "stdout",
     "output_type": "stream",
     "text": [
      "7326.0\n"
     ]
    }
   ],
   "source": [
    "x = 5*99*(3+0.7)*8/2\n",
    "print(x)"
   ]
  },
  {
   "cell_type": "code",
   "execution_count": null,
   "id": "dda79f06-8979-4029-90ad-229a29250a88",
   "metadata": {},
   "outputs": [],
   "source": []
  },
  {
   "cell_type": "code",
   "execution_count": null,
   "id": "c4fe2831-7126-4947-9f0f-dffeae31ddd2",
   "metadata": {},
   "outputs": [],
   "source": []
  },
  {
   "cell_type": "code",
   "execution_count": null,
   "id": "958bb42c-d8c9-4abe-b937-e4702f93cec8",
   "metadata": {},
   "outputs": [],
   "source": []
  }
 ],
 "metadata": {
  "kernelspec": {
   "display_name": "Python 3 (ipykernel)",
   "language": "python",
   "name": "python3"
  },
  "language_info": {
   "codemirror_mode": {
    "name": "ipython",
    "version": 3
   },
   "file_extension": ".py",
   "mimetype": "text/x-python",
   "name": "python",
   "nbconvert_exporter": "python",
   "pygments_lexer": "ipython3",
   "version": "3.12.2"
  }
 },
 "nbformat": 4,
 "nbformat_minor": 5
}
