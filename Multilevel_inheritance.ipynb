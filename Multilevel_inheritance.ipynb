{
 "cells": [
  {
   "cell_type": "code",
   "execution_count": 36,
   "id": "4388ab27-8f03-427a-975c-065e4f1f7651",
   "metadata": {},
   "outputs": [
    {
     "name": "stdout",
     "output_type": "stream",
     "text": [
      "number of days:- 8\n",
      "number of hours work 23\n"
     ]
    },
    {
     "ename": "AttributeError",
     "evalue": "'Temporarystaff' object has no attribute 'salary_earned'",
     "output_type": "error",
     "traceback": [
      "\u001b[1;31m---------------------------------------------------------------------------\u001b[0m",
      "\u001b[1;31mAttributeError\u001b[0m                            Traceback (most recent call last)",
      "Cell \u001b[1;32mIn[36], line 30\u001b[0m\n\u001b[0;32m     27\u001b[0m         \u001b[38;5;28mprint\u001b[39m(\u001b[38;5;124m\"\u001b[39m\u001b[38;5;124msalary earned:-\u001b[39m\u001b[38;5;124m\"\u001b[39m, \u001b[38;5;28mself\u001b[39m\u001b[38;5;241m.\u001b[39msalary_earned)\n\u001b[0;32m     29\u001b[0m ts \u001b[38;5;241m=\u001b[39m Temporarystaff(\u001b[38;5;124m\"\u001b[39m\u001b[38;5;124mAbbas\u001b[39m\u001b[38;5;124m\"\u001b[39m,\u001b[38;5;241m101\u001b[39m,\u001b[38;5;241m8\u001b[39m,\u001b[38;5;241m23\u001b[39m)\n\u001b[1;32m---> 30\u001b[0m \u001b[43mts\u001b[49m\u001b[38;5;241;43m.\u001b[39;49m\u001b[43mdisplay\u001b[49m\u001b[43m(\u001b[49m\u001b[43m)\u001b[49m\n\u001b[0;32m     31\u001b[0m ts\u001b[38;5;241m.\u001b[39msalary()\n",
      "Cell \u001b[1;32mIn[36], line 27\u001b[0m, in \u001b[0;36mTemporarystaff.display\u001b[1;34m(self)\u001b[0m\n\u001b[0;32m     25\u001b[0m \u001b[38;5;28mprint\u001b[39m(\u001b[38;5;124m\"\u001b[39m\u001b[38;5;124mnumber of days:-\u001b[39m\u001b[38;5;124m\"\u001b[39m, \u001b[38;5;28mself\u001b[39m\u001b[38;5;241m.\u001b[39mdays)\n\u001b[0;32m     26\u001b[0m \u001b[38;5;28mprint\u001b[39m(\u001b[38;5;124m\"\u001b[39m\u001b[38;5;124mnumber of hours work\u001b[39m\u001b[38;5;124m\"\u001b[39m, \u001b[38;5;28mself\u001b[39m\u001b[38;5;241m.\u001b[39mhwork)\n\u001b[1;32m---> 27\u001b[0m \u001b[38;5;28mprint\u001b[39m(\u001b[38;5;124m\"\u001b[39m\u001b[38;5;124msalary earned:-\u001b[39m\u001b[38;5;124m\"\u001b[39m, \u001b[38;5;28;43mself\u001b[39;49m\u001b[38;5;241;43m.\u001b[39;49m\u001b[43msalary_earned\u001b[49m)\n",
      "\u001b[1;31mAttributeError\u001b[0m: 'Temporarystaff' object has no attribute 'salary_earned'"
     ]
    }
   ],
   "source": [
    "class person:\n",
    "    def __init__(self, name):\n",
    "        self.name = name\n",
    "   \n",
    "    def display(self):\n",
    "        print(\"Name:\", self.name)\n",
    "\n",
    "class staff(person):\n",
    "    def __init__(self, id):\n",
    "        self.id = id\n",
    "   \n",
    "    def display(self):\n",
    "        print(\"Name:\", self.id)\n",
    "\n",
    "class Temporarystaff(staff):\n",
    "    def __init__(self,name,id,days, hwork):\n",
    "        self.days = days\n",
    "        self.hwork = hwork\n",
    "   \n",
    "    def salary(self):\n",
    "        self.salary_earned = self.hwork * 150\n",
    "  \n",
    "\n",
    "    def display(self):\n",
    "        print(\"number of days:-\", self.days)\n",
    "        print(\"number of hours work\", self.hwork)\n",
    "        print(\"salary earned:-\", self.sala)\n",
    "\n",
    "ts = Temporarystaff(\"Abbas\",101,8,23)\n",
    "ts.display()\n",
    "\n"
   ]
  },
  {
   "cell_type": "code",
   "execution_count": null,
   "id": "1c777d3a-bdde-484e-9f53-b8942ba29910",
   "metadata": {},
   "outputs": [],
   "source": []
  }
 ],
 "metadata": {
  "kernelspec": {
   "display_name": "Python 3 (ipykernel)",
   "language": "python",
   "name": "python3"
  },
  "language_info": {
   "codemirror_mode": {
    "name": "ipython",
    "version": 3
   },
   "file_extension": ".py",
   "mimetype": "text/x-python",
   "name": "python",
   "nbconvert_exporter": "python",
   "pygments_lexer": "ipython3",
   "version": "3.12.2"
  }
 },
 "nbformat": 4,
 "nbformat_minor": 5
}
