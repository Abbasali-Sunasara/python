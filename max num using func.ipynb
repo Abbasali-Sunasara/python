{
 "cells": [
  {
   "cell_type": "code",
   "execution_count": 3,
   "id": "a393ad00-e927-4b6e-a382-53013e897624",
   "metadata": {},
   "outputs": [
    {
     "name": "stdin",
     "output_type": "stream",
     "text": [
      "Enter number 2\n",
      "Enter number 3\n",
      "Enter number 4\n"
     ]
    },
    {
     "name": "stdout",
     "output_type": "stream",
     "text": [
      "The max num is :- 4\n"
     ]
    }
   ],
   "source": [
    "n1=int(input(\"Enter number\"))\n",
    "n2=int(input(\"Enter number\"))\n",
    "n3=int(input(\"Enter number\"))\n",
    "\n",
    "def max(a,b,c):\n",
    "    max= a if a>b else b \n",
    "    max = max if max>c else c\n",
    "    print(\"The max num is :-\",max)\n",
    "\n",
    "max(n1,n2,n3)"
   ]
  },
  {
   "cell_type": "code",
   "execution_count": null,
   "id": "71430f1e-5052-464a-ac9d-16aa41917766",
   "metadata": {},
   "outputs": [],
   "source": []
  }
 ],
 "metadata": {
  "kernelspec": {
   "display_name": "Python 3 (ipykernel)",
   "language": "python",
   "name": "python3"
  },
  "language_info": {
   "codemirror_mode": {
    "name": "ipython",
    "version": 3
   },
   "file_extension": ".py",
   "mimetype": "text/x-python",
   "name": "python",
   "nbconvert_exporter": "python",
   "pygments_lexer": "ipython3",
   "version": "3.12.2"
  }
 },
 "nbformat": 4,
 "nbformat_minor": 5
}
