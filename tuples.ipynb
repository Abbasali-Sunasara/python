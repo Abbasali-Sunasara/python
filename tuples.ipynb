{
 "cells": [
  {
   "cell_type": "code",
   "execution_count": 3,
   "id": "09b2b139-844a-4963-8b93-04d7dfb9ab96",
   "metadata": {},
   "outputs": [
    {
     "name": "stdout",
     "output_type": "stream",
     "text": [
      "(45, 53, 'hello')\n"
     ]
    }
   ],
   "source": [
    "value_tuple=45,53,'hello'\n",
    "print(value_tuple)"
   ]
  },
  {
   "cell_type": "code",
   "execution_count": 7,
   "id": "a275ee66-f071-488a-83d6-a3937e75baba",
   "metadata": {},
   "outputs": [
    {
     "name": "stdout",
     "output_type": "stream",
     "text": [
      "('hello',)\n"
     ]
    }
   ],
   "source": [
    "t=('hello',)\n",
    "print(t)"
   ]
  },
  {
   "cell_type": "code",
   "execution_count": 11,
   "id": "4aba15fa-7025-437d-9ee6-2c135df8abb0",
   "metadata": {},
   "outputs": [
    {
     "ename": "NameError",
     "evalue": "name 'tup' is not defined",
     "output_type": "error",
     "traceback": [
      "\u001b[1;31m---------------------------------------------------------------------------\u001b[0m",
      "\u001b[1;31mNameError\u001b[0m                                 Traceback (most recent call last)",
      "Cell \u001b[1;32mIn[11], line 2\u001b[0m\n\u001b[0;32m      1\u001b[0m tupl\u001b[38;5;241m=\u001b[39m(\u001b[38;5;241m26\u001b[39m,\u001b[38;5;241m25\u001b[39m,\u001b[38;5;241m29\u001b[39m)\n\u001b[1;32m----> 2\u001b[0m \u001b[43mtup\u001b[49m[\u001b[38;5;241m1\u001b[39m]\u001b[38;5;241m=\u001b[39m\u001b[38;5;241m45\u001b[39m \u001b[38;5;66;03m##immutable\u001b[39;00m\n\u001b[0;32m      3\u001b[0m \u001b[38;5;28mprint\u001b[39m(tup)\n",
      "\u001b[1;31mNameError\u001b[0m: name 'tup' is not defined"
     ]
    }
   ],
   "source": [
    "tupl=(26,25,29)\n",
    "tup[1]=45 ##immutable\n",
    "print(tup)"
   ]
  },
  {
   "cell_type": "code",
   "execution_count": 13,
   "id": "26591e34-3ee9-416f-9fce-469075e5a45b",
   "metadata": {},
   "outputs": [
    {
     "name": "stdout",
     "output_type": "stream",
     "text": [
      "(45, 53, 'hello', 32, 22, 'world')\n"
     ]
    }
   ],
   "source": [
    "v=45,53,'hello'\n",
    "v1=32,22,'world'\n",
    "print(v+v1)"
   ]
  },
  {
   "cell_type": "code",
   "execution_count": 14,
   "id": "bfeb5a17-2fed-4844-8d5a-1e48256679a8",
   "metadata": {},
   "outputs": [
    {
     "name": "stdout",
     "output_type": "stream",
     "text": [
      "((45, 53, 'hello'), (32, 22, 'world'))\n"
     ]
    }
   ],
   "source": [
    "v=45,53,'hello'\n",
    "v1=32,22,'world'\n",
    "v2=v,v1\n",
    "print(v2)"
   ]
  },
  {
   "cell_type": "code",
   "execution_count": 15,
   "id": "5f9b0554-610d-4b1d-badf-3f5c5c61b5d9",
   "metadata": {},
   "outputs": [
    {
     "name": "stdout",
     "output_type": "stream",
     "text": [
      "(45, 53, 'hello', 45, 53, 'hello')\n"
     ]
    }
   ],
   "source": [
    "value_tuple=(45,53,'hello')*2\n",
    "print(value_tuple)"
   ]
  },
  {
   "cell_type": "code",
   "execution_count": 24,
   "id": "16226092-1a54-4ae7-b16e-170bff83cd12",
   "metadata": {},
   "outputs": [
    {
     "name": "stdout",
     "output_type": "stream",
     "text": [
      "(45, 53, 'hello')\n"
     ]
    }
   ],
   "source": [
    "v=(45,53,'hello')\n",
    "print(v[:3])"
   ]
  },
  {
   "cell_type": "code",
   "execution_count": 25,
   "id": "0f804191-d154-479b-a211-d346fe60ea72",
   "metadata": {},
   "outputs": [
    {
     "name": "stdout",
     "output_type": "stream",
     "text": [
      "(3, 2, 1)\n"
     ]
    }
   ],
   "source": [
    "v=(1,2,3)\n",
    "print(v[::-1])"
   ]
  },
  {
   "cell_type": "code",
   "execution_count": 1,
   "id": "25435922-e1a4-4eeb-a24d-e41233071e34",
   "metadata": {},
   "outputs": [
    {
     "name": "stdout",
     "output_type": "stream",
     "text": [
      "54\n"
     ]
    }
   ],
   "source": [
    "tup=(54,34,21)\n",
    "print(max(tup))"
   ]
  },
  {
   "cell_type": "code",
   "execution_count": 2,
   "id": "27e9b080-6549-4633-9890-113eb5acaa60",
   "metadata": {},
   "outputs": [
    {
     "name": "stdout",
     "output_type": "stream",
     "text": [
      "21\n"
     ]
    }
   ],
   "source": [
    "tup=(54,34,21)\n",
    "print(min(tup))"
   ]
  },
  {
   "cell_type": "code",
   "execution_count": 3,
   "id": "ea7c81c9-56d5-45a1-af83-97eddd53bb02",
   "metadata": {},
   "outputs": [
    {
     "name": "stdout",
     "output_type": "stream",
     "text": [
      "109\n"
     ]
    }
   ],
   "source": [
    "tup=(54,34,21)\n",
    "print(sum(tup))"
   ]
  },
  {
   "cell_type": "code",
   "execution_count": 4,
   "id": "d12ed19f-ee9e-4579-b620-559a7b238c30",
   "metadata": {},
   "outputs": [
    {
     "name": "stdout",
     "output_type": "stream",
     "text": [
      "True\n"
     ]
    }
   ],
   "source": [
    "tup=(54,34,21)\n",
    "print(any(tup))"
   ]
  },
  {
   "cell_type": "code",
   "execution_count": 8,
   "id": "6262241f-415f-4c93-b7f4-5442429963e9",
   "metadata": {},
   "outputs": [
    {
     "name": "stdout",
     "output_type": "stream",
     "text": [
      "True\n"
     ]
    }
   ],
   "source": [
    "tup=(54,0)\n",
    "print(all(tup))"
   ]
  },
  {
   "cell_type": "code",
   "execution_count": 10,
   "id": "89bffd9d-853c-4e53-be12-969f7f06e760",
   "metadata": {},
   "outputs": [
    {
     "name": "stdout",
     "output_type": "stream",
     "text": [
      "False\n"
     ]
    }
   ],
   "source": [
    "tup=(45,0)\n",
    "print(any(tup))"
   ]
  },
  {
   "cell_type": "code",
   "execution_count": 11,
   "id": "95181adb-7481-4a99-bcf3-0a560aa4ad27",
   "metadata": {},
   "outputs": [
    {
     "name": "stdout",
     "output_type": "stream",
     "text": [
      "True\n"
     ]
    }
   ],
   "source": [
    "tup=()\n",
    "print(all(tup))# by defualt all takes true"
   ]
  },
  {
   "cell_type": "code",
   "execution_count": 12,
   "id": "a69ef33e-9014-4ddf-89e3-a1ceea4b7868",
   "metadata": {},
   "outputs": [
    {
     "name": "stdout",
     "output_type": "stream",
     "text": [
      "apple\n",
      "banana\n",
      "computer\n"
     ]
    }
   ],
   "source": [
    "tup=(\"apple\",\"banana\",\"computer\")\n",
    "for i in tup:\n",
    "    print(i)"
   ]
  },
  {
   "cell_type": "code",
   "execution_count": 13,
   "id": "9d3e9ddf-ba03-493a-b94f-dadbd313d102",
   "metadata": {},
   "outputs": [
    {
     "name": "stdout",
     "output_type": "stream",
     "text": [
      "2\n",
      "1\n",
      "3\n",
      "0\n"
     ]
    }
   ],
   "source": [
    "tup=(6,4,6,'n',7,4,4,8.5)\n",
    "print(tup.count(6))\n",
    "print(tup.count('n'))\n",
    "print(tup.count(4))\n",
    "print(tup.count(8))"
   ]
  },
  {
   "cell_type": "code",
   "execution_count": 15,
   "id": "1a6503ec-195b-4c35-963f-790c27ecadc6",
   "metadata": {},
   "outputs": [
    {
     "name": "stdout",
     "output_type": "stream",
     "text": [
      "4\n",
      "0\n"
     ]
    }
   ],
   "source": [
    "tup=(6,4,6,'n',7,4,4,8.5)\n",
    "print(tup.index(7))\n",
    "print(tup.index(6))"
   ]
  },
  {
   "cell_type": "code",
   "execution_count": 1,
   "id": "6f6c5049-4940-41ea-aaf2-555e7bb5a174",
   "metadata": {},
   "outputs": [
    {
     "ename": "TypeError",
     "evalue": "'tuple' object does not support item assignment",
     "output_type": "error",
     "traceback": [
      "\u001b[1;31m---------------------------------------------------------------------------\u001b[0m",
      "\u001b[1;31mTypeError\u001b[0m                                 Traceback (most recent call last)",
      "Cell \u001b[1;32mIn[1], line 2\u001b[0m\n\u001b[0;32m      1\u001b[0m v_tuple\u001b[38;5;241m=\u001b[39m(\u001b[38;5;241m24\u001b[39m,\u001b[38;5;241m34\u001b[39m,\u001b[38;5;124m'\u001b[39m\u001b[38;5;124mhello\u001b[39m\u001b[38;5;124m'\u001b[39m)\n\u001b[1;32m----> 2\u001b[0m \u001b[43mv_tuple\u001b[49m\u001b[43m[\u001b[49m\u001b[38;5;241;43m1\u001b[39;49m\u001b[43m]\u001b[49m\u001b[38;5;241m=\u001b[39m\u001b[38;5;241m7\u001b[39m\n\u001b[0;32m      3\u001b[0m \u001b[38;5;28mprint\u001b[39m(v_tuple)\n",
      "\u001b[1;31mTypeError\u001b[0m: 'tuple' object does not support item assignment"
     ]
    }
   ],
   "source": [
    "v_tuple=(24,34,'hello')\n",
    "v_tuple[1]=7\n",
    "print(v_tuple)## it will show error as tuple is immutable"
   ]
  },
  {
   "cell_type": "code",
   "execution_count": 2,
   "id": "9938030c-dcce-4070-975f-03a4e8f4e5d9",
   "metadata": {},
   "outputs": [
    {
     "name": "stdout",
     "output_type": "stream",
     "text": [
      "(23, 24, 'hello', 45, 56, 'python')\n"
     ]
    }
   ],
   "source": [
    "v=(23,24,'hello')\n",
    "v1=(45,56,'python')\n",
    "v2=v+v1\n",
    "print(v2)"
   ]
  },
  {
   "cell_type": "code",
   "execution_count": 3,
   "id": "5db43593-1658-495c-95a2-58c35dbe16eb",
   "metadata": {},
   "outputs": [
    {
     "name": "stdout",
     "output_type": "stream",
     "text": [
      "(25, 34, 'hello', 25, 34, 'hello')\n"
     ]
    }
   ],
   "source": [
    "t=(25,34,'hello')*2\n",
    "print(t)"
   ]
  },
  {
   "cell_type": "code",
   "execution_count": 4,
   "id": "c62e2d07-78b2-4564-b95c-a50d93031772",
   "metadata": {},
   "outputs": [
    {
     "name": "stdout",
     "output_type": "stream",
     "text": [
      "34\n"
     ]
    }
   ],
   "source": [
    "t=(25,34,'hello')\n",
    "print(t[1])"
   ]
  },
  {
   "cell_type": "code",
   "execution_count": 5,
   "id": "e8a8a57b-8647-47ea-b2a1-a7ffcd6c7bb3",
   "metadata": {},
   "outputs": [
    {
     "name": "stdout",
     "output_type": "stream",
     "text": [
      "(25, 34, 'hello')\n"
     ]
    }
   ],
   "source": [
    "t=(25,34,'hello')\n",
    "print(t[0:])"
   ]
  },
  {
   "cell_type": "code",
   "execution_count": 8,
   "id": "72f27973-02c0-4f7d-abbd-4a9f0cc05bb2",
   "metadata": {},
   "outputs": [
    {
     "name": "stdout",
     "output_type": "stream",
     "text": [
      "(26, 45, 'hello')\n"
     ]
    }
   ],
   "source": [
    "t=(26,45,'hello',7.5)\n",
    "print(t[:3])"
   ]
  },
  {
   "cell_type": "code",
   "execution_count": 10,
   "id": "fb757fcc-2af8-4a86-9956-7648bf5b73a9",
   "metadata": {},
   "outputs": [
    {
     "ename": "TypeError",
     "evalue": "'tuple' object doesn't support item deletion",
     "output_type": "error",
     "traceback": [
      "\u001b[1;31m---------------------------------------------------------------------------\u001b[0m",
      "\u001b[1;31mTypeError\u001b[0m                                 Traceback (most recent call last)",
      "Cell \u001b[1;32mIn[10], line 2\u001b[0m\n\u001b[0;32m      1\u001b[0m t\u001b[38;5;241m=\u001b[39m(\u001b[38;5;241m26\u001b[39m,\u001b[38;5;241m45\u001b[39m,\u001b[38;5;124m'\u001b[39m\u001b[38;5;124mhello\u001b[39m\u001b[38;5;124m'\u001b[39m,\u001b[38;5;241m7.5\u001b[39m)\n\u001b[1;32m----> 2\u001b[0m \u001b[38;5;28;01mdel\u001b[39;00m(\u001b[43mt\u001b[49m\u001b[43m[\u001b[49m\u001b[38;5;241;43m1\u001b[39;49m\u001b[43m]\u001b[49m)\u001b[38;5;66;03m## error because tuple does not support item deletion\u001b[39;00m\n\u001b[0;32m      3\u001b[0m \u001b[38;5;28mprint\u001b[39m(t)\n",
      "\u001b[1;31mTypeError\u001b[0m: 'tuple' object doesn't support item deletion"
     ]
    }
   ],
   "source": [
    "t=(26,45,'hello',7.5)\n",
    "del(t[1])## error because tuple does not support item deletion\n",
    "print(t)"
   ]
  },
  {
   "cell_type": "code",
   "execution_count": 1,
   "id": "dc9ecefb-2b79-4da4-afc1-562308d5c190",
   "metadata": {},
   "outputs": [
    {
     "name": "stdout",
     "output_type": "stream",
     "text": [
      "5\n"
     ]
    }
   ],
   "source": [
    "tuple=('developer',5,8.9,'r',8)\n",
    "print(len(tuple))"
   ]
  },
  {
   "cell_type": "code",
   "execution_count": 2,
   "id": "be2eee25-caea-494a-915f-040b4c27cc28",
   "metadata": {},
   "outputs": [
    {
     "name": "stdout",
     "output_type": "stream",
     "text": [
      "89\n"
     ]
    }
   ],
   "source": [
    "tuple=(9,5,89,4,8)\n",
    "print(max(tuple))"
   ]
  },
  {
   "cell_type": "code",
   "execution_count": 3,
   "id": "bc22ff64-c1bb-4964-be8f-eb2eb6af4a6f",
   "metadata": {},
   "outputs": [
    {
     "name": "stdout",
     "output_type": "stream",
     "text": [
      "4\n"
     ]
    }
   ],
   "source": [
    "tuple=(9,5,89,4,8)\n",
    "print(min(tuple))"
   ]
  },
  {
   "cell_type": "code",
   "execution_count": 4,
   "id": "5d032813-70e2-4fdd-8f74-c9dae7166850",
   "metadata": {},
   "outputs": [
    {
     "name": "stdout",
     "output_type": "stream",
     "text": [
      "115\n"
     ]
    }
   ],
   "source": [
    "tuple=(9,5,89,4,8)\n",
    "print(sum(tuple))"
   ]
  },
  {
   "cell_type": "code",
   "execution_count": 5,
   "id": "b4962c18-2ed9-4734-b54a-206e19937175",
   "metadata": {},
   "outputs": [
    {
     "name": "stdout",
     "output_type": "stream",
     "text": [
      "[4, 5, 8, 9, 89]\n"
     ]
    }
   ],
   "source": [
    "tuple=(9,5,89,4,8)\n",
    "print(sorted(tuple))"
   ]
  },
  {
   "cell_type": "code",
   "execution_count": 7,
   "id": "bf44d30b-84f9-4e4e-b72e-5932e983c9e4",
   "metadata": {},
   "outputs": [
    {
     "name": "stdout",
     "output_type": "stream",
     "text": [
      "True\n"
     ]
    }
   ],
   "source": [
    "tuple=(0,1)\n",
    "print(any(tuple))"
   ]
  },
  {
   "cell_type": "code",
   "execution_count": 10,
   "id": "c15f78ff-27d3-4d80-b3ac-df831644613e",
   "metadata": {},
   "outputs": [
    {
     "name": "stdout",
     "output_type": "stream",
     "text": [
      "True\n"
     ]
    }
   ],
   "source": [
    "tuple=()\n",
    "print(all(tuple))# true"
   ]
  },
  {
   "cell_type": "code",
   "execution_count": 11,
   "id": "30bd69de-9d00-47ff-af87-1505cfec78cc",
   "metadata": {},
   "outputs": [
    {
     "name": "stdout",
     "output_type": "stream",
     "text": [
      "False\n"
     ]
    }
   ],
   "source": [
    "tuple=()\n",
    "print(any(tuple))# false"
   ]
  },
  {
   "cell_type": "code",
   "execution_count": 12,
   "id": "df2b0f74-c5de-4355-af6a-ed9f41b8e9ae",
   "metadata": {},
   "outputs": [
    {
     "name": "stdout",
     "output_type": "stream",
     "text": [
      "3\n"
     ]
    }
   ],
   "source": [
    "tuple=(2,2,2,4,7.8,20)\n",
    "print(tuple.count(2))"
   ]
  },
  {
   "cell_type": "code",
   "execution_count": 15,
   "id": "e99bf7dc-129c-4e61-9df5-66c0893e0dd8",
   "metadata": {},
   "outputs": [
    {
     "name": "stdout",
     "output_type": "stream",
     "text": [
      "4\n"
     ]
    }
   ],
   "source": [
    "tuple=(2,2,2,4,7.8,20)\n",
    "print(tuple.index(7.8))"
   ]
  },
  {
   "cell_type": "code",
   "execution_count": 1,
   "id": "41c48ccb-2496-4869-b79c-0ac8b402a4a3",
   "metadata": {},
   "outputs": [
    {
     "name": "stdout",
     "output_type": "stream",
     "text": [
      "One\n",
      "Two\n",
      "Three\n"
     ]
    }
   ],
   "source": [
    "number=(\"One\",\"Two\",\"Three\")\n",
    "i=0\n",
    "while i<len(number):\n",
    "    print(number[i])\n",
    "    i=i+1"
   ]
  },
  {
   "cell_type": "code",
   "execution_count": null,
   "id": "a786b49d-cd8b-40f5-9663-912c6d23a8e0",
   "metadata": {},
   "outputs": [],
   "source": [
    "number=(\"One\",\"Two\",\"Three\")\n",
    "for i in number:\n",
    "    print(i)"
   ]
  }
 ],
 "metadata": {
  "kernelspec": {
   "display_name": "Python 3 (ipykernel)",
   "language": "python",
   "name": "python3"
  },
  "language_info": {
   "codemirror_mode": {
    "name": "ipython",
    "version": 3
   },
   "file_extension": ".py",
   "mimetype": "text/x-python",
   "name": "python",
   "nbconvert_exporter": "python",
   "pygments_lexer": "ipython3",
   "version": "3.12.2"
  }
 },
 "nbformat": 4,
 "nbformat_minor": 5
}
