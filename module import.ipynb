{
 "cells": [
  {
   "cell_type": "code",
   "execution_count": 3,
   "id": "64ab2074-b1ba-490f-9608-5af92e8a2ca9",
   "metadata": {},
   "outputs": [
    {
     "name": "stdout",
     "output_type": "stream",
     "text": [
      "22\n",
      "30\n"
     ]
    }
   ],
   "source": [
    "import calc\n",
    "print(calc.add(10,12))\n",
    "print(calc.sub(50,20))"
   ]
  },
  {
   "cell_type": "code",
   "execution_count": null,
   "id": "0cbc1f5f-c1d3-486b-896a-6d73cc2a5c49",
   "metadata": {},
   "outputs": [],
   "source": []
  }
 ],
 "metadata": {
  "kernelspec": {
   "display_name": "Python 3 (ipykernel)",
   "language": "python",
   "name": "python3"
  },
  "language_info": {
   "codemirror_mode": {
    "name": "ipython",
    "version": 3
   },
   "file_extension": ".py",
   "mimetype": "text/x-python",
   "name": "python",
   "nbconvert_exporter": "python",
   "pygments_lexer": "ipython3",
   "version": "3.12.2"
  }
 },
 "nbformat": 4,
 "nbformat_minor": 5
}
