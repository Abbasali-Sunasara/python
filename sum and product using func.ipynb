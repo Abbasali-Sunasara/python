{
 "cells": [
  {
   "cell_type": "code",
   "execution_count": 25,
   "id": "b1d75360-70d0-42c1-ac0f-e0424da2102b",
   "metadata": {},
   "outputs": [
    {
     "name": "stdin",
     "output_type": "stream",
     "text": [
      "Enter the x number 2\n",
      "Enter the y number 2\n",
      "Enter the z number 2\n"
     ]
    },
    {
     "name": "stdout",
     "output_type": "stream",
     "text": [
      "sum is 6.0\n",
      "product is 8.0\n"
     ]
    }
   ],
   "source": [
    "x=int(input(\"Enter the x number\"))\n",
    "y=float(input(\"Enter the y number\"))\n",
    "z=int(input(\"Enter the z number\"))\n",
    "\n",
    "\n",
    "def sum_pro(x,y,z):\n",
    "      a=x+y+z\n",
    "      b=x*y*z\n",
    "      print(\"sum is\",a)\n",
    "      print(\"product is\",b)\n",
    "\n",
    "\n",
    "sum_pro(x,y,z)"
   ]
  },
  {
   "cell_type": "code",
   "execution_count": null,
   "id": "5baa9c52-de0c-4096-aa3f-557f415d1001",
   "metadata": {},
   "outputs": [],
   "source": []
  }
 ],
 "metadata": {
  "kernelspec": {
   "display_name": "Python 3 (ipykernel)",
   "language": "python",
   "name": "python3"
  },
  "language_info": {
   "codemirror_mode": {
    "name": "ipython",
    "version": 3
   },
   "file_extension": ".py",
   "mimetype": "text/x-python",
   "name": "python",
   "nbconvert_exporter": "python",
   "pygments_lexer": "ipython3",
   "version": "3.12.2"
  }
 },
 "nbformat": 4,
 "nbformat_minor": 5
}
