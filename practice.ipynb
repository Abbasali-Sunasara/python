{
 "cells": [
  {
   "cell_type": "code",
   "execution_count": 1,
   "id": "a175d7f6-31e0-40fa-93c5-acd13336228f",
   "metadata": {},
   "outputs": [
    {
     "name": "stdout",
     "output_type": "stream",
     "text": [
      "20 10\n"
     ]
    }
   ],
   "source": [
    "a=10\n",
    "b=20\n",
    "a,b=b,a\n",
    "print(a,b)"
   ]
  },
  {
   "cell_type": "code",
   "execution_count": 2,
   "id": "3f10f827-8f98-47b4-8587-bdd1f75a996b",
   "metadata": {},
   "outputs": [
    {
     "name": "stdin",
     "output_type": "stream",
     "text": [
      "Enter the tempreture in celsius 12\n"
     ]
    },
    {
     "name": "stdout",
     "output_type": "stream",
     "text": [
      "53.6\n",
      "285.15\n"
     ]
    }
   ],
   "source": [
    "x=int(input(\"Enter the tempreture in celsius\"))\n",
    "fah=x*9/5+32\n",
    "kel=x+273.15\n",
    "print(fah)\n",
    "print(kel)"
   ]
  },
  {
   "cell_type": "code",
   "execution_count": 3,
   "id": "8ff2f6c0-59f6-410a-a02c-1cf68e443e04",
   "metadata": {},
   "outputs": [
    {
     "name": "stdout",
     "output_type": "stream",
     "text": [
      "7326.0\n",
      "186.20000000000002\n",
      "100.0\n"
     ]
    }
   ],
   "source": [
    "x = 5*99*(3+0.7)*8/2\n",
    "y=7+7*(8*8*2/5)\n",
    "z=(7*3+4)*(8/2)\n",
    "print(x)\n",
    "print(y)\n",
    "print(z)"
   ]
  },
  {
   "cell_type": "code",
   "execution_count": 4,
   "id": "57bcaaca-8f1f-447d-abe0-51fb05a8a1cd",
   "metadata": {},
   "outputs": [
    {
     "name": "stdout",
     "output_type": "stream",
     "text": [
      "20\n",
      "10\n"
     ]
    }
   ],
   "source": [
    "a=10\n",
    "b=20\n",
    "temp=a\n",
    "a=b\n",
    "b=temp\n",
    "print(a)\n",
    "print(b)"
   ]
  },
  {
   "cell_type": "code",
   "execution_count": 5,
   "id": "ed15b0c1-6015-42c0-b952-498d92754951",
   "metadata": {},
   "outputs": [
    {
     "name": "stdout",
     "output_type": "stream",
     "text": [
      "20\n",
      "10\n"
     ]
    }
   ],
   "source": [
    "a=10\n",
    "b=20\n",
    "c=a+b\n",
    "a=c-a\n",
    "b=c-b\n",
    "print(a)\n",
    "print(b)"
   ]
  },
  {
   "cell_type": "code",
   "execution_count": 6,
   "id": "21ace017-66b4-4cc0-bb50-6c2b6ec6d0c6",
   "metadata": {},
   "outputs": [
    {
     "name": "stdout",
     "output_type": "stream",
     "text": [
      "20 10\n"
     ]
    }
   ],
   "source": [
    "a=10\n",
    "b=20\n",
    "a=a*b\n",
    "b=a//b\n",
    "a=a//b\n",
    "print(a,b)\n"
   ]
  },
  {
   "cell_type": "code",
   "execution_count": 7,
   "id": "9869e64f-b70a-40dc-b355-90c6ee25b162",
   "metadata": {},
   "outputs": [
    {
     "name": "stdout",
     "output_type": "stream",
     "text": [
      "20\n",
      "10\n"
     ]
    }
   ],
   "source": [
    "a=10\n",
    "b=20\n",
    "c=a^b\n",
    "a=c-a\n",
    "b=c-b\n",
    "print(a)\n",
    "print(b)\n"
   ]
  },
  {
   "cell_type": "markdown",
   "id": "17d9e770-e7c0-4b0e-9dda-a939600d3b9e",
   "metadata": {},
   "source": [
    "### find the sum of n given numbers"
   ]
  },
  {
   "cell_type": "code",
   "execution_count": 8,
   "id": "2e753437-9743-4c3b-934b-64804e370d50",
   "metadata": {},
   "outputs": [
    {
     "name": "stdin",
     "output_type": "stream",
     "text": [
      "Enter the number 4\n"
     ]
    },
    {
     "name": "stdout",
     "output_type": "stream",
     "text": [
      "10\n"
     ]
    }
   ],
   "source": [
    "n = int(input(\"Enter the number\"))\n",
    "sum = 0\n",
    "for i in range(1, n+1):\n",
    "       sum = i+sum\n",
    "\n",
    "print(sum)"
   ]
  },
  {
   "cell_type": "code",
   "execution_count": 9,
   "id": "6ea24b83-3690-4561-a61b-3663f1635b19",
   "metadata": {},
   "outputs": [
    {
     "name": "stdout",
     "output_type": "stream",
     "text": [
      "[1, 2, 3, 4, 5, 6, 7, 8, 9, 10]\n",
      "[1, 3, 5, 7, 9]\n"
     ]
    }
   ],
   "source": [
    "li=list(range(1,11))\n",
    "odd=li[::2]\n",
    "print(li)\n",
    "print(odd)"
   ]
  },
  {
   "cell_type": "code",
   "execution_count": 10,
   "id": "b51e08c2-89c8-4911-a5d8-d518f6948a0d",
   "metadata": {},
   "outputs": [
    {
     "name": "stdin",
     "output_type": "stream",
     "text": [
      "Enter the numeber 4\n"
     ]
    },
    {
     "ename": "IndexError",
     "evalue": "list index out of range",
     "output_type": "error",
     "traceback": [
      "\u001b[1;31m---------------------------------------------------------------------------\u001b[0m",
      "\u001b[1;31mIndexError\u001b[0m                                Traceback (most recent call last)",
      "Cell \u001b[1;32mIn[10], line 3\u001b[0m\n\u001b[0;32m      1\u001b[0m li\u001b[38;5;241m=\u001b[39m\u001b[38;5;28mlist\u001b[39m(\u001b[38;5;28mmap\u001b[39m(\u001b[38;5;28mint\u001b[39m, \u001b[38;5;28minput\u001b[39m(\u001b[38;5;124m\"\u001b[39m\u001b[38;5;124mEnter the numeber\u001b[39m\u001b[38;5;124m\"\u001b[39m)\u001b[38;5;241m.\u001b[39msplit()))\n\u001b[0;32m      2\u001b[0m li\u001b[38;5;241m.\u001b[39msort()\n\u001b[1;32m----> 3\u001b[0m sec_largest\u001b[38;5;241m=\u001b[39m\u001b[43mli\u001b[49m\u001b[43m[\u001b[49m\u001b[38;5;241;43m-\u001b[39;49m\u001b[38;5;241;43m2\u001b[39;49m\u001b[43m]\u001b[49m\n\u001b[0;32m      4\u001b[0m \u001b[38;5;28mprint\u001b[39m(sec_largest)\n",
      "\u001b[1;31mIndexError\u001b[0m: list index out of range"
     ]
    }
   ],
   "source": [
    "li=list(map(int, input(\"Enter the numeber\").split()))\n",
    "li.sort()\n",
    "sec_largest=li[-2]\n",
    "print(sec_largest)\n"
   ]
  },
  {
   "cell_type": "code",
   "execution_count": null,
   "id": "8cabf001-8a6f-4b0d-839a-7f6244018ddd",
   "metadata": {},
   "outputs": [],
   "source": [
    "li=list(range(1,11))\n",
    "even=li[1::2]\n",
    "print(li)\n",
    "print(even)"
   ]
  },
  {
   "cell_type": "code",
   "execution_count": null,
   "id": "0ace1ee0-acd7-4c07-89ee-d41925798c3d",
   "metadata": {},
   "outputs": [],
   "source": [
    "n=int(input())\n",
    "b=[]\n",
    "for i in range(n):\n",
    "    a=int(input())\n",
    "    b.append(a)\n",
    "c=[]\n",
    "d=[]\n",
    "for i in b:\n",
    "    if (i%2==0):\n",
    "        c.append(i)\n",
    "    else:\n",
    "        d.append(i)\n",
    "c.sort()\n",
    "d.sort()\n",
    "print(\"largest even number:-\" ,c[-1])\n",
    "print(\"largest odd number:-\" ,d[-1])"
   ]
  },
  {
   "cell_type": "code",
   "execution_count": null,
   "id": "385e1983-1f1f-45d1-8692-26d218f4a9c1",
   "metadata": {},
   "outputs": [],
   "source": [
    "a=list(map(int, input(\"Enter the list\").split()))\n",
    "b=list(map(int, input(\"Enter the list\").split()))\n",
    "union=list(set().union(a,b))\n",
    "union.sort()\n",
    "print(\"union:-\",union)"
   ]
  },
  {
   "cell_type": "code",
   "execution_count": 23,
   "id": "c494cdd0-4c0a-439b-b273-deff1e564837",
   "metadata": {},
   "outputs": [
    {
     "ename": "TypeError",
     "evalue": "'tuple' object does not support item assignment",
     "output_type": "error",
     "traceback": [
      "\u001b[1;31m---------------------------------------------------------------------------\u001b[0m",
      "\u001b[1;31mTypeError\u001b[0m                                 Traceback (most recent call last)",
      "Cell \u001b[1;32mIn[23], line 2\u001b[0m\n\u001b[0;32m      1\u001b[0m a\u001b[38;5;241m=\u001b[39m(\u001b[38;5;241m26\u001b[39m,\u001b[38;5;241m45\u001b[39m,\u001b[38;5;124m\"\u001b[39m\u001b[38;5;124mpyhton\u001b[39m\u001b[38;5;124m\"\u001b[39m)\n\u001b[1;32m----> 2\u001b[0m \u001b[43ma\u001b[49m\u001b[43m[\u001b[49m\u001b[38;5;241;43m2\u001b[39;49m\u001b[43m]\u001b[49m\u001b[38;5;241m=\u001b[39m\u001b[38;5;124m\"\u001b[39m\u001b[38;5;124mtypee\u001b[39m\u001b[38;5;124m\"\u001b[39m \u001b[38;5;66;03m##Error because tuple immutable \u001b[39;00m\n\u001b[0;32m      3\u001b[0m \u001b[38;5;28mprint\u001b[39m(a)\n",
      "\u001b[1;31mTypeError\u001b[0m: 'tuple' object does not support item assignment"
     ]
    }
   ],
   "source": [
    "a=(26,45,\"pyhton\")\n",
    "a[2]=\"typee\" ##Error because tuple immutable \n",
    "print(a)"
   ]
  },
  {
   "cell_type": "code",
   "execution_count": null,
   "id": "36ed41e0-a7ed-4627-afad-8f25cec73348",
   "metadata": {},
   "outputs": [],
   "source": [
    "tup1=(1,2,3)\n",
    "tup2=(4,5,6)\n",
    "tup3=tup1+tup2\n",
    "print(tup3)"
   ]
  },
  {
   "cell_type": "code",
   "execution_count": null,
   "id": "2c2e00e9-4017-4ddf-a790-ec767d786f9b",
   "metadata": {},
   "outputs": [],
   "source": [
    "tup1=(1,2,3)\n",
    "tup2=(4,5,6)\n",
    "tup3=tup1,tup2\n",
    "print(tup3)"
   ]
  },
  {
   "cell_type": "code",
   "execution_count": 1,
   "id": "1ea20998-e9fb-454f-a6b5-7bba3116588b",
   "metadata": {},
   "outputs": [
    {
     "name": "stdout",
     "output_type": "stream",
     "text": [
      "[1, 2, 3, 4, 5, 6]\n",
      "(1, 2, 3, 4, 5, 6)\n"
     ]
    }
   ],
   "source": [
    "tupx=(1,2,3,4,5)\n",
    "c_li=list(tupx)\n",
    "c_li.append(6)\n",
    "print(c_li)\n",
    "c_tupx=tuple(c_li)\n",
    "print(c_tupx)"
   ]
  },
  {
   "cell_type": "code",
   "execution_count": 2,
   "id": "b8a4255d-e4ee-46d3-a498-74d7c8b7e59c",
   "metadata": {},
   "outputs": [
    {
     "name": "stdin",
     "output_type": "stream",
     "text": [
      " 2 \n",
      " 1 2 \n",
      " 22\n"
     ]
    },
    {
     "name": "stdout",
     "output_type": "stream",
     "text": [
      "('1 2 ', '22')\n"
     ]
    }
   ],
   "source": [
    "a=int(input())\n",
    "tuple=()\n",
    "for i in range(a):\n",
    "    tuple=tuple+(input(),)\n",
    "\n",
    "\n",
    "print(tuple)\n",
    "    "
   ]
  },
  {
   "cell_type": "code",
   "execution_count": 6,
   "id": "3369dd2e-4eec-4f35-8746-d5817302db85",
   "metadata": {},
   "outputs": [
    {
     "name": "stdout",
     "output_type": "stream",
     "text": [
      "45\n"
     ]
    }
   ],
   "source": [
    "value_tuple = (26, 23, 45, 56, 77, 92, 12, 24, \"name\")\n",
    "for i in value_tuple:\n",
    "    if 45 == i:\n",
    "        print(i)"
   ]
  },
  {
   "cell_type": "code",
   "execution_count": 10,
   "id": "3a0d1d83-14df-4a56-bdf0-bfe582a15f08",
   "metadata": {},
   "outputs": [
    {
     "name": "stdout",
     "output_type": "stream",
     "text": [
      "77\n",
      "4\n"
     ]
    }
   ],
   "source": [
    "value_tuple = (26, 23, 45, 56, 77, 92, 12, 24, \"name\")\n",
    "for i in range(len(value_tuple)):\n",
    "    if value_tuple[i] == 77:\n",
    "        print(value_tuple[i])\n",
    "        print(i)"
   ]
  },
  {
   "cell_type": "code",
   "execution_count": 17,
   "id": "005540d2-53ec-4278-bcd9-d232f3b6ebf4",
   "metadata": {},
   "outputs": [
    {
     "name": "stdout",
     "output_type": "stream",
     "text": [
      "one two three\n",
      "four\n",
      "five\n"
     ]
    }
   ],
   "source": [
    "numbers=(\"one\",\"two\",\"three\",\"four\",\"five\")\n",
    "(*a,b,c)=numbers\n",
    "print(*a)\n",
    "print(b)\n",
    "print(c)"
   ]
  },
  {
   "cell_type": "code",
   "execution_count": 19,
   "id": "ecf58595-1c63-4af7-8b25-c3c949cd6e0d",
   "metadata": {},
   "outputs": [
    {
     "ename": "TypeError",
     "evalue": "'set' object is not subscriptable",
     "output_type": "error",
     "traceback": [
      "\u001b[1;31m---------------------------------------------------------------------------\u001b[0m",
      "\u001b[1;31mTypeError\u001b[0m                                 Traceback (most recent call last)",
      "Cell \u001b[1;32mIn[19], line 2\u001b[0m\n\u001b[0;32m      1\u001b[0m \u001b[38;5;28mset\u001b[39m\u001b[38;5;241m=\u001b[39m{\u001b[38;5;241m1\u001b[39m,\u001b[38;5;241m2\u001b[39m,\u001b[38;5;241m3\u001b[39m,\u001b[38;5;241m4\u001b[39m}\n\u001b[1;32m----> 2\u001b[0m \u001b[38;5;28mprint\u001b[39m(\u001b[38;5;28;43mset\u001b[39;49m\u001b[43m[\u001b[49m\u001b[38;5;241;43m0\u001b[39;49m\u001b[43m]\u001b[49m)\n",
      "\u001b[1;31mTypeError\u001b[0m: 'set' object is not subscriptable"
     ]
    }
   ],
   "source": []
  },
  {
   "cell_type": "code",
   "execution_count": null,
   "id": "46864c58-b03f-4451-9ce9-47106dc22e5a",
   "metadata": {},
   "outputs": [],
   "source": []
  }
 ],
 "metadata": {
  "kernelspec": {
   "display_name": "Python 3 (ipykernel)",
   "language": "python",
   "name": "python3"
  },
  "language_info": {
   "codemirror_mode": {
    "name": "ipython",
    "version": 3
   },
   "file_extension": ".py",
   "mimetype": "text/x-python",
   "name": "python",
   "nbconvert_exporter": "python",
   "pygments_lexer": "ipython3",
   "version": "3.12.2"
  }
 },
 "nbformat": 4,
 "nbformat_minor": 5
}
