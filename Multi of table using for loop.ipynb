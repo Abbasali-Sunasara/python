{
 "cells": [
  {
   "cell_type": "markdown",
   "id": "baafd5b8-d591-494a-a728-36bd12b07e50",
   "metadata": {},
   "source": [
    "### Table of 5 using for loop"
   ]
  },
  {
   "cell_type": "code",
   "execution_count": 1,
   "id": "5da62afc-b804-42eb-a70b-64be29a8ff3c",
   "metadata": {},
   "outputs": [
    {
     "name": "stdout",
     "output_type": "stream",
     "text": [
      "5 x 1 = 5\n",
      "5 x 2 = 10\n",
      "5 x 3 = 15\n",
      "5 x 4 = 20\n",
      "5 x 5 = 25\n",
      "5 x 6 = 30\n",
      "5 x 7 = 35\n",
      "5 x 8 = 40\n",
      "5 x 9 = 45\n",
      "5 x 10 = 50\n"
     ]
    }
   ],
   "source": [
    "# Table of 5\n",
    "for i in range(1, 11):\n",
    "    print(f\"5 x {i} = {5 * i}\")\n"
   ]
  },
  {
   "cell_type": "markdown",
   "id": "13c316e1-925d-4794-b787-3c81808fdf72",
   "metadata": {},
   "source": [
    "### print negative numbers"
   ]
  },
  {
   "cell_type": "code",
   "execution_count": 2,
   "id": "0a7a4ecf-c1df-4a89-99b9-9d70fd5e68d7",
   "metadata": {},
   "outputs": [
    {
     "name": "stdout",
     "output_type": "stream",
     "text": [
      "-50\n",
      "-49\n",
      "-48\n",
      "-47\n",
      "-46\n",
      "-45\n",
      "-44\n",
      "-43\n",
      "-42\n",
      "-41\n",
      "-40\n"
     ]
    }
   ],
   "source": [
    "for i in range(-50, -39):\n",
    "    print(i)\n"
   ]
  },
  {
   "cell_type": "markdown",
   "id": "bb115e45-73aa-41c0-8b79-3a74fbffddd1",
   "metadata": {},
   "source": [
    "### print Even numbers under 50"
   ]
  },
  {
   "cell_type": "code",
   "execution_count": 7,
   "id": "2a986814-dbd6-42c1-ac23-fde71bfa00bc",
   "metadata": {},
   "outputs": [
    {
     "name": "stdout",
     "output_type": "stream",
     "text": [
      "0\n",
      "2\n",
      "4\n",
      "6\n",
      "8\n",
      "10\n",
      "12\n",
      "14\n",
      "16\n",
      "18\n",
      "20\n",
      "22\n",
      "24\n",
      "26\n",
      "28\n",
      "30\n",
      "32\n",
      "34\n",
      "36\n",
      "38\n",
      "40\n",
      "42\n",
      "44\n",
      "46\n",
      "48\n",
      "50\n",
      "52\n",
      "54\n",
      "56\n",
      "58\n",
      "60\n",
      "62\n",
      "64\n",
      "66\n",
      "68\n",
      "70\n",
      "72\n",
      "74\n",
      "76\n",
      "78\n",
      "80\n",
      "82\n",
      "84\n",
      "86\n",
      "88\n",
      "90\n",
      "92\n",
      "94\n",
      "96\n",
      "98\n"
     ]
    }
   ],
   "source": [
    "for i in range(0, 100, 2):\n",
    "    print(i)"
   ]
  },
  {
   "cell_type": "markdown",
   "id": "f17a64c0-81e6-42f9-8fed-6bb47cbe8f7b",
   "metadata": {},
   "source": [
    "### Reverese the string using for loop"
   ]
  },
  {
   "cell_type": "code",
   "execution_count": 14,
   "id": "e10e1a7c-2583-49f0-82fe-4a7df0a4b524",
   "metadata": {},
   "outputs": [
    {
     "name": "stdout",
     "output_type": "stream",
     "text": [
      "EROLAGANAB\n"
     ]
    }
   ],
   "source": [
    "x = \"BANAGALORE\"\n",
    "r=\"\"\n",
    "for i in x:\n",
    "     r= i+r\n",
    "    \n",
    "print(r)\n",
    "     "
   ]
  },
  {
   "cell_type": "code",
   "execution_count": 29,
   "id": "6cda46ed-465e-4f66-bd21-1dfc57ccbebb",
   "metadata": {},
   "outputs": [
    {
     "name": "stdout",
     "output_type": "stream",
     "text": [
      "\n",
      "Total even numbers: 25\n",
      "Total odd numbers: 25\n"
     ]
    }
   ],
   "source": [
    "# Program to find and count even and odd numbers in the range of 50\n",
    "even_count = 0\n",
    "odd_count = 0\n",
    "\n",
    "for i in range(1, 51):\n",
    "    if i % 2 == 0:\n",
    "        \n",
    "        even_count += 1  \n",
    "    else:\n",
    "        \n",
    "        odd_count += 1  \n",
    "\n",
    "print(f\"\\nTotal even numbers: {even_count}\")\n",
    "print(f\"Total odd numbers: {odd_count}\")\n"
   ]
  },
  {
   "cell_type": "code",
   "execution_count": null,
   "id": "37d37381-bad5-40d8-89c3-f1941fb9d020",
   "metadata": {},
   "outputs": [],
   "source": []
  }
 ],
 "metadata": {
  "kernelspec": {
   "display_name": "Python 3 (ipykernel)",
   "language": "python",
   "name": "python3"
  },
  "language_info": {
   "codemirror_mode": {
    "name": "ipython",
    "version": 3
   },
   "file_extension": ".py",
   "mimetype": "text/x-python",
   "name": "python",
   "nbconvert_exporter": "python",
   "pygments_lexer": "ipython3",
   "version": "3.12.2"
  }
 },
 "nbformat": 4,
 "nbformat_minor": 5
}
