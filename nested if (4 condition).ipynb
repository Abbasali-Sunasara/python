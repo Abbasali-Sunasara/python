{
 "cells": [
  {
   "cell_type": "code",
   "execution_count": 13,
   "id": "7bdcf4f4-5967-4e9d-9fcf-ae6dacc38c85",
   "metadata": {},
   "outputs": [
    {
     "name": "stdin",
     "output_type": "stream",
     "text": [
      "Enter the number:  -2\n"
     ]
    },
    {
     "name": "stdout",
     "output_type": "stream",
     "text": [
      "The number is negative\n"
     ]
    }
   ],
   "source": [
    "a = int(input(\"Enter the number: \"))\n",
    "\n",
    "if a > 0:\n",
    "    if a % 2 == 0:\n",
    "        print(\"The number is positive and even\")\n",
    "    else:\n",
    "        print(\"\")\n",
    "elif a < 0:\n",
    "    if a % 2 != 0:\n",
    "        print(\"The number is negative and odd\")\n",
    "    else:\n",
    "        print(\"The number is negative\")\n",
    "else:\n",
    "    print(\"The number is zero\")\n"
   ]
  },
  {
   "cell_type": "code",
   "execution_count": null,
   "id": "828612f7-45e1-480b-8215-2d7c66761914",
   "metadata": {},
   "outputs": [],
   "source": []
  }
 ],
 "metadata": {
  "kernelspec": {
   "display_name": "Python 3 (ipykernel)",
   "language": "python",
   "name": "python3"
  },
  "language_info": {
   "codemirror_mode": {
    "name": "ipython",
    "version": 3
   },
   "file_extension": ".py",
   "mimetype": "text/x-python",
   "name": "python",
   "nbconvert_exporter": "python",
   "pygments_lexer": "ipython3",
   "version": "3.12.2"
  }
 },
 "nbformat": 4,
 "nbformat_minor": 5
}
