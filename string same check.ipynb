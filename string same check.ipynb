{
 "cells": [
  {
   "cell_type": "code",
   "execution_count": 3,
   "id": "eec8b9ad-078f-4650-b1d8-25e32e1767bc",
   "metadata": {},
   "outputs": [
    {
     "name": "stdin",
     "output_type": "stream",
     "text": [
      "Enter the string 1 face\n",
      "Enter the string 2 faec\n"
     ]
    },
    {
     "name": "stdout",
     "output_type": "stream",
     "text": [
      "String are not same\n"
     ]
    }
   ],
   "source": [
    "x = input(\"Enter the string 1\")\n",
    "y=input(\"Enter the string 2\")\n",
    "\n",
    "if x==y:\n",
    "    print(\"strings are same\")\n",
    "else:\n",
    "    print(\"String are not same\")"
   ]
  },
  {
   "cell_type": "code",
   "execution_count": 6,
   "id": "84485bb0-d0de-4da4-86d9-200959326123",
   "metadata": {},
   "outputs": [
    {
     "data": {
      "text/plain": [
       "str"
      ]
     },
     "execution_count": 6,
     "metadata": {},
     "output_type": "execute_result"
    }
   ],
   "source": []
  },
  {
   "cell_type": "code",
   "execution_count": null,
   "id": "3e3af6a4-9c45-4392-a285-9cc25fff898d",
   "metadata": {},
   "outputs": [],
   "source": []
  }
 ],
 "metadata": {
  "kernelspec": {
   "display_name": "Python 3 (ipykernel)",
   "language": "python",
   "name": "python3"
  },
  "language_info": {
   "codemirror_mode": {
    "name": "ipython",
    "version": 3
   },
   "file_extension": ".py",
   "mimetype": "text/x-python",
   "name": "python",
   "nbconvert_exporter": "python",
   "pygments_lexer": "ipython3",
   "version": "3.12.2"
  }
 },
 "nbformat": 4,
 "nbformat_minor": 5
}
