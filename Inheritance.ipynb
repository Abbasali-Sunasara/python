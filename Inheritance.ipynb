{
 "cells": [
  {
   "cell_type": "code",
   "execution_count": 3,
   "id": "82293a33-7c06-46cd-9c52-3b9db21ac4c1",
   "metadata": {},
   "outputs": [
    {
     "name": "stdout",
     "output_type": "stream",
     "text": [
      "Engine is powerful\n",
      "100km\n"
     ]
    }
   ],
   "source": [
    "class Car:\n",
    "    def speed(self):\n",
    "        print(\"100km\")\n",
    "class Audi(Car):\n",
    "    def engine(self):\n",
    "        print(\"Engine is powerful\")\n",
    "\n",
    "c=Audi()\n",
    "c.engine()\n",
    "c.speed()"
   ]
  },
  {
   "cell_type": "code",
   "execution_count": 9,
   "id": "bfc15c15-d993-4f73-9592-fed09be467c4",
   "metadata": {},
   "outputs": [
    {
     "name": "stdin",
     "output_type": "stream",
     "text": [
      "Enter the first number 25\n",
      "Enter the second number 5\n"
     ]
    },
    {
     "name": "stdout",
     "output_type": "stream",
     "text": [
      "30\n",
      "20\n",
      "125\n",
      "5.0\n"
     ]
    }
   ],
   "source": [
    "x=int(input(\"Enter the first number\"))\n",
    "y=int(input(\"Enter the second number\"))\n",
    "class calculate:\n",
    "    def sum(self,x,y):\n",
    "      self.x=x\n",
    "      self.y=y\n",
    "      print(self.x+self.y)\n",
    "\n",
    "    def sub(self,x,y):\n",
    "      self.x=x\n",
    "      self.y=y\n",
    "      print(self.x-self.y)\n",
    "\n",
    "class AdvanceCalculate(calculate):\n",
    "    def mul(self,x,y):\n",
    "      self.x=x\n",
    "      self.y=y\n",
    "      print(self.x*self.y)\n",
    "\n",
    "    def div(self,x,y):\n",
    "      self.x=x\n",
    "      self.y=y\n",
    "      print(self.x/self.y)\n",
    "c=AdvanceCalculate()\n",
    "c.sum(x,y)\n",
    "c.sub(x,y)\n",
    "c.mul(x,y)\n",
    "c.div(x,y)"
   ]
  },
  {
   "cell_type": "code",
   "execution_count": null,
   "id": "cfe3b579-8bef-49b2-9200-30a6da224e38",
   "metadata": {},
   "outputs": [],
   "source": []
  }
 ],
 "metadata": {
  "kernelspec": {
   "display_name": "Python 3 (ipykernel)",
   "language": "python",
   "name": "python3"
  },
  "language_info": {
   "codemirror_mode": {
    "name": "ipython",
    "version": 3
   },
   "file_extension": ".py",
   "mimetype": "text/x-python",
   "name": "python",
   "nbconvert_exporter": "python",
   "pygments_lexer": "ipython3",
   "version": "3.12.2"
  }
 },
 "nbformat": 4,
 "nbformat_minor": 5
}
