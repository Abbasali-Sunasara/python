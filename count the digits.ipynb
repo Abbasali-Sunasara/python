{
 "cells": [
  {
   "cell_type": "code",
   "execution_count": 5,
   "id": "07b20106-3ea0-433b-a90b-db973d4a2fd6",
   "metadata": {},
   "outputs": [
    {
     "name": "stdin",
     "output_type": "stream",
     "text": [
      "Enter the digits 798797985\n"
     ]
    },
    {
     "name": "stdout",
     "output_type": "stream",
     "text": [
      "The number of digits:- 9\n"
     ]
    }
   ],
   "source": [
    "x=int(input(\"Enter the digits\"))\n",
    "z=str(x)\n",
    "count=0\n",
    "\n",
    "for i in z:\n",
    "    count+=1\n",
    "    \n",
    "print(\"The number of digits:-\",count)"
   ]
  },
  {
   "cell_type": "code",
   "execution_count": null,
   "id": "59408e2c-51be-430a-a4de-9a3f78f36f23",
   "metadata": {},
   "outputs": [],
   "source": []
  }
 ],
 "metadata": {
  "kernelspec": {
   "display_name": "Python 3 (ipykernel)",
   "language": "python",
   "name": "python3"
  },
  "language_info": {
   "codemirror_mode": {
    "name": "ipython",
    "version": 3
   },
   "file_extension": ".py",
   "mimetype": "text/x-python",
   "name": "python",
   "nbconvert_exporter": "python",
   "pygments_lexer": "ipython3",
   "version": "3.12.2"
  }
 },
 "nbformat": 4,
 "nbformat_minor": 5
}
