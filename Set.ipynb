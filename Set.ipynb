{
 "cells": [
  {
   "cell_type": "code",
   "execution_count": 1,
   "id": "97c844e0-1665-4a12-a288-dba6c3c6809c",
   "metadata": {},
   "outputs": [
    {
     "name": "stdout",
     "output_type": "stream",
     "text": [
      "9.5\n",
      "2\n",
      "5\n",
      "PYTHON\n"
     ]
    }
   ],
   "source": [
    "value={2,'PYTHON',5,9.5}\n",
    "for i in value:\n",
    "    print(i)"
   ]
  },
  {
   "cell_type": "code",
   "execution_count": 4,
   "id": "76bdda9c-d1ea-405f-8324-8eeed748c987",
   "metadata": {},
   "outputs": [
    {
     "name": "stdout",
     "output_type": "stream",
     "text": [
      "False\n",
      "True\n"
     ]
    }
   ],
   "source": [
    "value={2,'PYTHON',5,9.5}\n",
    "print('2' in value)\n",
    "print('PYTHON' in value)"
   ]
  },
  {
   "cell_type": "code",
   "execution_count": 6,
   "id": "f21f7ae4-f09d-4864-906a-3f54511f981e",
   "metadata": {},
   "outputs": [
    {
     "name": "stdout",
     "output_type": "stream",
     "text": [
      "{2, 5, 9.5, 'Apple', 'PYTHON'}\n"
     ]
    }
   ],
   "source": [
    "value={2,'PYTHON',5,9.5}\n",
    "value.add(\"Apple\")\n",
    "print(value)"
   ]
  },
  {
   "cell_type": "code",
   "execution_count": 8,
   "id": "55538ae5-70c9-4bd5-9ce3-325113761855",
   "metadata": {},
   "outputs": [
    {
     "name": "stdout",
     "output_type": "stream",
     "text": [
      "5\n"
     ]
    }
   ],
   "source": [
    "value={2,'PYTHON','a',5,9.5}\n",
    "print(len(value))"
   ]
  },
  {
   "cell_type": "code",
   "execution_count": 10,
   "id": "06955eee-452e-44a0-bdc6-e2eec8ea6db9",
   "metadata": {},
   "outputs": [
    {
     "name": "stdout",
     "output_type": "stream",
     "text": [
      "{5, 9.5, 'a', 'PYTHON'}\n"
     ]
    }
   ],
   "source": [
    "value={2,'PYTHON','a',5,9.5}\n",
    "value.remove(2)\n",
    "print(value)"
   ]
  },
  {
   "cell_type": "code",
   "execution_count": 14,
   "id": "c2c3d23c-b2a9-43fd-b3a2-50c72d598e79",
   "metadata": {},
   "outputs": [
    {
     "name": "stdout",
     "output_type": "stream",
     "text": [
      "{5, 9.5, 'a', 'PYTHON'}\n"
     ]
    }
   ],
   "source": [
    "value={2,'PYTHON','a',5,9.5}\n",
    "value.discard(2)\n",
    "print(value)"
   ]
  },
  {
   "cell_type": "code",
   "execution_count": null,
   "id": "651f5ad3-fa64-4d85-a9c7-30aa30034cc6",
   "metadata": {},
   "outputs": [
    {
     "name": "stdout",
     "output_type": "stream",
     "text": [
      "set()\n"
     ]
    }
   ],
   "source": [
    "val_set={2,'PYTHON','a',5,9.4}\n",
    "val_set.clear() #here only values are cleared\n",
    "print(val_set)"
   ]
  },
  {
   "cell_type": "code",
   "execution_count": null,
   "id": "8d4006ff",
   "metadata": {},
   "outputs": [
    {
     "ename": "NameError",
     "evalue": "name 'val_set' is not defined",
     "output_type": "error",
     "traceback": [
      "\u001b[1;31m---------------------------------------------------------------------------\u001b[0m",
      "\u001b[1;31mNameError\u001b[0m                                 Traceback (most recent call last)",
      "Cell \u001b[1;32mIn[3], line 3\u001b[0m\n\u001b[0;32m      1\u001b[0m val_set\u001b[38;5;241m=\u001b[39m{\u001b[38;5;241m2\u001b[39m,\u001b[38;5;124m'\u001b[39m\u001b[38;5;124mPYTHON\u001b[39m\u001b[38;5;124m'\u001b[39m,\u001b[38;5;124m'\u001b[39m\u001b[38;5;124ma\u001b[39m\u001b[38;5;124m'\u001b[39m,\u001b[38;5;241m5\u001b[39m,\u001b[38;5;241m9.4\u001b[39m}\n\u001b[0;32m      2\u001b[0m \u001b[38;5;28;01mdel\u001b[39;00m val_set\n\u001b[1;32m----> 3\u001b[0m \u001b[38;5;28mprint\u001b[39m(\u001b[43mval_set\u001b[49m)\n",
      "\u001b[1;31mNameError\u001b[0m: name 'val_set' is not defined"
     ]
    }
   ],
   "source": [
    "val_set={2,'PYTHON','a',5,9.4}\n",
    "del val_set\n",
    "print(val_set) #Error  because it is deleted, it will print nothing "
   ]
  },
  {
   "cell_type": "code",
   "execution_count": 5,
   "id": "bac56551",
   "metadata": {},
   "outputs": [
    {
     "name": "stdin",
     "output_type": "stream",
     "text": [
      " 4\n",
      " 1\n",
      " 2\n",
      " 3\n",
      " 4\n"
     ]
    },
    {
     "name": "stdout",
     "output_type": "stream",
     "text": [
      "{1, 2, 3, 4}\n"
     ]
    }
   ],
   "source": [
    "v_set=set()\n",
    "n=int(input())\n",
    "for i in range(n):\n",
    "    v_set.add(int(input()))\n",
    "\n",
    "print(v_set)"
   ]
  },
  {
   "cell_type": "code",
   "execution_count": 18,
   "id": "f329f601-d9b3-438d-a4f9-f4add3941a1e",
   "metadata": {},
   "outputs": [
    {
     "name": "stdin",
     "output_type": "stream",
     "text": [
      "Enter the number:- 10\n"
     ]
    },
    {
     "name": "stdout",
     "output_type": "stream",
     "text": [
      "present\n"
     ]
    }
   ],
   "source": [
    "val_set={6,12,26,10}\n",
    "n=int(input(\"Enter the number:-\"))\n",
    "if n in val_set:\n",
    "    print(\"present\")\n",
    "else:\n",
    "    print(\"not present\")\n",
    "  "
   ]
  },
  {
   "cell_type": "code",
   "execution_count": 19,
   "id": "beda7d4d-6963-4055-904d-f835ad0d0236",
   "metadata": {},
   "outputs": [
    {
     "name": "stdout",
     "output_type": "stream",
     "text": [
      "6\n"
     ]
    }
   ],
   "source": [
    "v_set={1,2,3,4,5,6}\n",
    "print(len(v_set))"
   ]
  },
  {
   "cell_type": "code",
   "execution_count": 30,
   "id": "95a23f18-656c-4b8b-bd23-f8fbb4750dbd",
   "metadata": {},
   "outputs": [
    {
     "name": "stdout",
     "output_type": "stream",
     "text": [
      "{'aug', 'may', 'mar', 'feb', 'sep', 'oct', 'jan', 'jul', 'jun', 'nov', 'dec', 'apr'}\n"
     ]
    }
   ],
   "source": [
    "month1={'jan','feb','mar','apr','may','jun'}\n",
    "month2={'jul','aug','sep','oct','nov','dec','jan','jun'}\n",
    "# month=month2 | month1\n",
    "month=month1.union(month2)\n",
    "print(month)\n"
   ]
  },
  {
   "cell_type": "code",
   "execution_count": 35,
   "id": "a379fbd2-1f17-4774-90bf-f043936e5792",
   "metadata": {},
   "outputs": [
    {
     "name": "stdout",
     "output_type": "stream",
     "text": [
      "{'jun', 'jan'}\n"
     ]
    }
   ],
   "source": [
    "#Intersection\n",
    "common = month1 & month2\n",
    "print(common)"
   ]
  },
  {
   "cell_type": "code",
   "execution_count": 34,
   "id": "0125432c-f689-4495-9a10-38f21ab2316c",
   "metadata": {},
   "outputs": [
    {
     "data": {
      "text/plain": [
       "{'jan', 'jun'}"
      ]
     },
     "execution_count": 34,
     "metadata": {},
     "output_type": "execute_result"
    }
   ],
   "source": [
    "month_common=month1.intersection(month2)\n",
    "month_common"
   ]
  },
  {
   "cell_type": "code",
   "execution_count": 36,
   "id": "59ebd041-1aff-4d38-80de-1eafa850515b",
   "metadata": {},
   "outputs": [
    {
     "data": {
      "text/plain": [
       "{'apr', 'feb', 'mar', 'may'}"
      ]
     },
     "execution_count": 36,
     "metadata": {},
     "output_type": "execute_result"
    }
   ],
   "source": [
    "diff=(month1-month2)\n",
    "diff"
   ]
  },
  {
   "cell_type": "code",
   "execution_count": 37,
   "id": "1cd14985-9a07-43a8-b8eb-810d083e3ac4",
   "metadata": {},
   "outputs": [
    {
     "data": {
      "text/plain": [
       "{'aug', 'dec', 'jul', 'nov', 'oct', 'sep'}"
      ]
     },
     "execution_count": 37,
     "metadata": {},
     "output_type": "execute_result"
    }
   ],
   "source": [
    "diff=(month2-month1)\n",
    "diff"
   ]
  },
  {
   "cell_type": "code",
   "execution_count": 38,
   "id": "fe3f39b5-48e5-4e3c-b59f-c10c82cf2084",
   "metadata": {},
   "outputs": [
    {
     "data": {
      "text/plain": [
       "{'apr', 'feb', 'mar', 'may'}"
      ]
     },
     "execution_count": 38,
     "metadata": {},
     "output_type": "execute_result"
    }
   ],
   "source": [
    "xdiff=month1.difference(month2)\n",
    "xdiff"
   ]
  },
  {
   "cell_type": "code",
   "execution_count": 5,
   "id": "197c292a-8ab3-4e4f-8e39-8e6ff2ddb3c6",
   "metadata": {},
   "outputs": [
    {
     "name": "stdout",
     "output_type": "stream",
     "text": [
      "True\n",
      "False\n",
      "False\n"
     ]
    }
   ],
   "source": [
    "month1={'jan','feb','dec','aug','nov'}#set comparison\n",
    "month2={'feb','nov'}\n",
    "print(month1 > month2) # True (left set is super set of the right set)\n",
    "print(month1 < month2) # False (left set is super set if the right one is subset)\n",
    "print(month1 == month2) # False (left set is not equal to right set)"
   ]
  },
  {
   "cell_type": "code",
   "execution_count": null,
   "id": "7e66c48b-6027-4b50-ba3a-704844a056cc",
   "metadata": {},
   "outputs": [],
   "source": []
  }
 ],
 "metadata": {
  "kernelspec": {
   "display_name": "Python 3 (ipykernel)",
   "language": "python",
   "name": "python3"
  },
  "language_info": {
   "codemirror_mode": {
    "name": "ipython",
    "version": 3
   },
   "file_extension": ".py",
   "mimetype": "text/x-python",
   "name": "python",
   "nbconvert_exporter": "python",
   "pygments_lexer": "ipython3",
   "version": "3.12.2"
  }
 },
 "nbformat": 4,
 "nbformat_minor": 5
}
