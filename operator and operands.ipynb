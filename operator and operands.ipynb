{
 "cells": [
  {
   "cell_type": "code",
   "execution_count": 1,
   "id": "9b122cab-5c71-4a5b-a56a-5de59ad42456",
   "metadata": {},
   "outputs": [
    {
     "name": "stdout",
     "output_type": "stream",
     "text": [
      "20 10\n"
     ]
    }
   ],
   "source": [
    "a=10\n",
    "b=20\n",
    "a,b=b,a\n",
    "print(a,b)"
   ]
  },
  {
   "cell_type": "code",
   "execution_count": 2,
   "id": "d70edf66-83d7-4b92-b3fb-40ab5107485e",
   "metadata": {},
   "outputs": [
    {
     "name": "stdin",
     "output_type": "stream",
     "text": [
      "Enter the tempreture in celsius 12\n"
     ]
    },
    {
     "name": "stdout",
     "output_type": "stream",
     "text": [
      "53.6\n",
      "285.15\n"
     ]
    }
   ],
   "source": [
    "x=int(input(\"Enter the tempreture in celsius\"))\n",
    "fah=x*9/5+32\n",
    "kel=x+273.15\n",
    "print(fah)\n",
    "print(kel)"
   ]
  },
  {
   "cell_type": "code",
   "execution_count": 3,
   "id": "5f693db7-de7d-454c-9854-a680ed7c131e",
   "metadata": {},
   "outputs": [
    {
     "name": "stdout",
     "output_type": "stream",
     "text": [
      "7326.0\n",
      "186.20000000000002\n",
      "100.0\n"
     ]
    }
   ],
   "source": [
    "x = 5*99*(3+0.7)*8/2\n",
    "y=7+7*(8*8*2/5)\n",
    "z=(7*3+4)*(8/2)\n",
    "print(x)\n",
    "print(y)\n",
    "print(z)"
   ]
  },
  {
   "cell_type": "markdown",
   "id": "aa8a3ad8-2277-4ab8-ae97-a5791427bce6",
   "metadata": {},
   "source": [
    "## Swapping the value"
   ]
  },
  {
   "cell_type": "code",
   "execution_count": 4,
   "id": "aab642ad-e2f4-4df2-ac20-61a24f0d1911",
   "metadata": {},
   "outputs": [
    {
     "name": "stdout",
     "output_type": "stream",
     "text": [
      "20\n",
      "10\n"
     ]
    }
   ],
   "source": [
    "a=10\n",
    "b=20\n",
    "temp=a\n",
    "a=b\n",
    "b=temp\n",
    "print(a)\n",
    "print(b)"
   ]
  },
  {
   "cell_type": "code",
   "execution_count": 5,
   "id": "b6313372-8928-41d6-8846-c1a0e939697e",
   "metadata": {},
   "outputs": [
    {
     "name": "stdout",
     "output_type": "stream",
     "text": [
      "20\n",
      "10\n"
     ]
    }
   ],
   "source": [
    "a=10\n",
    "b=20\n",
    "c=a+b\n",
    "a=c-a\n",
    "b=c-b\n",
    "print(a)\n",
    "print(b)"
   ]
  },
  {
   "cell_type": "code",
   "execution_count": 6,
   "id": "652f0f49-86be-4710-9e98-74fd1d2d2aa5",
   "metadata": {},
   "outputs": [
    {
     "name": "stdout",
     "output_type": "stream",
     "text": [
      "20 10\n"
     ]
    }
   ],
   "source": [
    "a=10\n",
    "b=20\n",
    "a=a*b\n",
    "b=a//b\n",
    "a=a//b\n",
    "print(a,b)\n"
   ]
  },
  {
   "cell_type": "code",
   "execution_count": 8,
   "id": "846cde9a-36ea-4859-8b74-c292c868e638",
   "metadata": {},
   "outputs": [
    {
     "name": "stdout",
     "output_type": "stream",
     "text": [
      "20\n",
      "10\n"
     ]
    }
   ],
   "source": [
    "a=10\n",
    "b=20\n",
    "c=a^b\n",
    "a=c-a\n",
    "b=c-bnb\n",
    "print(a)\n",
    "print(b)\n"
   ]
  },
  {
   "cell_type": "markdown",
   "id": "23aade65-628d-4fe0-ab9a-dae3eba52e1b",
   "metadata": {},
   "source": [
    "#### Mani, Arun, and Kumar were very close friends at school. They were very good in Mathematics and were the pets of Ranjani Ma'am. Mani, Arun, and Kumar live in the same locality and their gang was known as 3 - Psychos. A new student Logan joins their class and he wanted to be friends with the 3 - Psychos. Logan asked Arun about his home address. Arun wanted to test Logan's mathematical skills and hence told that his house is at the midpoint of the line joining Mani's house and Kumar's house. Logan was puzzled"
   ]
  },
  {
   "cell_type": "code",
   "execution_count": 15,
   "id": "49298c31-0627-4923-bc49-1092ffb40b72",
   "metadata": {},
   "outputs": [
    {
     "name": "stdin",
     "output_type": "stream",
     "text": [
      "Enter x1 value 2\n",
      "Enter x2 value 10\n",
      "Enter y1 value 4\n",
      "Enter y2 value 15\n"
     ]
    },
    {
     "name": "stdout",
     "output_type": "stream",
     "text": [
      "The arun house is located at the midpoint:- (6.0, 9.5)\n"
     ]
    }
   ],
   "source": [
    "x1=int(input(\"Enter x1 value\"))\n",
    "x2=int(input(\"Enter x2 value\"))\n",
    "y1=int(input(\"Enter y1 value\"))\n",
    "y2=int(input(\"Enter y2 value\"))\n",
    "ans=(x1+x2)/2,(y1+y2)/2\n",
    "print(\"The arun house is located at the midpoint:-\",ans)"
   ]
  },
  {
   "cell_type": "markdown",
   "id": "e82216a9-6127-4d57-be43-2d82535aea32",
   "metadata": {},
   "source": [
    "### Calculating the bmi"
   ]
  },
  {
   "cell_type": "code",
   "execution_count": 20,
   "id": "7424828b-7e0e-4e82-835c-c71dfd0b6fee",
   "metadata": {},
   "outputs": [
    {
     "name": "stdin",
     "output_type": "stream",
     "text": [
      "Enter the height 1.6\n",
      "Enter the weight 50\n"
     ]
    },
    {
     "name": "stdout",
     "output_type": "stream",
     "text": [
      "bmi:-19.53\n"
     ]
    }
   ],
   "source": [
    "height=float(input(\"Enter the height\"))\n",
    "weight=int(input(\"Enter the weight\"))\n",
    "bmi=weight/height**2\n",
    "print(f\"bmi:-{bmi:.2f}\")"
   ]
  },
  {
   "cell_type": "markdown",
   "id": "eb7883bf-a1d3-4dcb-8cc5-00c0997c5eb9",
   "metadata": {},
   "source": [
    "## Strings"
   ]
  },
  {
   "cell_type": "code",
   "execution_count": 6,
   "id": "f30629a6-ec8b-4658-af3c-adf5f31c95a5",
   "metadata": {},
   "outputs": [
    {
     "name": "stdout",
     "output_type": "stream",
     "text": [
      "d\n",
      "d\n",
      "He\n",
      "llo world\n"
     ]
    }
   ],
   "source": [
    "a=\"Hello world\"\n",
    "print(a[10])\n",
    "# or\n",
    "print(a[-1])\n",
    "# slicing\n",
    "\n",
    "\n"
   ]
  },
  {
   "cell_type": "code",
   "execution_count": 7,
   "id": "4c428c1a-230e-4002-8566-a792e8c157ce",
   "metadata": {},
   "outputs": [
    {
     "name": "stdout",
     "output_type": "stream",
     "text": [
      "He\n"
     ]
    }
   ],
   "source": [
    "print(a[:2])"
   ]
  },
  {
   "cell_type": "code",
   "execution_count": 8,
   "id": "864db10c-2e9c-4ddb-a8e3-67b8376d32d9",
   "metadata": {},
   "outputs": [
    {
     "name": "stdout",
     "output_type": "stream",
     "text": [
      "llo world\n"
     ]
    }
   ],
   "source": [
    "print(a[2:])"
   ]
  },
  {
   "cell_type": "code",
   "execution_count": 9,
   "id": "be79b4a7-2c6d-48bc-9223-125ddc1a1403",
   "metadata": {},
   "outputs": [
    {
     "name": "stdout",
     "output_type": "stream",
     "text": [
      "Hello wor\n"
     ]
    }
   ],
   "source": [
    "print(a[:-2])"
   ]
  },
  {
   "cell_type": "code",
   "execution_count": 10,
   "id": "a69dd524-68a6-48e0-8134-d67f051a7d80",
   "metadata": {},
   "outputs": [
    {
     "name": "stdout",
     "output_type": "stream",
     "text": [
      "ell\n"
     ]
    }
   ],
   "source": [
    "print(a[1:4])"
   ]
  },
  {
   "cell_type": "code",
   "execution_count": 11,
   "id": "2b91893c-4497-4f03-b8eb-55887f9c80f6",
   "metadata": {},
   "outputs": [
    {
     "name": "stdout",
     "output_type": "stream",
     "text": [
      "ello wo\n"
     ]
    }
   ],
   "source": [
    "print(a[1:8])"
   ]
  },
  {
   "cell_type": "code",
   "execution_count": 12,
   "id": "a76cc911-a4bb-4dce-9e0d-17dd90acb11c",
   "metadata": {},
   "outputs": [
    {
     "name": "stdout",
     "output_type": "stream",
     "text": [
      "ello wo\n"
     ]
    }
   ],
   "source": [
    "print(a[1:-3])"
   ]
  },
  {
   "cell_type": "code",
   "execution_count": 16,
   "id": "b3b769fc-4538-467c-bfad-554f6ebf92ca",
   "metadata": {},
   "outputs": [
    {
     "name": "stdout",
     "output_type": "stream",
     "text": [
      "drWolH\n"
     ]
    }
   ],
   "source": [
    "str=\"Hello World\"\n",
    "print(str[::-2])"
   ]
  },
  {
   "cell_type": "code",
   "execution_count": 17,
   "id": "0d130b29-429a-4b17-b39e-6f01a1d76f08",
   "metadata": {},
   "outputs": [
    {
     "name": "stdout",
     "output_type": "stream",
     "text": [
      "HloWrd\n"
     ]
    }
   ],
   "source": [
    "print(str[0:11:2])\n",
    "# starting:end:steps(gaps)"
   ]
  },
  {
   "cell_type": "code",
   "execution_count": 20,
   "id": "10f1bbc4-2033-41d8-9181-bb4ca1b3a442",
   "metadata": {},
   "outputs": [
    {
     "name": "stdout",
     "output_type": "stream",
     "text": [
      "chunnuchunnumunnu\n"
     ]
    }
   ],
   "source": [
    "print(2*\"chunnu\"+\"munnu\")"
   ]
  },
  {
   "cell_type": "code",
   "execution_count": 32,
   "id": "5685b735-8bfd-4f04-a018-bc5dd5b91570",
   "metadata": {},
   "outputs": [
    {
     "name": "stdout",
     "output_type": "stream",
     "text": [
      "543\n"
     ]
    }
   ],
   "source": [
    "b=\"345\"\n",
    "x=(b[::-1])\n",
    "a=int(x)\n",
    "print(a)\n",
    "\n"
   ]
  },
  {
   "cell_type": "code",
   "execution_count": null,
   "id": "5f3a039f-b780-4a49-9e5f-5d8c002c4222",
   "metadata": {},
   "outputs": [],
   "source": []
  }
 ],
 "metadata": {
  "kernelspec": {
   "display_name": "Python 3 (ipykernel)",
   "language": "python",
   "name": "python3"
  },
  "language_info": {
   "codemirror_mode": {
    "name": "ipython",
    "version": 3
   },
   "file_extension": ".py",
   "mimetype": "text/x-python",
   "name": "python",
   "nbconvert_exporter": "python",
   "pygments_lexer": "ipython3",
   "version": "3.12.2"
  }
 },
 "nbformat": 4,
 "nbformat_minor": 5
}
