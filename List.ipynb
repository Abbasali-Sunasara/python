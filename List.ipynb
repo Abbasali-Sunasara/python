{
 "cells": [
  {
   "cell_type": "code",
   "execution_count": 1,
   "id": "63cf966f-695e-4249-a5c1-cd289ea741c0",
   "metadata": {},
   "outputs": [
    {
     "name": "stdout",
     "output_type": "stream",
     "text": [
      "[1, 2, 3, 4]\n",
      "1\n",
      "2\n",
      "[3, 4]\n"
     ]
    }
   ],
   "source": [
    "num=[1,2,3,4]\n",
    "print(num)\n",
    "a,b,*other=num\n",
    "print(a)\n",
    "print(b)\n",
    "print(other)"
   ]
  },
  {
   "cell_type": "code",
   "execution_count": 2,
   "id": "7335a8a3-d5e9-40f1-85b5-79d72817ae2e",
   "metadata": {},
   "outputs": [
    {
     "name": "stdout",
     "output_type": "stream",
     "text": [
      "Apple\n",
      "banana\n",
      "mango\n",
      "watermelon\n"
     ]
    }
   ],
   "source": [
    "fruit=[\"Apple\", \"banana\",\"kiwi\",\"mango\",\"watermelon\"]\n",
    "for i in fruit:\n",
    "    if i == \"kiwi\":\n",
    "        continue\n",
    "    print(i)   \n",
    "        "
   ]
  },
  {
   "cell_type": "code",
   "execution_count": 3,
   "id": "e5c05d48-d359-4e13-a9ff-d5874c3f2c97",
   "metadata": {},
   "outputs": [
    {
     "name": "stdout",
     "output_type": "stream",
     "text": [
      "5\n",
      "10\n",
      "15\n",
      "20\n"
     ]
    }
   ],
   "source": [
    "num=[1,2,3,4]\n",
    " \n",
    "for i in num:\n",
    "     a=i*5\n",
    "     print(a)"
   ]
  },
  {
   "cell_type": "code",
   "execution_count": 4,
   "id": "a64ab4a2-1db8-4bc6-802b-4832c716a8e4",
   "metadata": {},
   "outputs": [
    {
     "name": "stdout",
     "output_type": "stream",
     "text": [
      "[1, 2, 3, 4]\n",
      "[1, 2, 3, 4, 5]\n"
     ]
    }
   ],
   "source": [
    "num=[1,2,3,4]\n",
    "print(num)\n",
    "num.append(5)\n",
    "print(num)"
   ]
  },
  {
   "cell_type": "code",
   "execution_count": 5,
   "id": "14dffc82-cef7-4df5-8ab0-e63f6576a2f1",
   "metadata": {},
   "outputs": [
    {
     "name": "stdout",
     "output_type": "stream",
     "text": [
      "[1, 2, 3, 'python']\n"
     ]
    }
   ],
   "source": [
    "num=[1,2,3]\n",
    "stg=[\"python\"]\n",
    "num.extend(stg)\n",
    "print(num)"
   ]
  },
  {
   "cell_type": "code",
   "execution_count": 6,
   "id": "aa925339-8e59-4019-a2f0-571b91ead8c3",
   "metadata": {},
   "outputs": [
    {
     "name": "stdout",
     "output_type": "stream",
     "text": [
      "[1, 2, 3, 4, 'python', 'apple']\n"
     ]
    }
   ],
   "source": [
    "num=[1,2,3,4]\n",
    "stg=[\"apple\"]\n",
    "num.extend(stg)\n",
    "num.insert(4,\"python\")\n",
    "print(num)"
   ]
  },
  {
   "cell_type": "code",
   "execution_count": 7,
   "id": "6e921fac-bd3d-4d53-900a-341f10130fee",
   "metadata": {},
   "outputs": [
    {
     "name": "stdout",
     "output_type": "stream",
     "text": [
      "['apple', 'banana', 'mango', 'strawberry']\n"
     ]
    }
   ],
   "source": [
    "num=[\"apple\",\"banana\",\"mango\",\"melon\",\"strawberry\"]\n",
    "num.remove(\"melon\")\n",
    "print(num)"
   ]
  },
  {
   "cell_type": "code",
   "execution_count": 8,
   "id": "d74dd396-1edc-4045-be80-d6cbe7b2e53a",
   "metadata": {},
   "outputs": [
    {
     "name": "stdout",
     "output_type": "stream",
     "text": [
      "['a', 'd', 'f', 'q', 'w']\n"
     ]
    }
   ],
   "source": [
    "a=[\"f\",\"q\",\"a\",\"d\",\"w\"]\n",
    "a.sort()\n",
    "print(a)"
   ]
  },
  {
   "cell_type": "code",
   "execution_count": 9,
   "id": "3932ca57-b185-4dd8-b6d7-fcd4e8a1162e",
   "metadata": {},
   "outputs": [
    {
     "name": "stdout",
     "output_type": "stream",
     "text": [
      "[6, 5, 4, 3, 2, 1]\n"
     ]
    }
   ],
   "source": [
    "a=[1,2,3,4,5,6]\n",
    "a.sort(reverse=True)\n",
    "print(a)"
   ]
  },
  {
   "cell_type": "code",
   "execution_count": 10,
   "id": "92a1d6da-04aa-411b-9ae0-818ac5626ee4",
   "metadata": {},
   "outputs": [
    {
     "name": "stdout",
     "output_type": "stream",
     "text": [
      "7\n"
     ]
    }
   ],
   "source": [
    "a=[1,2,4,6,8,2,6]\n",
    "print(len(a))"
   ]
  },
  {
   "cell_type": "code",
   "execution_count": 11,
   "id": "10ecfb1e-a942-4ceb-874a-68acd552280d",
   "metadata": {},
   "outputs": [
    {
     "name": "stdout",
     "output_type": "stream",
     "text": [
      "1\n"
     ]
    }
   ],
   "source": [
    "a=[1,2,4,6,8,2,6]\n",
    "print(min(a))"
   ]
  },
  {
   "cell_type": "code",
   "execution_count": 12,
   "id": "340f1f67-4e66-4aad-ba2a-c2a3a3f11e2e",
   "metadata": {},
   "outputs": [
    {
     "name": "stdout",
     "output_type": "stream",
     "text": [
      "8\n"
     ]
    }
   ],
   "source": [
    "a=[1,2,4,6,8,2,6]\n",
    "print(max(a))"
   ]
  },
  {
   "cell_type": "code",
   "execution_count": 13,
   "id": "350ddbc6-ba38-4892-9f5c-8578a043638b",
   "metadata": {},
   "outputs": [
    {
     "data": {
      "text/plain": [
       "15"
      ]
     },
     "execution_count": 13,
     "metadata": {},
     "output_type": "execute_result"
    }
   ],
   "source": [
    "a=[1,2,3,4,5]\n",
    "sum(a)"
   ]
  },
  {
   "cell_type": "code",
   "execution_count": 14,
   "id": "cad1bfac-8351-4902-9dbd-6b9ec0b7f3a2",
   "metadata": {},
   "outputs": [
    {
     "name": "stdout",
     "output_type": "stream",
     "text": [
      "31.5\n"
     ]
    }
   ],
   "source": [
    "a=[9,17,14,4,90,55]\n",
    "print(sum(a)/len(a))## for mean\n"
   ]
  },
  {
   "cell_type": "code",
   "execution_count": 15,
   "id": "760b509b-76d5-4ce4-8cbe-c65338311f75",
   "metadata": {},
   "outputs": [
    {
     "name": "stdout",
     "output_type": "stream",
     "text": [
      "[1, 2, 3, 4, 5, 6, 7, 8, 9, 10]\n",
      "[1, 3, 5, 7, 9]\n",
      "[2, 4, 6, 8, 10]\n"
     ]
    }
   ],
   "source": [
    "a=list(range(1,11))\n",
    "print(a)\n",
    "odd=a[::2]\n",
    "print(odd)\n",
    "even=a[1::2]\n",
    "print(even) "
   ]
  },
  {
   "cell_type": "code",
   "execution_count": 16,
   "id": "9b38e50a-d895-4d77-83f7-2300f89803b7",
   "metadata": {},
   "outputs": [
    {
     "name": "stdout",
     "output_type": "stream",
     "text": [
      "1 <class 'int'>\n"
     ]
    }
   ],
   "source": [
    "x=True\n",
    "y=int(x)\n",
    "print(y,type(y))"
   ]
  },
  {
   "cell_type": "code",
   "execution_count": 17,
   "id": "260d43c6-b030-4726-8113-783bd4de4de2",
   "metadata": {},
   "outputs": [
    {
     "name": "stdout",
     "output_type": "stream",
     "text": [
      "1.0\n"
     ]
    }
   ],
   "source": [
    "x=True\n",
    "b=float(x)\n",
    "print(b)"
   ]
  },
  {
   "cell_type": "code",
   "execution_count": 18,
   "id": "9d69704a-065b-47da-950e-a0f3a9f7014d",
   "metadata": {},
   "outputs": [
    {
     "name": "stdout",
     "output_type": "stream",
     "text": [
      "(7.7+0j) <class 'complex'>\n"
     ]
    }
   ],
   "source": [
    "y=complex(7.7)\n",
    "print(y,type(y))"
   ]
  },
  {
   "cell_type": "code",
   "execution_count": 19,
   "id": "cc44d63a-1ae2-49dd-aa6c-f709918fea1b",
   "metadata": {},
   "outputs": [
    {
     "name": "stdout",
     "output_type": "stream",
     "text": [
      "(1+0j) <class 'complex'>\n"
     ]
    }
   ],
   "source": [
    "x=complex(True)\n",
    "print(x,type(x))"
   ]
  },
  {
   "cell_type": "code",
   "execution_count": 20,
   "id": "b604d40a-aeea-44bc-93c1-1110f69c6471",
   "metadata": {},
   "outputs": [
    {
     "name": "stdout",
     "output_type": "stream",
     "text": [
      "0j <class 'complex'>\n"
     ]
    }
   ],
   "source": [
    "s=complex(False)\n",
    "print(s,type(s))"
   ]
  },
  {
   "cell_type": "code",
   "execution_count": 21,
   "id": "f3102865-9435-4582-9872-5885b8149068",
   "metadata": {},
   "outputs": [
    {
     "name": "stdout",
     "output_type": "stream",
     "text": [
      "123 <class 'str'>\n"
     ]
    }
   ],
   "source": [
    "x=123\n",
    "s=str(x)\n",
    "print(s,type(s))"
   ]
  },
  {
   "cell_type": "code",
   "execution_count": 22,
   "id": "b8417ead-a67a-4a0a-b469-144c5714bc96",
   "metadata": {},
   "outputs": [
    {
     "name": "stdout",
     "output_type": "stream",
     "text": [
      "1 2 3 4 5 6 "
     ]
    }
   ],
   "source": [
    "x=[1,2,3,4,5,6]\n",
    "i=0\n",
    "while i<len(x):\n",
    "    print(x[i], end=\" \")\n",
    "    i+=1"
   ]
  },
  {
   "cell_type": "code",
   "execution_count": 23,
   "id": "98cc695d-871f-4042-aeeb-9890e7ead9a3",
   "metadata": {},
   "outputs": [
    {
     "name": "stdout",
     "output_type": "stream",
     "text": [
      "value found\n"
     ]
    }
   ],
   "source": [
    "a=[10,20,30]\n",
    "for i in a:\n",
    "    if i==30:\n",
    "         print(\"value found\")\n",
    "         break\n",
    "else:\n",
    "         print(\"value not found\")"
   ]
  },
  {
   "cell_type": "code",
   "execution_count": 24,
   "id": "c7fac8da-6565-4226-a601-3fad69217065",
   "metadata": {},
   "outputs": [
    {
     "name": "stdout",
     "output_type": "stream",
     "text": [
      "True\n"
     ]
    }
   ],
   "source": [
    "a=[10,20,30]\n",
    "print(30 in a)"
   ]
  },
  {
   "cell_type": "code",
   "execution_count": 25,
   "id": "ddfdd1ba-fb33-4aa6-85fc-f7f49820d127",
   "metadata": {},
   "outputs": [
    {
     "data": {
      "text/plain": [
       "2"
      ]
     },
     "execution_count": 25,
     "metadata": {},
     "output_type": "execute_result"
    }
   ],
   "source": [
    "a.index(30)"
   ]
  },
  {
   "cell_type": "code",
   "execution_count": 26,
   "id": "8c7db46a-671a-44f6-b833-9810e1ad3f6f",
   "metadata": {},
   "outputs": [
    {
     "name": "stdout",
     "output_type": "stream",
     "text": [
      "2\n"
     ]
    }
   ],
   "source": [
    "for i in range(len(a)):\n",
    "    if a[i]==30:\n",
    "        print(i)\n",
    "        break"
   ]
  },
  {
   "cell_type": "code",
   "execution_count": 27,
   "id": "55178f4d-ef06-4c62-8cf2-f344214e0f80",
   "metadata": {},
   "outputs": [
    {
     "data": {
      "text/plain": [
       "20"
      ]
     },
     "execution_count": 27,
     "metadata": {},
     "output_type": "execute_result"
    }
   ],
   "source": [
    "li=[10,20,43,42,31,76,32,87,23,5,7,2,80,38,50,27,48,15,20,24]\n",
    "len(li)"
   ]
  },
  {
   "cell_type": "code",
   "execution_count": 28,
   "id": "6a7cbae4-a959-491f-b3ba-14de3e01b7c9",
   "metadata": {},
   "outputs": [
    {
     "data": {
      "text/plain": [
       "48"
      ]
     },
     "execution_count": 28,
     "metadata": {},
     "output_type": "execute_result"
    }
   ],
   "source": [
    "li[len(li)-4]"
   ]
  },
  {
   "cell_type": "code",
   "execution_count": 29,
   "id": "3dd4dd81-5059-4a89-b3e1-06cc0dc1b7c4",
   "metadata": {},
   "outputs": [
    {
     "data": {
      "text/plain": [
       "10"
      ]
     },
     "execution_count": 29,
     "metadata": {},
     "output_type": "execute_result"
    }
   ],
   "source": [
    "li[-len(li)]"
   ]
  },
  {
   "cell_type": "code",
   "execution_count": 30,
   "id": "3ee8c2a6-f31f-464c-a0de-1035b6eea3a3",
   "metadata": {},
   "outputs": [
    {
     "data": {
      "text/plain": [
       "[1, 'ABC', 67.2, 'z', 'B', 'Y', 'E']"
      ]
     },
     "execution_count": 30,
     "metadata": {},
     "output_type": "execute_result"
    }
   ],
   "source": [
    "info=[1,\"ABC\",67.2,'z']\n",
    "st=(\"BYE\")\n",
    "info.extend(st)\n",
    "info"
   ]
  },
  {
   "cell_type": "code",
   "execution_count": 31,
   "id": "604ebaf6-d940-4445-bd78-123826f0f2e0",
   "metadata": {},
   "outputs": [
    {
     "data": {
      "text/plain": [
       "[1, 'ABC', 67.2, 'z', 'B', 'Y', 'E', 'h', 'e', 'l', 'l', 'o']"
      ]
     },
     "execution_count": 31,
     "metadata": {},
     "output_type": "execute_result"
    }
   ],
   "source": [
    "info+=\"hello\"\n",
    "info"
   ]
  },
  {
   "cell_type": "code",
   "execution_count": 32,
   "id": "7b3a9d6d-29bd-4a5e-ad5b-ff362b12b61c",
   "metadata": {},
   "outputs": [
    {
     "data": {
      "text/plain": [
       "[1,\n",
       " 'ABC',\n",
       " 67.2,\n",
       " 'z',\n",
       " 'B',\n",
       " 'Y',\n",
       " 'E',\n",
       " 'h',\n",
       " 'e',\n",
       " 'l',\n",
       " 'l',\n",
       " 'o',\n",
       " 1,\n",
       " 'ABC',\n",
       " 67.2,\n",
       " 'z',\n",
       " 'B',\n",
       " 'Y',\n",
       " 'E',\n",
       " 'h',\n",
       " 'e',\n",
       " 'l',\n",
       " 'l',\n",
       " 'o']"
      ]
     },
     "execution_count": 32,
     "metadata": {},
     "output_type": "execute_result"
    }
   ],
   "source": [
    "info*=2\n",
    "info"
   ]
  },
  {
   "cell_type": "code",
   "execution_count": 33,
   "id": "6a698ada-9bfc-4a5a-babb-89d6855a3fac",
   "metadata": {},
   "outputs": [
    {
     "name": "stdout",
     "output_type": "stream",
     "text": [
      "[1, 'XYZ', 67.2, 'z', 'B', 'Y', 'E', 'h', 'e', 'l', 'l', 'o', 1, 'ABC', 67.2, 'z', 'B', 'Y', 'E', 'h', 'e', 'l', 'l', 'o']\n"
     ]
    }
   ],
   "source": [
    "info[1]=\"XYZ\"\n",
    "print(info)"
   ]
  },
  {
   "cell_type": "code",
   "execution_count": 34,
   "id": "77b3a377-149a-4991-9d95-9767b18ef26a",
   "metadata": {},
   "outputs": [
    {
     "data": {
      "text/plain": [
       "[1, 'XYZ', 67.2]"
      ]
     },
     "execution_count": 34,
     "metadata": {},
     "output_type": "execute_result"
    }
   ],
   "source": [
    "info[0:3]"
   ]
  },
  {
   "cell_type": "code",
   "execution_count": 35,
   "id": "4e138957-3b51-4276-894c-8861aba0d573",
   "metadata": {},
   "outputs": [
    {
     "data": {
      "text/plain": [
       "[]"
      ]
     },
     "execution_count": 35,
     "metadata": {},
     "output_type": "execute_result"
    }
   ],
   "source": [
    "info[:0]"
   ]
  },
  {
   "cell_type": "code",
   "execution_count": 36,
   "id": "9ee799d0-9658-4561-bb67-c695f90c8b18",
   "metadata": {},
   "outputs": [
    {
     "data": {
      "text/plain": [
       "[1]"
      ]
     },
     "execution_count": 36,
     "metadata": {},
     "output_type": "execute_result"
    }
   ],
   "source": [
    "info[:1]"
   ]
  },
  {
   "cell_type": "code",
   "execution_count": 37,
   "id": "9b06e9ce-295f-4348-b628-cb0e896bfad1",
   "metadata": {},
   "outputs": [
    {
     "data": {
      "text/plain": [
       "[1, 'XYZ']"
      ]
     },
     "execution_count": 37,
     "metadata": {},
     "output_type": "execute_result"
    }
   ],
   "source": [
    "info[:2]"
   ]
  },
  {
   "cell_type": "code",
   "execution_count": 40,
   "id": "1790a774-28e7-4143-b423-a619760a409c",
   "metadata": {},
   "outputs": [
    {
     "name": "stdout",
     "output_type": "stream",
     "text": [
      "[5, 4, 3, 2, 1]\n"
     ]
    }
   ],
   "source": [
    "a=[1,2,3,4,5]\n",
    "print(a[::-1])"
   ]
  },
  {
   "cell_type": "code",
   "execution_count": 41,
   "id": "7784fc56-51d8-4db9-960e-d2c05254bfd5",
   "metadata": {},
   "outputs": [
    {
     "name": "stdout",
     "output_type": "stream",
     "text": [
      "['898987868', 8.58]\n"
     ]
    }
   ],
   "source": [
    "student=[2,\"STU\",8.58,\"Female\",\"India\",\"898987868\"]\n",
    "print(student[-1::-3])"
   ]
  },
  {
   "cell_type": "code",
   "execution_count": 45,
   "id": "7cb8d023-bf1b-43fa-8890-89adc3cbfbff",
   "metadata": {},
   "outputs": [
    {
     "name": "stdout",
     "output_type": "stream",
     "text": [
      "['123', 8.58, 'India']\n"
     ]
    }
   ],
   "source": [
    "print(student[::2])"
   ]
  },
  {
   "cell_type": "code",
   "execution_count": 52,
   "id": "d57375f8-3d48-4194-a859-58f4c64a1b3a",
   "metadata": {},
   "outputs": [
    {
     "name": "stdin",
     "output_type": "stream",
     "text": [
      " 56\n"
     ]
    },
    {
     "name": "stdout",
     "output_type": "stream",
     "text": [
      "[56, 56, 56, 56, 56, 56, 56, 56, 56, 56, 56, 56, 56, 56, 56, 56, 56, 56, 56, 56, 56, 56, 56, 56, 56, 56, 56, 56, 56, 56, 56, 56, 56, 56, 56, 56, 56, 56, 56, 56, 56, 56, 56, 56, 56, 56, 56, 56, 56, 56, 56, 56, 56, 56, 56, 56, 56, 56, 56, 56, 56, 56, 56, 56, 56, 56, 56, 56, 56, 56, 56, 56, 56, 56, 56, 56, 56, 56, 56, 56, 56, 56, 56, 56, 56, 56, 56, 56, 56, 56, 56, 56, 56, 56, 56, 56, 56, 56, 56, 56, 56]\n"
     ]
    }
   ],
   "source": [
    "a=int(input())\n",
    "li=[]\n",
    "for i in range(100+1):\n",
    "    li.append(a)\n",
    "\n",
    "print(li)"
   ]
  },
  {
   "cell_type": "code",
   "execution_count": 1,
   "id": "8cb9ce7e-52c0-47f4-a4f4-dd74833fe27c",
   "metadata": {},
   "outputs": [
    {
     "name": "stdout",
     "output_type": "stream",
     "text": [
      "1\n",
      "3\n",
      "5\n",
      "7\n",
      "9\n"
     ]
    }
   ],
   "source": [
    "for i in range(1,11,2):\n",
    "    print(i)"
   ]
  },
  {
   "cell_type": "code",
   "execution_count": 16,
   "id": "cb2ff2b1-10fa-42f7-b122-288833ff07a9",
   "metadata": {},
   "outputs": [
    {
     "name": "stdout",
     "output_type": "stream",
     "text": [
      "[1, 3, 5, 7, 9]\n"
     ]
    }
   ],
   "source": [
    "a = [1,2,3,4,5,6,7,8,9,10]\n",
    "a_odd=a[::2]\n",
    "print(a_odd)\n",
    "        \n"
   ]
  },
  {
   "cell_type": "code",
   "execution_count": 15,
   "id": "5c540bce-d8c5-425e-8aa0-48bfa49152f1",
   "metadata": {},
   "outputs": [
    {
     "name": "stdout",
     "output_type": "stream",
     "text": [
      "[2, 4, 6, 8, 10]\n"
     ]
    }
   ],
   "source": [
    "b = [1,2,3,4,5,6,7,8,9,10]\n",
    "b_even=b[1:len(b)+1:2]\n",
    "print(b_even)"
   ]
  },
  {
   "cell_type": "code",
   "execution_count": 23,
   "id": "0dc7dc5d-6104-4af0-8e33-759023ac8ed1",
   "metadata": {},
   "outputs": [
    {
     "name": "stdin",
     "output_type": "stream",
     "text": [
      " ABBAS\n"
     ]
    },
    {
     "name": "stdout",
     "output_type": "stream",
     "text": [
      "['A', 'B', 'B', 'A', 'S']\n"
     ]
    }
   ],
   "source": [
    "a=(input())\n",
    "x=[]\n",
    "for i in a:\n",
    "    x.append(i)\n",
    "\n",
    "\n",
    "print(x)\n",
    "    \n",
    "\n",
    "\n",
    "\n",
    "    "
   ]
  },
  {
   "cell_type": "code",
   "execution_count": 26,
   "id": "a29fcaa6-1b47-4c2b-b0d0-263d7a5e5d9d",
   "metadata": {},
   "outputs": [
    {
     "name": "stdin",
     "output_type": "stream",
     "text": [
      " abbas\n"
     ]
    },
    {
     "name": "stdout",
     "output_type": "stream",
     "text": [
      "['a', 'b', 'b', 'a', 's']\n"
     ]
    }
   ],
   "source": [
    "st=input()\n",
    "l2=[]\n",
    "l2+=st\n",
    "print(l2)"
   ]
  },
  {
   "cell_type": "code",
   "execution_count": 2,
   "id": "ae3ff37c-50b0-4c3b-aa73-2a292de4cc81",
   "metadata": {},
   "outputs": [
    {
     "name": "stdout",
     "output_type": "stream",
     "text": [
      "542\n"
     ]
    }
   ],
   "source": [
    "a=[1,34,43,542,34,33]\n",
    "print(max(a))\n"
   ]
  },
  {
   "cell_type": "code",
   "execution_count": 17,
   "id": "8363d26f-7559-4dc4-aac7-35aa5eea522b",
   "metadata": {},
   "outputs": [
    {
     "name": "stdin",
     "output_type": "stream",
     "text": [
      "Enter numbers separated by spaces:  10 20 30\n"
     ]
    },
    {
     "name": "stdout",
     "output_type": "stream",
     "text": [
      "The sum is: 60\n"
     ]
    }
   ],
   "source": [
    "a = list(map(int, input(\"Enter numbers separated by spaces: \").split()))\n",
    "print(\"The sum is:\", sum(a))\n"
   ]
  },
  {
   "cell_type": "code",
   "execution_count": 14,
   "id": "b489e0da-06e9-4a93-95f9-08aa38e170f5",
   "metadata": {},
   "outputs": [
    {
     "name": "stdin",
     "output_type": "stream",
     "text": [
      "Enter numbers separated by spaces:  10 20 221\n"
     ]
    },
    {
     "name": "stdout",
     "output_type": "stream",
     "text": [
      "The sum is: 221\n"
     ]
    }
   ],
   "source": [
    "a = list(map(int, input(\"Enter numbers separated by spaces: \").split()))\n",
    "print(\"The sum is:\", max(a))\n"
   ]
  },
  {
   "cell_type": "code",
   "execution_count": 16,
   "id": "f3d2bdfb-6d84-4c5d-a632-83e8414856d2",
   "metadata": {},
   "outputs": [
    {
     "name": "stdin",
     "output_type": "stream",
     "text": [
      "Enter the numbers with spaces between: 10 10 30 20\n"
     ]
    },
    {
     "name": "stdout",
     "output_type": "stream",
     "text": [
      "The second largest number is 20\n"
     ]
    }
   ],
   "source": [
    "a=list(map(int, input(\"Enter the numbers with spaces between:\").split()))\n",
    "a=list(set(a))\n",
    "a.sort\n",
    "if len(a)>1:\n",
    "    print(\"The second largest number is\",a[-2])\n",
    "else:\n",
    "    print(\"There is no second largest number\")"
   ]
  },
  {
   "cell_type": "code",
   "execution_count": 1,
   "id": "165492d9-7521-414c-8747-e3194bde7340",
   "metadata": {},
   "outputs": [
    {
     "name": "stdin",
     "output_type": "stream",
     "text": [
      "Enter the numbers with spaces between: 5 3 3 3 78 90\n"
     ]
    },
    {
     "name": "stdout",
     "output_type": "stream",
     "text": [
      "The number of distinct elements is:- 4\n"
     ]
    }
   ],
   "source": [
    "a=list(map(int, input(\"Enter the numbers with spaces between:\").split()))\n",
    "distinct_count=len(set(a))\n",
    "print(\"The number of distinct elements is:-\",distinct_count)"
   ]
  },
  {
   "cell_type": "code",
   "execution_count": 23,
   "id": "e1d2ccb8-4c05-4053-befd-63c2238ca8cd",
   "metadata": {},
   "outputs": [
    {
     "name": "stdout",
     "output_type": "stream",
     "text": [
      "['apple', 'banana', 'mango']\n"
     ]
    }
   ],
   "source": [
    "fruits=[\"apple\",\"banana\",\"cherry\",\"mango\"]\n",
    "newlist=[z for z in fruits if \"a\" in z]\n",
    "print(newlist)"
   ]
  },
  {
   "cell_type": "code",
   "execution_count": 28,
   "id": "955cba65-2f7b-4d14-a9bd-b1df40ad6811",
   "metadata": {},
   "outputs": [
    {
     "name": "stdin",
     "output_type": "stream",
     "text": [
      " 10 20 30\n"
     ]
    },
    {
     "name": "stdout",
     "output_type": "stream",
     "text": [
      "Numbers of lists is : [10, 20, 30]\n"
     ]
    }
   ],
   "source": [
    "x=[int(x) for x in input().split()]\n",
    "print(\"Numbers of lists is :\" ,x)"
   ]
  },
  {
   "cell_type": "code",
   "execution_count": 9,
   "id": "58f916e3-2500-4510-9e3e-1c56d3ebd342",
   "metadata": {},
   "outputs": [
    {
     "name": "stdin",
     "output_type": "stream",
     "text": [
      "Enter the numbers with spaces between: 10 10 10 30 40 \n"
     ]
    },
    {
     "name": "stdout",
     "output_type": "stream",
     "text": [
      "3\n"
     ]
    }
   ],
   "source": [
    "a=list(map(int, input(\"Enter the numbers with spaces between:\").split()))\n",
    "dist=len(set(a))\n",
    "b=len(a)\n",
    "re=b-dist+1\n",
    "print(re)\n",
    "\n"
   ]
  },
  {
   "cell_type": "code",
   "execution_count": 13,
   "id": "54546b57-43cc-469f-9b5c-96ad5bbe0da9",
   "metadata": {},
   "outputs": [
    {
     "name": "stdin",
     "output_type": "stream",
     "text": [
      "Enter the number with spaces  10 20 30 40\n"
     ]
    },
    {
     "name": "stdout",
     "output_type": "stream",
     "text": [
      "[40, 20, 30, 10]\n"
     ]
    }
   ],
   "source": [
    "l2=list(map(int, input(\"Enter the number with spaces \").split()))\n",
    "l2[0]=l2[0]+l2[-1]\n",
    "l2[-1]=l2[0]-l2[-1]\n",
    "l2[0]=l2[0]-l2[-1]\n",
    "print(l2)"
   ]
  },
  {
   "cell_type": "code",
   "execution_count": null,
   "id": "4e4d242c-aee5-4c11-96c7-034639a8771f",
   "metadata": {},
   "outputs": [],
   "source": []
  }
 ],
 "metadata": {
  "kernelspec": {
   "display_name": "Python 3 (ipykernel)",
   "language": "python",
   "name": "python3"
  },
  "language_info": {
   "codemirror_mode": {
    "name": "ipython",
    "version": 3
   },
   "file_extension": ".py",
   "mimetype": "text/x-python",
   "name": "python",
   "nbconvert_exporter": "python",
   "pygments_lexer": "ipython3",
   "version": "3.12.2"
  }
 },
 "nbformat": 4,
 "nbformat_minor": 5
}
