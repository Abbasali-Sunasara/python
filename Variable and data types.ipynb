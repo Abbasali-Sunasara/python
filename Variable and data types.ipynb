{
 "cells": [
  {
   "cell_type": "code",
   "execution_count": 1,
   "id": "c2f43113-afae-4666-82c0-58fbea3e9079",
   "metadata": {},
   "outputs": [
    {
     "name": "stdout",
     "output_type": "stream",
     "text": [
      "22\n"
     ]
    }
   ],
   "source": [
    "a=10\n",
    "b=12\n",
    "print(a+b)"
   ]
  },
  {
   "cell_type": "markdown",
   "id": "d8aeadbc-b63f-46af-9b02-c85284dbda78",
   "metadata": {},
   "source": [
    "## Constant"
   ]
  },
  {
   "cell_type": "code",
   "execution_count": 2,
   "id": "51667408-b805-47a4-ac90-0d9c29016b1f",
   "metadata": {},
   "outputs": [],
   "source": [
    "import math"
   ]
  },
  {
   "cell_type": "code",
   "execution_count": 3,
   "id": "67109177-2a9a-4a4d-a24b-bed9ebbcbebf",
   "metadata": {},
   "outputs": [
    {
     "data": {
      "text/plain": [
       "2.718281828459045"
      ]
     },
     "execution_count": 3,
     "metadata": {},
     "output_type": "execute_result"
    }
   ],
   "source": [
    "math.e"
   ]
  },
  {
   "cell_type": "code",
   "execution_count": 4,
   "id": "5d42ee62-7d5c-4152-af87-599c03ad203b",
   "metadata": {},
   "outputs": [
    {
     "data": {
      "text/plain": [
       "3.141592653589793"
      ]
     },
     "execution_count": 4,
     "metadata": {},
     "output_type": "execute_result"
    }
   ],
   "source": [
    "math.pi"
   ]
  },
  {
   "cell_type": "code",
   "execution_count": 5,
   "id": "893f9343-e1bc-444c-99ee-4702e5d0ace0",
   "metadata": {},
   "outputs": [
    {
     "data": {
      "text/plain": [
       "inf"
      ]
     },
     "execution_count": 5,
     "metadata": {},
     "output_type": "execute_result"
    }
   ],
   "source": [
    "math.inf"
   ]
  },
  {
   "cell_type": "code",
   "execution_count": 6,
   "id": "85b89e77-5c91-43d2-b04c-7ade8eaf3dac",
   "metadata": {},
   "outputs": [
    {
     "data": {
      "text/plain": [
       "6.283185307179586"
      ]
     },
     "execution_count": 6,
     "metadata": {},
     "output_type": "execute_result"
    }
   ],
   "source": [
    "math.tau"
   ]
  },
  {
   "cell_type": "code",
   "execution_count": 7,
   "id": "42a8f5e5-c131-42f4-b036-fe1d6b8b4698",
   "metadata": {},
   "outputs": [
    {
     "data": {
      "text/plain": [
       "nan"
      ]
     },
     "execution_count": 7,
     "metadata": {},
     "output_type": "execute_result"
    }
   ],
   "source": [
    "math.nan"
   ]
  },
  {
   "cell_type": "code",
   "execution_count": 8,
   "id": "f7edf37d-a07c-4f4c-b961-88c2c41c25b0",
   "metadata": {},
   "outputs": [
    {
     "name": "stdin",
     "output_type": "stream",
     "text": [
      "write the radius 10\n"
     ]
    },
    {
     "name": "stdout",
     "output_type": "stream",
     "text": [
      "314.0\n"
     ]
    }
   ],
   "source": [
    "r=int(input(\"write the radius\"))\n",
    "p=3.14\n",
    "print(p*r*r)"
   ]
  },
  {
   "cell_type": "code",
   "execution_count": 9,
   "id": "fbbd3081-8d1a-44ac-86fa-14b0d7a1e490",
   "metadata": {},
   "outputs": [],
   "source": [
    "## print the constant infinite value of positive and negative"
   ]
  },
  {
   "cell_type": "code",
   "execution_count": 14,
   "id": "771e0e4c-e57c-4f69-b4d8-d2b1ee2cb43d",
   "metadata": {},
   "outputs": [
    {
     "name": "stdout",
     "output_type": "stream",
     "text": [
      "2337.5\n"
     ]
    }
   ],
   "source": [
    "amt= 5000\n",
    "roi=8.5\n",
    "tm=5.5\n",
    "si= (amt*roi*tm)/100\n",
    "print(si)"
   ]
  },
  {
   "cell_type": "code",
   "execution_count": 15,
   "id": "a48ad83f-9a32-4e09-96be-d65208d4bba8",
   "metadata": {},
   "outputs": [
    {
     "name": "stdout",
     "output_type": "stream",
     "text": [
      "(10.1+14j)\n"
     ]
    }
   ],
   "source": [
    "a=7+8j\n",
    "b=3.1+6j\n",
    "print(a+b)"
   ]
  },
  {
   "cell_type": "code",
   "execution_count": 21,
   "id": "4dd557bd-9926-4306-bdc6-35045881d83e",
   "metadata": {},
   "outputs": [
    {
     "name": "stdout",
     "output_type": "stream",
     "text": [
      "False\n",
      "True\n",
      "False\n"
     ]
    }
   ],
   "source": [
    "x,y,z=5,0,9\n",
    "print(y>z)\n",
    "print(x<z)\n",
    "print(y==x)"
   ]
  },
  {
   "cell_type": "code",
   "execution_count": 25,
   "id": "80d7d4f1-957a-41ab-b5d7-c0d66e75d4a6",
   "metadata": {},
   "outputs": [
    {
     "name": "stdout",
     "output_type": "stream",
     "text": [
      "<class 'int'>\n",
      "<class 'float'>\n",
      "<class 'str'>\n",
      "<class 'complex'>\n"
     ]
    }
   ],
   "source": [
    "a=100\n",
    "b=23.5\n",
    "c=\"ABC\"\n",
    "d=1j\n",
    "print(type(a))\n",
    "print(type(b))\n",
    "print(type(c))\n",
    "print(type(d))"
   ]
  },
  {
   "cell_type": "code",
   "execution_count": 26,
   "id": "dba291e4-9235-4e41-9054-b144c5dbf021",
   "metadata": {},
   "outputs": [
    {
     "name": "stdout",
     "output_type": "stream",
     "text": [
      "Abbasli\n"
     ]
    }
   ],
   "source": [
    "str=\"Abbasli\"\n",
    "print(str)"
   ]
  },
  {
   "cell_type": "code",
   "execution_count": 28,
   "id": "7b32faad-9a00-4949-9468-96dc5ac76eaa",
   "metadata": {},
   "outputs": [
    {
     "name": "stdout",
     "output_type": "stream",
     "text": [
      "'\"yes\",he said.'\n"
     ]
    }
   ],
   "source": [
    "print('\\'\"yes\",he said.\\'')"
   ]
  },
  {
   "cell_type": "code",
   "execution_count": 30,
   "id": "7f01869d-612b-4838-93c0-af28ae743baa",
   "metadata": {},
   "outputs": [
    {
     "name": "stdout",
     "output_type": "stream",
     "text": [
      "First line.\n",
      "Secosnd line.\n"
     ]
    }
   ],
   "source": [
    "s=\"First line.\\nSecosnd line.\"\n",
    "print(s)"
   ]
  },
  {
   "cell_type": "code",
   "execution_count": 31,
   "id": "80713f19-9567-4eca-b6a1-997b7977e73f",
   "metadata": {},
   "outputs": [
    {
     "name": "stdout",
     "output_type": "stream",
     "text": [
      "<class 'int'>\n"
     ]
    }
   ],
   "source": [
    "E=180.5\n",
    "s=int(E)\n",
    "print(type(s))"
   ]
  },
  {
   "cell_type": "code",
   "execution_count": 33,
   "id": "38b057e1-98cc-49e5-b9ea-e82f738ebf08",
   "metadata": {},
   "outputs": [
    {
     "name": "stdout",
     "output_type": "stream",
     "text": [
      "<class 'int'>\n"
     ]
    }
   ],
   "source": [
    "voting_age=int(\"18\")\n",
    "print(type(voting_age))"
   ]
  },
  {
   "cell_type": "code",
   "execution_count": 41,
   "id": "87acdfa9-8f14-40d2-b095-980f1702064a",
   "metadata": {},
   "outputs": [
    {
     "name": "stdout",
     "output_type": "stream",
     "text": [
      "<class 'float'>\n",
      "<class 'int'>\n"
     ]
    }
   ],
   "source": [
    "i, j, k = 1, 5.5, 6j\n",
    "x = float(i)\n",
    "y = int(j)\n",
    "print(type(x))\n",
    "print(type(y))\n",
    "\n"
   ]
  },
  {
   "cell_type": "code",
   "execution_count": 1,
   "id": "bf0219b6-ee02-4044-92a1-2119576136d7",
   "metadata": {},
   "outputs": [
    {
     "name": "stdout",
     "output_type": "stream",
     "text": [
      "<class 'int'>\n"
     ]
    }
   ],
   "source": [
    "E = 180.5\n",
    "S = int(E)\n",
    "print(type(S))"
   ]
  },
  {
   "cell_type": "code",
   "execution_count": null,
   "id": "18a4d8ab-f6c9-4590-b03d-27852216fb4a",
   "metadata": {},
   "outputs": [],
   "source": []
  }
 ],
 "metadata": {
  "kernelspec": {
   "display_name": "Python 3 (ipykernel)",
   "language": "python",
   "name": "python3"
  },
  "language_info": {
   "codemirror_mode": {
    "name": "ipython",
    "version": 3
   },
   "file_extension": ".py",
   "mimetype": "text/x-python",
   "name": "python",
   "nbconvert_exporter": "python",
   "pygments_lexer": "ipython3",
   "version": "3.12.2"
  }
 },
 "nbformat": 4,
 "nbformat_minor": 5
}
