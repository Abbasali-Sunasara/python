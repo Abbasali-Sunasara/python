{
 "cells": [
  {
   "cell_type": "markdown",
   "id": "c5a60b7e-b920-4601-b818-499bb2306c4a",
   "metadata": {},
   "source": [
    "### Write the program to find characters and digits in a string"
   ]
  },
  {
   "cell_type": "code",
   "execution_count": null,
   "id": "ab92ad16-19d1-4c44-bcc7-142f5c13a676",
   "metadata": {},
   "outputs": [],
   "source": [
    "s=int(input(\"Enter the string\"))\n",
    "dig=0\n",
    "alphabet=0\n",
    "for i in x:\n",
    "    if i.isdigit():\n",
    "        digit+=1\n",
    "    elif i.isalpha():\n",
    "        alphabet+=1\n",
    "\n",
    "print(\"\")\n",
    "\n",
    "    "
   ]
  }
 ],
 "metadata": {
  "kernelspec": {
   "display_name": "Python 3 (ipykernel)",
   "language": "python",
   "name": "python3"
  },
  "language_info": {
   "codemirror_mode": {
    "name": "ipython",
    "version": 3
   },
   "file_extension": ".py",
   "mimetype": "text/x-python",
   "name": "python",
   "nbconvert_exporter": "python",
   "pygments_lexer": "ipython3",
   "version": "3.12.2"
  }
 },
 "nbformat": 4,
 "nbformat_minor": 5
}
