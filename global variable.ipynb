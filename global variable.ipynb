{
 "cells": [
  {
   "cell_type": "code",
   "execution_count": 2,
   "id": "aa5c2e70-a6fd-403c-bafa-5a7bf3e01216",
   "metadata": {},
   "outputs": [
    {
     "name": "stdout",
     "output_type": "stream",
     "text": [
      "local total = 30\n",
      "global total= 0\n"
     ]
    }
   ],
   "source": [
    "total=0;\n",
    "def sum(ar1,ar2):\n",
    "    total=ar1+ar2\n",
    "    print(\"local total =\",total)\n",
    "    return total\n",
    "sum(10,20)\n",
    "print(\"global total=\",total)"
   ]
  },
  {
   "cell_type": "code",
   "execution_count": null,
   "id": "213e6dbe-264c-4d00-98b6-55dd0563ca1f",
   "metadata": {},
   "outputs": [],
   "source": []
  }
 ],
 "metadata": {
  "kernelspec": {
   "display_name": "Python 3 (ipykernel)",
   "language": "python",
   "name": "python3"
  },
  "language_info": {
   "codemirror_mode": {
    "name": "ipython",
    "version": 3
   },
   "file_extension": ".py",
   "mimetype": "text/x-python",
   "name": "python",
   "nbconvert_exporter": "python",
   "pygments_lexer": "ipython3",
   "version": "3.12.2"
  }
 },
 "nbformat": 4,
 "nbformat_minor": 5
}
